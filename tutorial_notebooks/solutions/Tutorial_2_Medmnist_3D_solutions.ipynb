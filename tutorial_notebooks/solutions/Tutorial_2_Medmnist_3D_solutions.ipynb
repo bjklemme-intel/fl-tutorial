{
 "cells": [
  {
   "cell_type": "markdown",
   "id": "ee73e205-d273-4b6c-878a-5ea958bfe267",
   "metadata": {
    "id": "ee73e205-d273-4b6c-878a-5ea958bfe267"
   },
   "source": [
    "# Federated Learning with SynapseMNIST3D Dataset\n",
    "[![Open In Colab](https://colab.research.google.com/assets/colab-badge.svg)](https://colab.research.google.com/github/intel/fl-tutorial/blob/gh-pages/tutorial_notebooks/solutions/Tutorial_2_Medmnist_3D_solutions.ipynb)"
   ]
  },
  {
   "cell_type": "markdown",
   "id": "4aebb0bc",
   "metadata": {},
   "source": [
    "### Dependencies and Packages\n",
    "Let's get these out of the way first."
   ]
  },
  {
   "cell_type": "code",
   "execution_count": 1,
   "id": "c6fafe9e",
   "metadata": {
    "colab": {
     "base_uri": "https://localhost:8080/"
    },
    "id": "c6fafe9e",
    "outputId": "5e3fee4b-6bf6-4e0f-cca0-63f0826aaaaf"
   },
   "outputs": [
    {
     "name": "stdout",
     "output_type": "stream",
     "text": [
      "Requirement already satisfied: pip in /home/karan/workspace/fl-tutorial/venv/lib/python3.8/site-packages (22.2.2)\n",
      "Requirement already satisfied: tqdm in /home/karan/workspace/fl-tutorial/venv/lib/python3.8/site-packages (4.64.1)\n",
      "Requirement already satisfied: torch in /home/karan/workspace/fl-tutorial/venv/lib/python3.8/site-packages (1.8.2+cu111)\n",
      "Requirement already satisfied: torchvision in /home/karan/workspace/fl-tutorial/venv/lib/python3.8/site-packages (0.9.2+cu111)\n",
      "Requirement already satisfied: medmnist in /home/karan/workspace/fl-tutorial/venv/lib/python3.8/site-packages (2.1.0)\n",
      "Requirement already satisfied: acsconv in /home/karan/workspace/fl-tutorial/venv/lib/python3.8/site-packages (0.1.1)\n",
      "Requirement already satisfied: matplotlib in /home/karan/workspace/fl-tutorial/venv/lib/python3.8/site-packages (3.6.0)\n",
      "Requirement already satisfied: typing-extensions in /home/karan/workspace/fl-tutorial/venv/lib/python3.8/site-packages (from torch) (4.3.0)\n",
      "Requirement already satisfied: numpy in /home/karan/workspace/fl-tutorial/venv/lib/python3.8/site-packages (from torch) (1.21.0)\n",
      "Requirement already satisfied: pillow>=4.1.1 in /home/karan/workspace/fl-tutorial/venv/lib/python3.8/site-packages (from torchvision) (9.2.0)\n",
      "Requirement already satisfied: scikit-learn in /home/karan/workspace/fl-tutorial/venv/lib/python3.8/site-packages (from medmnist) (1.1.2)\n",
      "Requirement already satisfied: fire in /home/karan/workspace/fl-tutorial/venv/lib/python3.8/site-packages (from medmnist) (0.4.0)\n",
      "Requirement already satisfied: pandas in /home/karan/workspace/fl-tutorial/venv/lib/python3.8/site-packages (from medmnist) (1.4.4)\n",
      "Requirement already satisfied: scikit-image in /home/karan/workspace/fl-tutorial/venv/lib/python3.8/site-packages (from medmnist) (0.19.3)\n",
      "Requirement already satisfied: tensorboardx in /home/karan/workspace/fl-tutorial/venv/lib/python3.8/site-packages (from acsconv) (2.5.1)\n",
      "Requirement already satisfied: scipy in /home/karan/workspace/fl-tutorial/venv/lib/python3.8/site-packages (from acsconv) (1.9.1)\n",
      "Requirement already satisfied: pyparsing>=2.2.1 in /home/karan/workspace/fl-tutorial/venv/lib/python3.8/site-packages (from matplotlib) (3.0.9)\n",
      "Requirement already satisfied: cycler>=0.10 in /home/karan/workspace/fl-tutorial/venv/lib/python3.8/site-packages (from matplotlib) (0.11.0)\n",
      "Requirement already satisfied: contourpy>=1.0.1 in /home/karan/workspace/fl-tutorial/venv/lib/python3.8/site-packages (from matplotlib) (1.0.5)\n",
      "Requirement already satisfied: packaging>=20.0 in /home/karan/workspace/fl-tutorial/venv/lib/python3.8/site-packages (from matplotlib) (21.3)\n",
      "Requirement already satisfied: kiwisolver>=1.0.1 in /home/karan/workspace/fl-tutorial/venv/lib/python3.8/site-packages (from matplotlib) (1.4.4)\n",
      "Requirement already satisfied: python-dateutil>=2.7 in /home/karan/workspace/fl-tutorial/venv/lib/python3.8/site-packages (from matplotlib) (2.8.2)\n",
      "Requirement already satisfied: fonttools>=4.22.0 in /home/karan/workspace/fl-tutorial/venv/lib/python3.8/site-packages (from matplotlib) (4.37.2)\n",
      "Requirement already satisfied: six>=1.5 in /home/karan/workspace/fl-tutorial/venv/lib/python3.8/site-packages (from python-dateutil>=2.7->matplotlib) (1.16.0)\n",
      "Requirement already satisfied: termcolor in /home/karan/workspace/fl-tutorial/venv/lib/python3.8/site-packages (from fire->medmnist) (2.0.1)\n",
      "Requirement already satisfied: pytz>=2020.1 in /home/karan/workspace/fl-tutorial/venv/lib/python3.8/site-packages (from pandas->medmnist) (2022.2.1)\n",
      "Requirement already satisfied: PyWavelets>=1.1.1 in /home/karan/workspace/fl-tutorial/venv/lib/python3.8/site-packages (from scikit-image->medmnist) (1.4.0)\n",
      "Requirement already satisfied: imageio>=2.4.1 in /home/karan/workspace/fl-tutorial/venv/lib/python3.8/site-packages (from scikit-image->medmnist) (2.21.3)\n",
      "Requirement already satisfied: tifffile>=2019.7.26 in /home/karan/workspace/fl-tutorial/venv/lib/python3.8/site-packages (from scikit-image->medmnist) (2022.8.12)\n",
      "Requirement already satisfied: networkx>=2.2 in /home/karan/workspace/fl-tutorial/venv/lib/python3.8/site-packages (from scikit-image->medmnist) (2.8.6)\n",
      "Requirement already satisfied: joblib>=1.0.0 in /home/karan/workspace/fl-tutorial/venv/lib/python3.8/site-packages (from scikit-learn->medmnist) (1.2.0)\n",
      "Requirement already satisfied: threadpoolctl>=2.0.0 in /home/karan/workspace/fl-tutorial/venv/lib/python3.8/site-packages (from scikit-learn->medmnist) (3.1.0)\n",
      "Requirement already satisfied: protobuf<=3.20.1,>=3.8.0 in /home/karan/workspace/fl-tutorial/venv/lib/python3.8/site-packages (from tensorboardx->acsconv) (3.19.4)\n"
     ]
    }
   ],
   "source": [
    "!python -m pip install -U pip\n",
    "!python -m pip install tqdm torch torchvision medmnist acsconv matplotlib"
   ]
  },
  {
   "cell_type": "code",
   "execution_count": 2,
   "id": "c9c923a6",
   "metadata": {
    "colab": {
     "base_uri": "https://localhost:8080/"
    },
    "id": "c9c923a6",
    "outputId": "e8641589-6afe-40b8-fe6d-0dcd42828534",
    "scrolled": false
   },
   "outputs": [
    {
     "name": "stdout",
     "output_type": "stream",
     "text": [
      "Cloning into 'openfl'...\n",
      "remote: Enumerating objects: 5025, done.\u001b[K\n",
      "remote: Counting objects: 100% (434/434), done.\u001b[K\n",
      "remote: Compressing objects: 100% (327/327), done.\u001b[K\n",
      "remote: Total 5025 (delta 205), reused 274 (delta 91), pack-reused 4591\u001b[K\n",
      "Receiving objects: 100% (5025/5025), 118.37 MiB | 2.70 MiB/s, done.\n",
      "Resolving deltas: 100% (2893/2893), done.\n",
      "Processing /home/karan/workspace/fl-tutorial/tutorial_notebooks/solutions/openfl\n",
      "  Preparing metadata (setup.py) ... \u001b[?25ldone\n",
      "\u001b[?25hRequirement already satisfied: Click==8.0.1 in /home/karan/workspace/fl-tutorial/venv/lib/python3.8/site-packages (from openfl==1.4) (8.0.1)\n",
      "Requirement already satisfied: PyYAML>=5.4.1 in /home/karan/workspace/fl-tutorial/venv/lib/python3.8/site-packages (from openfl==1.4) (6.0)\n",
      "Requirement already satisfied: cloudpickle in /home/karan/workspace/fl-tutorial/venv/lib/python3.8/site-packages (from openfl==1.4) (2.2.0)\n",
      "Requirement already satisfied: cryptography>=3.4.6 in /home/karan/workspace/fl-tutorial/venv/lib/python3.8/site-packages (from openfl==1.4) (38.0.1)\n",
      "Requirement already satisfied: docker in /home/karan/workspace/fl-tutorial/venv/lib/python3.8/site-packages (from openfl==1.4) (6.0.0)\n",
      "Requirement already satisfied: dynaconf==3.1.7 in /home/karan/workspace/fl-tutorial/venv/lib/python3.8/site-packages (from openfl==1.4) (3.1.7)\n",
      "Requirement already satisfied: flatten_json in /home/karan/workspace/fl-tutorial/venv/lib/python3.8/site-packages (from openfl==1.4) (0.1.13)\n",
      "Requirement already satisfied: grpcio~=1.34.0 in /home/karan/workspace/fl-tutorial/venv/lib/python3.8/site-packages (from openfl==1.4) (1.34.1)\n",
      "Requirement already satisfied: ipykernel in /home/karan/workspace/fl-tutorial/venv/lib/python3.8/site-packages (from openfl==1.4) (6.15.3)\n",
      "Requirement already satisfied: jupyterlab in /home/karan/workspace/fl-tutorial/venv/lib/python3.8/site-packages (from openfl==1.4) (3.4.7)\n",
      "Requirement already satisfied: numpy in /home/karan/workspace/fl-tutorial/venv/lib/python3.8/site-packages (from openfl==1.4) (1.21.0)\n",
      "Requirement already satisfied: pandas in /home/karan/workspace/fl-tutorial/venv/lib/python3.8/site-packages (from openfl==1.4) (1.4.4)\n",
      "Requirement already satisfied: protobuf==3.19.4 in /home/karan/workspace/fl-tutorial/venv/lib/python3.8/site-packages (from openfl==1.4) (3.19.4)\n",
      "Requirement already satisfied: requests in /home/karan/workspace/fl-tutorial/venv/lib/python3.8/site-packages (from openfl==1.4) (2.28.1)\n",
      "Requirement already satisfied: rich in /home/karan/workspace/fl-tutorial/venv/lib/python3.8/site-packages (from openfl==1.4) (12.5.1)\n",
      "Requirement already satisfied: scikit-learn in /home/karan/workspace/fl-tutorial/venv/lib/python3.8/site-packages (from openfl==1.4) (1.1.2)\n",
      "Requirement already satisfied: tensorboard in /home/karan/workspace/fl-tutorial/venv/lib/python3.8/site-packages (from openfl==1.4) (2.10.0)\n",
      "Requirement already satisfied: tensorboardX in /home/karan/workspace/fl-tutorial/venv/lib/python3.8/site-packages (from openfl==1.4) (2.5.1)\n",
      "Requirement already satisfied: tqdm in /home/karan/workspace/fl-tutorial/venv/lib/python3.8/site-packages (from openfl==1.4) (4.64.1)\n",
      "Requirement already satisfied: cffi>=1.12 in /home/karan/workspace/fl-tutorial/venv/lib/python3.8/site-packages (from cryptography>=3.4.6->openfl==1.4) (1.15.1)\n",
      "Requirement already satisfied: six>=1.5.2 in /home/karan/workspace/fl-tutorial/venv/lib/python3.8/site-packages (from grpcio~=1.34.0->openfl==1.4) (1.16.0)\n",
      "Requirement already satisfied: urllib3>=1.26.0 in /home/karan/workspace/fl-tutorial/venv/lib/python3.8/site-packages (from docker->openfl==1.4) (1.26.12)\n",
      "Requirement already satisfied: websocket-client>=0.32.0 in /home/karan/workspace/fl-tutorial/venv/lib/python3.8/site-packages (from docker->openfl==1.4) (1.4.1)\n",
      "Requirement already satisfied: packaging>=14.0 in /home/karan/workspace/fl-tutorial/venv/lib/python3.8/site-packages (from docker->openfl==1.4) (21.3)\n",
      "Requirement already satisfied: certifi>=2017.4.17 in /home/karan/workspace/fl-tutorial/venv/lib/python3.8/site-packages (from requests->openfl==1.4) (2022.9.14)\n",
      "Requirement already satisfied: idna<4,>=2.5 in /home/karan/workspace/fl-tutorial/venv/lib/python3.8/site-packages (from requests->openfl==1.4) (3.4)\n",
      "Requirement already satisfied: charset-normalizer<3,>=2 in /home/karan/workspace/fl-tutorial/venv/lib/python3.8/site-packages (from requests->openfl==1.4) (2.1.1)\n",
      "Requirement already satisfied: ipython>=7.23.1 in /home/karan/workspace/fl-tutorial/venv/lib/python3.8/site-packages (from ipykernel->openfl==1.4) (8.5.0)\n",
      "Requirement already satisfied: traitlets>=5.1.0 in /home/karan/workspace/fl-tutorial/venv/lib/python3.8/site-packages (from ipykernel->openfl==1.4) (5.4.0)\n",
      "Requirement already satisfied: matplotlib-inline>=0.1 in /home/karan/workspace/fl-tutorial/venv/lib/python3.8/site-packages (from ipykernel->openfl==1.4) (0.1.6)\n",
      "Requirement already satisfied: psutil in /home/karan/workspace/fl-tutorial/venv/lib/python3.8/site-packages (from ipykernel->openfl==1.4) (5.9.2)\n",
      "Requirement already satisfied: nest-asyncio in /home/karan/workspace/fl-tutorial/venv/lib/python3.8/site-packages (from ipykernel->openfl==1.4) (1.5.5)\n",
      "Requirement already satisfied: pyzmq>=17 in /home/karan/workspace/fl-tutorial/venv/lib/python3.8/site-packages (from ipykernel->openfl==1.4) (24.0.0)\n",
      "Requirement already satisfied: debugpy>=1.0 in /home/karan/workspace/fl-tutorial/venv/lib/python3.8/site-packages (from ipykernel->openfl==1.4) (1.6.3)\n",
      "Requirement already satisfied: jupyter-client>=6.1.12 in /home/karan/workspace/fl-tutorial/venv/lib/python3.8/site-packages (from ipykernel->openfl==1.4) (7.3.5)\n",
      "Requirement already satisfied: tornado>=6.1 in /home/karan/workspace/fl-tutorial/venv/lib/python3.8/site-packages (from ipykernel->openfl==1.4) (6.2)\n",
      "Requirement already satisfied: nbclassic in /home/karan/workspace/fl-tutorial/venv/lib/python3.8/site-packages (from jupyterlab->openfl==1.4) (0.4.3)\n",
      "Requirement already satisfied: jupyterlab-server~=2.10 in /home/karan/workspace/fl-tutorial/venv/lib/python3.8/site-packages (from jupyterlab->openfl==1.4) (2.15.1)\n",
      "Requirement already satisfied: jupyter-server~=1.16 in /home/karan/workspace/fl-tutorial/venv/lib/python3.8/site-packages (from jupyterlab->openfl==1.4) (1.18.1)\n",
      "Requirement already satisfied: jupyter-core in /home/karan/workspace/fl-tutorial/venv/lib/python3.8/site-packages (from jupyterlab->openfl==1.4) (4.11.1)\n",
      "Requirement already satisfied: jinja2>=2.1 in /home/karan/workspace/fl-tutorial/venv/lib/python3.8/site-packages (from jupyterlab->openfl==1.4) (3.1.2)\n",
      "Requirement already satisfied: notebook<7 in /home/karan/workspace/fl-tutorial/venv/lib/python3.8/site-packages (from jupyterlab->openfl==1.4) (6.4.12)\n",
      "Requirement already satisfied: tomli in /home/karan/workspace/fl-tutorial/venv/lib/python3.8/site-packages (from jupyterlab->openfl==1.4) (2.0.1)\n",
      "Requirement already satisfied: python-dateutil>=2.8.1 in /home/karan/workspace/fl-tutorial/venv/lib/python3.8/site-packages (from pandas->openfl==1.4) (2.8.2)\n",
      "Requirement already satisfied: pytz>=2020.1 in /home/karan/workspace/fl-tutorial/venv/lib/python3.8/site-packages (from pandas->openfl==1.4) (2022.2.1)\n",
      "Requirement already satisfied: commonmark<0.10.0,>=0.9.0 in /home/karan/workspace/fl-tutorial/venv/lib/python3.8/site-packages (from rich->openfl==1.4) (0.9.1)\n",
      "Requirement already satisfied: typing-extensions<5.0,>=4.0.0 in /home/karan/workspace/fl-tutorial/venv/lib/python3.8/site-packages (from rich->openfl==1.4) (4.3.0)\n",
      "Requirement already satisfied: pygments<3.0.0,>=2.6.0 in /home/karan/workspace/fl-tutorial/venv/lib/python3.8/site-packages (from rich->openfl==1.4) (2.13.0)\n",
      "Requirement already satisfied: joblib>=1.0.0 in /home/karan/workspace/fl-tutorial/venv/lib/python3.8/site-packages (from scikit-learn->openfl==1.4) (1.2.0)\n",
      "Requirement already satisfied: scipy>=1.3.2 in /home/karan/workspace/fl-tutorial/venv/lib/python3.8/site-packages (from scikit-learn->openfl==1.4) (1.9.1)\n",
      "Requirement already satisfied: threadpoolctl>=2.0.0 in /home/karan/workspace/fl-tutorial/venv/lib/python3.8/site-packages (from scikit-learn->openfl==1.4) (3.1.0)\n",
      "Requirement already satisfied: markdown>=2.6.8 in /home/karan/workspace/fl-tutorial/venv/lib/python3.8/site-packages (from tensorboard->openfl==1.4) (3.4.1)\n",
      "Requirement already satisfied: google-auth<3,>=1.6.3 in /home/karan/workspace/fl-tutorial/venv/lib/python3.8/site-packages (from tensorboard->openfl==1.4) (2.11.0)\n",
      "Requirement already satisfied: setuptools>=41.0.0 in /home/karan/workspace/fl-tutorial/venv/lib/python3.8/site-packages (from tensorboard->openfl==1.4) (65.3.0)\n",
      "Requirement already satisfied: absl-py>=0.4 in /home/karan/workspace/fl-tutorial/venv/lib/python3.8/site-packages (from tensorboard->openfl==1.4) (1.2.0)\n",
      "Requirement already satisfied: werkzeug>=1.0.1 in /home/karan/workspace/fl-tutorial/venv/lib/python3.8/site-packages (from tensorboard->openfl==1.4) (2.2.2)\n",
      "Requirement already satisfied: tensorboard-data-server<0.7.0,>=0.6.0 in /home/karan/workspace/fl-tutorial/venv/lib/python3.8/site-packages (from tensorboard->openfl==1.4) (0.6.1)\n",
      "Requirement already satisfied: wheel>=0.26 in /home/karan/workspace/fl-tutorial/venv/lib/python3.8/site-packages (from tensorboard->openfl==1.4) (0.37.1)\n",
      "Requirement already satisfied: google-auth-oauthlib<0.5,>=0.4.1 in /home/karan/workspace/fl-tutorial/venv/lib/python3.8/site-packages (from tensorboard->openfl==1.4) (0.4.6)\n",
      "Requirement already satisfied: tensorboard-plugin-wit>=1.6.0 in /home/karan/workspace/fl-tutorial/venv/lib/python3.8/site-packages (from tensorboard->openfl==1.4) (1.8.1)\n",
      "Requirement already satisfied: pycparser in /home/karan/workspace/fl-tutorial/venv/lib/python3.8/site-packages (from cffi>=1.12->cryptography>=3.4.6->openfl==1.4) (2.21)\n",
      "Requirement already satisfied: pyasn1-modules>=0.2.1 in /home/karan/workspace/fl-tutorial/venv/lib/python3.8/site-packages (from google-auth<3,>=1.6.3->tensorboard->openfl==1.4) (0.2.8)\n",
      "Requirement already satisfied: cachetools<6.0,>=2.0.0 in /home/karan/workspace/fl-tutorial/venv/lib/python3.8/site-packages (from google-auth<3,>=1.6.3->tensorboard->openfl==1.4) (5.2.0)\n",
      "Requirement already satisfied: rsa<5,>=3.1.4 in /home/karan/workspace/fl-tutorial/venv/lib/python3.8/site-packages (from google-auth<3,>=1.6.3->tensorboard->openfl==1.4) (4.9)\n",
      "Requirement already satisfied: requests-oauthlib>=0.7.0 in /home/karan/workspace/fl-tutorial/venv/lib/python3.8/site-packages (from google-auth-oauthlib<0.5,>=0.4.1->tensorboard->openfl==1.4) (1.3.1)\n",
      "Requirement already satisfied: decorator in /home/karan/workspace/fl-tutorial/venv/lib/python3.8/site-packages (from ipython>=7.23.1->ipykernel->openfl==1.4) (5.1.1)\n",
      "Requirement already satisfied: jedi>=0.16 in /home/karan/workspace/fl-tutorial/venv/lib/python3.8/site-packages (from ipython>=7.23.1->ipykernel->openfl==1.4) (0.18.1)\n",
      "Requirement already satisfied: prompt-toolkit<3.1.0,>3.0.1 in /home/karan/workspace/fl-tutorial/venv/lib/python3.8/site-packages (from ipython>=7.23.1->ipykernel->openfl==1.4) (3.0.31)\n",
      "Requirement already satisfied: pexpect>4.3 in /home/karan/workspace/fl-tutorial/venv/lib/python3.8/site-packages (from ipython>=7.23.1->ipykernel->openfl==1.4) (4.8.0)\n",
      "Requirement already satisfied: backcall in /home/karan/workspace/fl-tutorial/venv/lib/python3.8/site-packages (from ipython>=7.23.1->ipykernel->openfl==1.4) (0.2.0)\n",
      "Requirement already satisfied: stack-data in /home/karan/workspace/fl-tutorial/venv/lib/python3.8/site-packages (from ipython>=7.23.1->ipykernel->openfl==1.4) (0.5.0)\n",
      "Requirement already satisfied: pickleshare in /home/karan/workspace/fl-tutorial/venv/lib/python3.8/site-packages (from ipython>=7.23.1->ipykernel->openfl==1.4) (0.7.5)\n",
      "Requirement already satisfied: MarkupSafe>=2.0 in /home/karan/workspace/fl-tutorial/venv/lib/python3.8/site-packages (from jinja2>=2.1->jupyterlab->openfl==1.4) (2.1.1)\n",
      "Requirement already satisfied: entrypoints in /home/karan/workspace/fl-tutorial/venv/lib/python3.8/site-packages (from jupyter-client>=6.1.12->ipykernel->openfl==1.4) (0.4)\n",
      "Requirement already satisfied: Send2Trash in /home/karan/workspace/fl-tutorial/venv/lib/python3.8/site-packages (from jupyter-server~=1.16->jupyterlab->openfl==1.4) (1.8.0)\n",
      "Requirement already satisfied: anyio<4,>=3.1.0 in /home/karan/workspace/fl-tutorial/venv/lib/python3.8/site-packages (from jupyter-server~=1.16->jupyterlab->openfl==1.4) (3.6.1)\n",
      "Requirement already satisfied: argon2-cffi in /home/karan/workspace/fl-tutorial/venv/lib/python3.8/site-packages (from jupyter-server~=1.16->jupyterlab->openfl==1.4) (21.3.0)\n",
      "Requirement already satisfied: prometheus-client in /home/karan/workspace/fl-tutorial/venv/lib/python3.8/site-packages (from jupyter-server~=1.16->jupyterlab->openfl==1.4) (0.14.1)\n",
      "Requirement already satisfied: terminado>=0.8.3 in /home/karan/workspace/fl-tutorial/venv/lib/python3.8/site-packages (from jupyter-server~=1.16->jupyterlab->openfl==1.4) (0.15.0)\n",
      "Requirement already satisfied: nbconvert>=6.4.4 in /home/karan/workspace/fl-tutorial/venv/lib/python3.8/site-packages (from jupyter-server~=1.16->jupyterlab->openfl==1.4) (7.0.0)\n",
      "Requirement already satisfied: nbformat>=5.2.0 in /home/karan/workspace/fl-tutorial/venv/lib/python3.8/site-packages (from jupyter-server~=1.16->jupyterlab->openfl==1.4) (5.5.0)\n",
      "Requirement already satisfied: babel in /home/karan/workspace/fl-tutorial/venv/lib/python3.8/site-packages (from jupyterlab-server~=2.10->jupyterlab->openfl==1.4) (2.10.3)\n",
      "Requirement already satisfied: jsonschema>=3.0.1 in /home/karan/workspace/fl-tutorial/venv/lib/python3.8/site-packages (from jupyterlab-server~=2.10->jupyterlab->openfl==1.4) (4.16.0)\n",
      "Requirement already satisfied: importlib-metadata>=3.6 in /home/karan/workspace/fl-tutorial/venv/lib/python3.8/site-packages (from jupyterlab-server~=2.10->jupyterlab->openfl==1.4) (4.12.0)\n",
      "Requirement already satisfied: json5 in /home/karan/workspace/fl-tutorial/venv/lib/python3.8/site-packages (from jupyterlab-server~=2.10->jupyterlab->openfl==1.4) (0.9.10)\n",
      "Requirement already satisfied: ipython-genutils in /home/karan/workspace/fl-tutorial/venv/lib/python3.8/site-packages (from notebook<7->jupyterlab->openfl==1.4) (0.2.0)\n",
      "Requirement already satisfied: pyparsing!=3.0.5,>=2.0.2 in /home/karan/workspace/fl-tutorial/venv/lib/python3.8/site-packages (from packaging>=14.0->docker->openfl==1.4) (3.0.9)\n",
      "Requirement already satisfied: notebook-shim>=0.1.0 in /home/karan/workspace/fl-tutorial/venv/lib/python3.8/site-packages (from nbclassic->jupyterlab->openfl==1.4) (0.1.0)\n",
      "Requirement already satisfied: sniffio>=1.1 in /home/karan/workspace/fl-tutorial/venv/lib/python3.8/site-packages (from anyio<4,>=3.1.0->jupyter-server~=1.16->jupyterlab->openfl==1.4) (1.3.0)\n",
      "Requirement already satisfied: zipp>=0.5 in /home/karan/workspace/fl-tutorial/venv/lib/python3.8/site-packages (from importlib-metadata>=3.6->jupyterlab-server~=2.10->jupyterlab->openfl==1.4) (3.8.1)\n",
      "Requirement already satisfied: parso<0.9.0,>=0.8.0 in /home/karan/workspace/fl-tutorial/venv/lib/python3.8/site-packages (from jedi>=0.16->ipython>=7.23.1->ipykernel->openfl==1.4) (0.8.3)\n",
      "Requirement already satisfied: importlib-resources>=1.4.0 in /home/karan/workspace/fl-tutorial/venv/lib/python3.8/site-packages (from jsonschema>=3.0.1->jupyterlab-server~=2.10->jupyterlab->openfl==1.4) (5.9.0)\n",
      "Requirement already satisfied: attrs>=17.4.0 in /home/karan/workspace/fl-tutorial/venv/lib/python3.8/site-packages (from jsonschema>=3.0.1->jupyterlab-server~=2.10->jupyterlab->openfl==1.4) (22.1.0)\n",
      "Requirement already satisfied: pkgutil-resolve-name>=1.3.10 in /home/karan/workspace/fl-tutorial/venv/lib/python3.8/site-packages (from jsonschema>=3.0.1->jupyterlab-server~=2.10->jupyterlab->openfl==1.4) (1.3.10)\n",
      "Requirement already satisfied: pyrsistent!=0.17.0,!=0.17.1,!=0.17.2,>=0.14.0 in /home/karan/workspace/fl-tutorial/venv/lib/python3.8/site-packages (from jsonschema>=3.0.1->jupyterlab-server~=2.10->jupyterlab->openfl==1.4) (0.18.1)\n",
      "Requirement already satisfied: bleach in /home/karan/workspace/fl-tutorial/venv/lib/python3.8/site-packages (from nbconvert>=6.4.4->jupyter-server~=1.16->jupyterlab->openfl==1.4) (5.0.1)\n",
      "Requirement already satisfied: beautifulsoup4 in /home/karan/workspace/fl-tutorial/venv/lib/python3.8/site-packages (from nbconvert>=6.4.4->jupyter-server~=1.16->jupyterlab->openfl==1.4) (4.11.1)\n",
      "Requirement already satisfied: tinycss2 in /home/karan/workspace/fl-tutorial/venv/lib/python3.8/site-packages (from nbconvert>=6.4.4->jupyter-server~=1.16->jupyterlab->openfl==1.4) (1.1.1)\n",
      "Requirement already satisfied: defusedxml in /home/karan/workspace/fl-tutorial/venv/lib/python3.8/site-packages (from nbconvert>=6.4.4->jupyter-server~=1.16->jupyterlab->openfl==1.4) (0.7.1)\n",
      "Requirement already satisfied: jupyterlab-pygments in /home/karan/workspace/fl-tutorial/venv/lib/python3.8/site-packages (from nbconvert>=6.4.4->jupyter-server~=1.16->jupyterlab->openfl==1.4) (0.2.2)\n",
      "Requirement already satisfied: nbclient>=0.5.0 in /home/karan/workspace/fl-tutorial/venv/lib/python3.8/site-packages (from nbconvert>=6.4.4->jupyter-server~=1.16->jupyterlab->openfl==1.4) (0.6.8)\n",
      "Requirement already satisfied: mistune<3,>=2.0.3 in /home/karan/workspace/fl-tutorial/venv/lib/python3.8/site-packages (from nbconvert>=6.4.4->jupyter-server~=1.16->jupyterlab->openfl==1.4) (2.0.4)\n",
      "Requirement already satisfied: lxml in /home/karan/workspace/fl-tutorial/venv/lib/python3.8/site-packages (from nbconvert>=6.4.4->jupyter-server~=1.16->jupyterlab->openfl==1.4) (4.9.1)\n",
      "Requirement already satisfied: pandocfilters>=1.4.1 in /home/karan/workspace/fl-tutorial/venv/lib/python3.8/site-packages (from nbconvert>=6.4.4->jupyter-server~=1.16->jupyterlab->openfl==1.4) (1.5.0)\n",
      "Requirement already satisfied: fastjsonschema in /home/karan/workspace/fl-tutorial/venv/lib/python3.8/site-packages (from nbformat>=5.2.0->jupyter-server~=1.16->jupyterlab->openfl==1.4) (2.16.1)\n",
      "Requirement already satisfied: ptyprocess>=0.5 in /home/karan/workspace/fl-tutorial/venv/lib/python3.8/site-packages (from pexpect>4.3->ipython>=7.23.1->ipykernel->openfl==1.4) (0.7.0)\n",
      "Requirement already satisfied: wcwidth in /home/karan/workspace/fl-tutorial/venv/lib/python3.8/site-packages (from prompt-toolkit<3.1.0,>3.0.1->ipython>=7.23.1->ipykernel->openfl==1.4) (0.2.5)\n",
      "Requirement already satisfied: pyasn1<0.5.0,>=0.4.6 in /home/karan/workspace/fl-tutorial/venv/lib/python3.8/site-packages (from pyasn1-modules>=0.2.1->google-auth<3,>=1.6.3->tensorboard->openfl==1.4) (0.4.8)\n",
      "Requirement already satisfied: oauthlib>=3.0.0 in /home/karan/workspace/fl-tutorial/venv/lib/python3.8/site-packages (from requests-oauthlib>=0.7.0->google-auth-oauthlib<0.5,>=0.4.1->tensorboard->openfl==1.4) (3.2.1)\n",
      "Requirement already satisfied: argon2-cffi-bindings in /home/karan/workspace/fl-tutorial/venv/lib/python3.8/site-packages (from argon2-cffi->jupyter-server~=1.16->jupyterlab->openfl==1.4) (21.2.0)\n",
      "Requirement already satisfied: pure-eval in /home/karan/workspace/fl-tutorial/venv/lib/python3.8/site-packages (from stack-data->ipython>=7.23.1->ipykernel->openfl==1.4) (0.2.2)\n",
      "Requirement already satisfied: executing in /home/karan/workspace/fl-tutorial/venv/lib/python3.8/site-packages (from stack-data->ipython>=7.23.1->ipykernel->openfl==1.4) (1.0.0)\n",
      "Requirement already satisfied: asttokens in /home/karan/workspace/fl-tutorial/venv/lib/python3.8/site-packages (from stack-data->ipython>=7.23.1->ipykernel->openfl==1.4) (2.0.8)\n",
      "Requirement already satisfied: soupsieve>1.2 in /home/karan/workspace/fl-tutorial/venv/lib/python3.8/site-packages (from beautifulsoup4->nbconvert>=6.4.4->jupyter-server~=1.16->jupyterlab->openfl==1.4) (2.3.2.post1)\n",
      "Requirement already satisfied: webencodings in /home/karan/workspace/fl-tutorial/venv/lib/python3.8/site-packages (from bleach->nbconvert>=6.4.4->jupyter-server~=1.16->jupyterlab->openfl==1.4) (0.5.1)\n",
      "Building wheels for collected packages: openfl\n",
      "  Building wheel for openfl (setup.py) ... \u001b[?25ldone\n",
      "\u001b[?25h  Created wheel for openfl: filename=openfl-1.4-py3-none-any.whl size=615343 sha256=8e97d9369730018d07a9242ddac69f29a867dd935b4c818267bec0f3398963c8\n",
      "  Stored in directory: /tmp/pip-ephem-wheel-cache-uitqipo1/wheels/41/03/ef/61d3c4dcd526cdfe9914adbbbec882bf5d06b15a84011b0a09\n",
      "Successfully built openfl\n",
      "Installing collected packages: openfl\n",
      "  Attempting uninstall: openfl\n",
      "    Found existing installation: openfl 1.4\n",
      "    Uninstalling openfl-1.4:\n",
      "      Successfully uninstalled openfl-1.4\n",
      "Successfully installed openfl-1.4\n"
     ]
    }
   ],
   "source": [
    "# To access example workspaces and director/envoy scripts\n",
    "!rm -rf openfl\n",
    "!git clone -b miccai_fl_tutorial https://github.com/intel/openfl.git\n",
    "!cd openfl && python -m pip install ."
   ]
  },
  {
   "cell_type": "markdown",
   "id": "5f43b8fb",
   "metadata": {
    "id": "5f43b8fb"
   },
   "source": [
    "### Hacks\n",
    "\n",
    "A few duct-tape fixes to allow us to 1-click execute."
   ]
  },
  {
   "cell_type": "code",
   "execution_count": 3,
   "id": "2698f1da-fa69-4543-bb15-c7c0dcb776b9",
   "metadata": {
    "id": "2698f1da-fa69-4543-bb15-c7c0dcb776b9"
   },
   "outputs": [],
   "source": [
    "import os\n",
    "import logging\n",
    "\n",
    "# Better CPU Utilization\n",
    "os.environ['OMP_NUM_THREADS'] = str(int(os.cpu_count() // 2))\n",
    "\n",
    "# Logging fix for Google Colab\n",
    "log = logging.getLogger()\n",
    "log.setLevel(logging.INFO)\n",
    "\n",
    "# Switch to the workspace directory\n",
    "tutorial_dir = os.path.abspath(\n",
    "    'openfl/openfl-tutorials/interactive_api/PyTorch_MedMNIST_3D')\n",
    "os.chdir(tutorial_dir)"
   ]
  },
  {
   "cell_type": "markdown",
   "id": "33f3623e",
   "metadata": {
    "id": "33f3623e"
   },
   "source": [
    "### Imports"
   ]
  },
  {
   "cell_type": "code",
   "execution_count": 4,
   "id": "ca564a9a-8473-4207-aa41-c80111021e48",
   "metadata": {
    "colab": {
     "base_uri": "https://localhost:8080/"
    },
    "id": "ca564a9a-8473-4207-aa41-c80111021e48",
    "outputId": "f67adfb4-4be6-482b-b355-20816ea002e8"
   },
   "outputs": [
    {
     "name": "stdout",
     "output_type": "stream",
     "text": [
      "PyTorch 1.8.2+cu111\n",
      "MedMNIST 2.1.0\n"
     ]
    }
   ],
   "source": [
    "import numpy as np\n",
    "from tqdm import tqdm\n",
    "from pprint import pprint\n",
    "\n",
    "import torch\n",
    "import medmnist\n",
    "\n",
    "print('PyTorch', torch.__version__)\n",
    "print('MedMNIST', medmnist.__version__)"
   ]
  },
  {
   "cell_type": "markdown",
   "id": "80b13b64",
   "metadata": {
    "id": "80b13b64"
   },
   "source": [
    "### Familiarize yourself with the Dataset\n",
    "\n",
    "MedMNIST is a large-scale MNIST-like collection of standardized biomedical images, including 12 datasets for 2D and 6 datasets for 3D. MedMNIST is designed to perform classification on lightweight 2D and 3D images with various data scales (from 100 to 100,000) and diverse tasks (binary/multi-class, ordinal regression and multi-label).\n",
    "\n",
    "![Datasets in MedMNIST](https://raw.githubusercontent.com/MedMNIST/MedMNIST/main/assets/medmnistv2.jpg)\n",
    "\n",
    "Source: https://github.com/MedMNIST/MedMNIST\n",
    "\n",
    "Jiancheng Yang, Rui Shi, Donglai Wei, Zequan Liu, Lin Zhao, Bilian Ke, Hanspeter Pfister, Bingbing Ni. \"MedMNIST v2: A Large-Scale Lightweight Benchmark for 2D and 3D Biomedical Image Classification\". arXiv preprint arXiv:2110.14795, 2021."
   ]
  },
  {
   "cell_type": "markdown",
   "id": "e09e752f",
   "metadata": {
    "id": "e09e752f"
   },
   "source": [
    "### Dataset Configuration"
   ]
  },
  {
   "cell_type": "code",
   "execution_count": 5,
   "id": "5bb169b9",
   "metadata": {
    "colab": {
     "base_uri": "https://localhost:8080/"
    },
    "id": "5bb169b9",
    "outputId": "87316233-9a2e-47ac-d7e1-eec64a52feac"
   },
   "outputs": [
    {
     "name": "stdout",
     "output_type": "stream",
     "text": [
      "{'MD5': '1235b78a3cd6280881dd7850a78eadb6',\n",
      " 'description': 'The SynapseMNIST3D is a new 3D volume dataset to classify '\n",
      "                'whether a synapse is excitatory or inhibitory. It uses a 3D '\n",
      "                'image volume of an adult rat acquired by a multi-beam '\n",
      "                'scanning electron microscope. The original data is of the '\n",
      "                'size 100×100×100um^3 and the resolution 8×8×30nm^3, where a '\n",
      "                '(30um)^3 sub-volume was used in the MitoEM dataset with dense '\n",
      "                '3D mitochondria instance segmentation labels. Three '\n",
      "                'neuroscience experts segment a pyramidal neuron within the '\n",
      "                'whole volume and proofread all the synapses on this neuron '\n",
      "                'with excitatory/inhibitory labels. For each labeled synaptic '\n",
      "                'location, we crop a 3D volume of 1024×1024×1024nm^3 and '\n",
      "                'resize it into 28×28×28 voxels. Finally, the dataset is '\n",
      "                'randomly split with a ratio of 7:1:2 into training, '\n",
      "                'validation and test set.',\n",
      " 'label': {'0': 'inhibitory synapse', '1': 'excitatory synapse'},\n",
      " 'license': 'CC BY 4.0',\n",
      " 'n_channels': 1,\n",
      " 'n_samples': {'test': 352, 'train': 1230, 'val': 177},\n",
      " 'python_class': 'SynapseMNIST3D',\n",
      " 'task': 'binary-class',\n",
      " 'url': 'https://zenodo.org/record/6496656/files/synapsemnist3d.npz?download=1'}\n"
     ]
    }
   ],
   "source": [
    "# Train/test options\n",
    "NUM_EPOCHS = 3\n",
    "BATCH_SIZE = 16\n",
    "DEVICE = 'cpu'\n",
    "\n",
    "# Dataset\n",
    "DATASET_NAME = 'synapsemnist3d'\n",
    "DATASET_PATH = './data'\n",
    "ds_info = medmnist.INFO[DATASET_NAME]\n",
    "pprint(ds_info)"
   ]
  },
  {
   "cell_type": "markdown",
   "id": "c41e7859",
   "metadata": {
    "id": "c41e7859"
   },
   "source": [
    "### Familiarize with the Dataset\n",
    "\n",
    "Let's use some plotting tools here."
   ]
  },
  {
   "cell_type": "code",
   "execution_count": 6,
   "id": "1178e597",
   "metadata": {
    "colab": {
     "base_uri": "https://localhost:8080/",
     "height": 456,
     "referenced_widgets": [
      "c8ff01957047400fa84f62b84035a1be",
      "98d21bfd65b84efea7e3230a56a649a1",
      "c41b087ab1854ff585174c031422f6ca",
      "92ba5282ebab4b94bd69fe25afd667d6",
      "afef3d94eb3f4119b0cccf1de42a09de",
      "1fc6b98994cb454fa65021f97359f53f",
      "d9ee140346a8415b87647ab37a263fe2",
      "3937763c9cad4f10b116cd93f80dbe09",
      "0fc8a27567a04d4baad52c0320d849ab",
      "868c8d7419b844d6875421bb75708bf0",
      "79b4367f01844bc1846b318bbc4e84b5"
     ]
    },
    "id": "1178e597",
    "outputId": "0e7eb7ab-cdea-4364-da60-6d7c504c9e79"
   },
   "outputs": [
    {
     "name": "stdout",
     "output_type": "stream",
     "text": [
      "Downloading https://zenodo.org/record/6496656/files/synapsemnist3d.npz?download=1 to ./data/synapsemnist3d.npz\n"
     ]
    },
    {
     "data": {
      "application/vnd.jupyter.widget-view+json": {
       "model_id": "624c45ef760e424a84e91ec67a584e92",
       "version_major": 2,
       "version_minor": 0
      },
      "text/plain": [
       "  0%|          | 0/38034583 [00:00<?, ?it/s]"
      ]
     },
     "metadata": {},
     "output_type": "display_data"
    },
    {
     "data": {
      "image/png": "[encoded data removed]",
      "text/plain": [
       "<Figure size 640x480 with 1 Axes>"
      ]
     },
     "metadata": {},
     "output_type": "display_data"
    }
   ],
   "source": [
    "import pandas as pd\n",
    "from PIL import Image\n",
    "import matplotlib.pyplot as plt\n",
    "from torchvision import transforms as T\n",
    "from torch.utils.data import Dataset, DataLoader\n",
    "\n",
    "from envoy.medmnist_shard_descriptor import MedMNISTShardDescriptor\n",
    "\n",
    "# Download raw numpy dataset\n",
    "sd = MedMNISTShardDescriptor(datapath=DATASET_PATH, dataname=DATASET_NAME)\n",
    "(x_train, y_train), (x_test, y_test) = sd.load_data()\n",
    "\n",
    "# Visualize a sample\n",
    "sample_id = 42\n",
    "label2str = list(ds_info['label'].values())\n",
    "volume = x_train[sample_id]\n",
    "label = label2str[np.squeeze(y_train[sample_id])]\n",
    "\n",
    "# Plot\n",
    "fig = plt.figure()\n",
    "ax = fig.add_subplot(111, projection='3d')\n",
    "cmap = plt.get_cmap(\"gray\")\n",
    "norm = plt.Normalize(volume.min(), volume.max())\n",
    "ax.voxels(volume, facecolors=cmap(norm(volume)))\n",
    "plt.title(label)\n",
    "plt.show()\n"
   ]
  },
  {
   "cell_type": "markdown",
   "id": "ba176624",
   "metadata": {
    "id": "ba176624"
   },
   "source": [
    "### Define Dataset/Dataloader Classes\n",
    "\n",
    "We'll create a simple PyTorch-style iterator dataset that returns single `numpy` element as a `torch.Tensor`. The class used for this would be `torch.utils.data.Dataset`\n",
    "\n",
    "We will then wrap this dataset object with a Dataloader class, that batches and shuffles the elements. Class: `torch.utils.data.DataLoader`"
   ]
  },
  {
   "cell_type": "markdown",
   "id": "1637381d-84d0-4132-92c3-bf1a1e9c7f7a",
   "metadata": {
    "id": "1637381d-84d0-4132-92c3-bf1a1e9c7f7a"
   },
   "source": [
    "### Model Definition (3D CNN)"
   ]
  },
  {
   "cell_type": "code",
   "execution_count": 7,
   "id": "vSRyhzr6JpTd",
   "metadata": {
    "id": "vSRyhzr6JpTd"
   },
   "outputs": [],
   "source": [
    "import torch.nn as nn\n",
    "import torch.nn.functional as F\n",
    "\n",
    "\n",
    "class Net(nn.Module):\n",
    "\n",
    "    def __init__(self, in_channels, num_classes):\n",
    "        super(Net, self).__init__()\n",
    "\n",
    "        self.layer1 = nn.Sequential(nn.Conv2d(in_channels, 16, kernel_size=3),\n",
    "                                    nn.BatchNorm2d(16), nn.ReLU())\n",
    "\n",
    "        self.layer2 = nn.Sequential(nn.Conv2d(16, 16, kernel_size=3),\n",
    "                                    nn.BatchNorm2d(16), nn.ReLU(),\n",
    "                                    nn.MaxPool2d(kernel_size=2, stride=2))\n",
    "\n",
    "        self.layer3 = nn.Sequential(nn.Conv2d(16, 64, kernel_size=3),\n",
    "                                    nn.BatchNorm2d(64), nn.ReLU())\n",
    "\n",
    "        self.layer4 = nn.Sequential(nn.Conv2d(64, 64, kernel_size=3),\n",
    "                                    nn.BatchNorm2d(64), nn.ReLU())\n",
    "\n",
    "        self.layer5 = nn.Sequential(nn.Conv2d(64, 64, kernel_size=3, padding=1),\n",
    "                                    nn.BatchNorm2d(64), nn.ReLU(),\n",
    "                                    nn.MaxPool2d(kernel_size=2, stride=2))\n",
    "\n",
    "        self.fc = nn.Sequential(nn.Linear(64 * 4 * 4 * 4, 128), \n",
    "                                nn.ReLU(),\n",
    "                                nn.Dropout(0.5),\n",
    "                                nn.Linear(128, num_classes))\n",
    "\n",
    "    def forward(self, x):\n",
    "        x = self.layer1(x)\n",
    "        x = self.layer2(x)\n",
    "        x = self.layer3(x)\n",
    "        x = self.layer4(x)\n",
    "        x = self.layer5(x)\n",
    "        x = x.view(x.size(0), -1)\n",
    "        x = self.fc(x)\n",
    "        return x"
   ]
  },
  {
   "cell_type": "markdown",
   "id": "cd2e26a5-9f4e-4011-a999-e428246aa8c1",
   "metadata": {
    "id": "cd2e26a5-9f4e-4011-a999-e428246aa8c1"
   },
   "source": [
    "# Go Federated\n",
    "### Imports"
   ]
  },
  {
   "cell_type": "code",
   "execution_count": 52,
   "id": "b0d105a0-04c4-4c26-81c7-a350e14393c2",
   "metadata": {
    "id": "b0d105a0-04c4-4c26-81c7-a350e14393c2"
   },
   "outputs": [],
   "source": [
    "import os\n",
    "import time\n",
    "import yaml\n",
    "from typing import Dict, List, Union"
   ]
  },
  {
   "cell_type": "markdown",
   "id": "10243b0d",
   "metadata": {
    "id": "10243b0d"
   },
   "source": [
    "### Configure `Director`\n",
    "\n",
    "This is the entity that orchestrates the tasks and aggregation of models from participants. Below cells are to configure the `yaml` and start the `Director` service."
   ]
  },
  {
   "cell_type": "code",
   "execution_count": 53,
   "id": "e736d33f-5df2-4a2f-8210-f1feba9fd367",
   "metadata": {
    "id": "e736d33f-5df2-4a2f-8210-f1feba9fd367"
   },
   "outputs": [
    {
     "name": "stdout",
     "output_type": "stream",
     "text": [
      "[16:44:58] INFO     🧿 Starting the Director Service.                                                                                             director.py:50\n",
      "[16:44:59] INFO     Sample shape: ['28', '28', '28'], target shape: ['1', '1']                                                                    director.py:74\n",
      "           INFO     Starting server on localhost:50051                                                                                    director_server.py:114\n"
     ]
    }
   ],
   "source": [
    "# Should be the same as defined in `director_config.yaml`\n",
    "director_node_fqdn = 'localhost'\n",
    "director_port = 50051\n",
    "\n",
    "director_workspace_path = os.path.join(tutorial_dir, 'director')\n",
    "director_config_file = os.path.join(director_workspace_path,'director_config.yaml')\n",
    "director_logfile = os.path.join(director_workspace_path, 'director.log')\n",
    "\n",
    "# Start director\n",
    "os.system(f'cd {director_workspace_path};'\n",
    "          f'fx director start --disable-tls -c {director_config_file} '\n",
    "          f'>{director_logfile} &')\n",
    "!sleep 5 && tail -n5 $director_logfile"
   ]
  },
  {
   "cell_type": "markdown",
   "id": "223f0037-c87e-440d-b8df-8fe9211c34dc",
   "metadata": {
    "id": "223f0037-c87e-440d-b8df-8fe9211c34dc",
    "tags": []
   },
   "source": [
    "### Configure `Envoys`\n",
    "\n",
    "`Envoy`, for sake of simplicity, can be thought of as collaborators. Technically, `Envoy` defines the dataloading interface for each participant and runs python code (called a `task`) that it receives via this notebook.\n",
    "\n",
    "We create as many config files as number of participants that we intend to simulate here."
   ]
  },
  {
   "cell_type": "code",
   "execution_count": 54,
   "id": "c0e65a39-15f7-4cca-90bb-a2970b7be9f0",
   "metadata": {
    "id": "c0e65a39-15f7-4cca-90bb-a2970b7be9f0"
   },
   "outputs": [],
   "source": [
    "def generate_envoy_configs(\n",
    "        config: dict,\n",
    "        n_cols: int,\n",
    "        datapath: str,\n",
    "        dataname: str,\n",
    "        save_path: str) -> list:\n",
    "    \n",
    "    config_paths = list()\n",
    "    for i in range(1, n_cols+1):\n",
    "        path = os.path.abspath(os.path.join(save_path, f'{i}_envoy_config.yaml'))\n",
    "        config['shard_descriptor']['params']['datapath'] = datapath\n",
    "        config['shard_descriptor']['params']['dataname'] = dataname    \n",
    "        config['shard_descriptor']['params']['rank_worldsize'] = f'{i},{n_cols}'\n",
    "        with open(path, 'w') as f:\n",
    "            yaml.safe_dump(config, f)\n",
    "        config_paths.append(path)\n",
    "    return config_paths"
   ]
  },
  {
   "cell_type": "markdown",
   "id": "2ab32d5c",
   "metadata": {},
   "source": [
    "### Generate configs and start `Envoys`"
   ]
  },
  {
   "cell_type": "code",
   "execution_count": 55,
   "id": "90109c5b-c785-4af7-ace9-dcd913018dca",
   "metadata": {
    "id": "90109c5b-c785-4af7-ace9-dcd913018dca"
   },
   "outputs": [
    {
     "name": "stdout",
     "output_type": "stream",
     "text": [
      "Starting Envoy 1\n",
      "Starting Envoy 2\n"
     ]
    }
   ],
   "source": [
    "# Read the original envoy config file content\n",
    "original_config_path = os.path.join(tutorial_dir, 'envoy', 'envoy_config.yaml')\n",
    "with open(original_config_path, 'r') as f:\n",
    "    original_config = yaml.safe_load(f)\n",
    "\n",
    "# Generate configs for as many envoys\n",
    "config_paths = generate_envoy_configs(original_config,\n",
    "                                      n_cols=2,\n",
    "                                      datapath=DATASET_PATH,\n",
    "                                      dataname=DATASET_NAME,\n",
    "                                      save_path=os.path.dirname(original_config_path))\n",
    "# Start envoys in a loop\n",
    "cwd = os.getcwd()\n",
    "for i, path in enumerate(config_paths):\n",
    "    print(f'Starting Envoy {i+1}')\n",
    "    os.chdir(os.path.dirname(path))\n",
    "\n",
    "    # Wait until envoy loads dataset\n",
    "    os.system(f'fx envoy start -n env_{i+1} --disable-tls '\n",
    "                f'--envoy-config-path {path} -dh {director_node_fqdn} -dp {director_port} '\n",
    "                f'2>&1 >env_{i+1}.log &')\n",
    "    !grep -q \"MedMNIST data was loaded\" <( tail -f env_{i+1}.log )\n",
    "    \n",
    "    os.chdir(cwd)"
   ]
  },
  {
   "cell_type": "markdown",
   "id": "6216f14c-78d8-444c-9144-ee8316d1487b",
   "metadata": {
    "id": "6216f14c-78d8-444c-9144-ee8316d1487b"
   },
   "source": [
    "### Connect this Notebook to the Infrastructure\n",
    "\n",
    "This is where you take the seat of a Data Scientist, who bears control over the `model`, `train()`, `validate()` and other logic that `Director` and `Envoy` help you execute across participants."
   ]
  },
  {
   "cell_type": "code",
   "execution_count": 56,
   "id": "b9d3b764-cb86-4eec-ba8e-df119da7a27f",
   "metadata": {
    "colab": {
     "base_uri": "https://localhost:8080/"
    },
    "id": "b9d3b764-cb86-4eec-ba8e-df119da7a27f",
    "outputId": "d615ffc4-e178-4fe1-9d31-436a0f721975"
   },
   "outputs": [
    {
     "name": "stdout",
     "output_type": "stream",
     "text": [
      "{'env_1': {'current_time': '2022-09-17 16:45:07',\n",
      "           'experiment_name': 'ExperimentName Mock',\n",
      "           'is_experiment_running': False,\n",
      "           'is_online': True,\n",
      "           'last_updated': '2022-09-17 16:45:04',\n",
      "           'shard_info': node_info {\n",
      "  name: \"env_1\"\n",
      "}\n",
      "shard_description: \"MedMNIST dataset, shard number 1 out of 2\"\n",
      "sample_shape: \"28\"\n",
      "sample_shape: \"28\"\n",
      "sample_shape: \"28\"\n",
      "target_shape: \"1\"\n",
      "target_shape: \"1\"\n",
      ",\n",
      "           'valid_duration': seconds: 120\n",
      "},\n",
      " 'env_2': {'current_time': '2022-09-17 16:45:07',\n",
      "           'experiment_name': 'ExperimentName Mock',\n",
      "           'is_experiment_running': False,\n",
      "           'is_online': True,\n",
      "           'last_updated': '2022-09-17 16:45:07',\n",
      "           'shard_info': node_info {\n",
      "  name: \"env_2\"\n",
      "}\n",
      "shard_description: \"MedMNIST dataset, shard number 2 out of 2\"\n",
      "sample_shape: \"28\"\n",
      "sample_shape: \"28\"\n",
      "sample_shape: \"28\"\n",
      "target_shape: \"1\"\n",
      "target_shape: \"1\"\n",
      ",\n",
      "           'valid_duration': seconds: 120\n",
      "}}\n"
     ]
    }
   ],
   "source": [
    "from openfl.interface.interactive_api.federation import Federation\n",
    "\n",
    "# Create a federation\n",
    "federation = Federation(client_id='frontend',\n",
    "                        director_node_fqdn=director_node_fqdn,\n",
    "                        director_port=director_port,\n",
    "                        tls=False)\n",
    "\n",
    "# Wait till all envoys publish their shard registry.\n",
    "pprint(federation.get_shard_registry())"
   ]
  },
  {
   "cell_type": "markdown",
   "id": "c6401026-795f-491e-90cb-dd59b451df5f",
   "metadata": {
    "id": "c6401026-795f-491e-90cb-dd59b451df5f"
   },
   "source": [
    "### Ingredients of a Federated Learning Experiment in OpenFL\n",
    "\n",
    "* `DataInterface`: This class defines the dataloading primitives for OpenFL. We'll reuse some of our previous logic.\n",
    "* `ModelInterface`: Registers model graph and optimizer; serializes them and sends them to collaborator nodes.\n",
    "* `TaskInterface`: Registers the python methods that constitute each task like `training`, `validation` etc."
   ]
  },
  {
   "cell_type": "code",
   "execution_count": 57,
   "id": "13f9d6e8-d020-4ceb-89d0-14113e0f8b9e",
   "metadata": {
    "id": "13f9d6e8-d020-4ceb-89d0-14113e0f8b9e"
   },
   "outputs": [],
   "source": [
    "from openfl.interface.interactive_api.experiment import DataInterface\n",
    "\n",
    "# A fix to access the following module\n",
    "os.chdir(os.path.join(tutorial_dir, 'workspace'))\n",
    "from wspace_utils.utils import Transform3D\n",
    "\n",
    "class TransformDataset(Dataset):\n",
    "    \"\"\"Applies transforms to each element of the Dataset\"\"\"\n",
    "\n",
    "    def __init__(self, dataset, transform=None, target_transform=None):\n",
    "        \"\"\"Initializes Dataset\"\"\"\n",
    "        self.dataset = dataset\n",
    "        self.transform = transform\n",
    "        self.target_transform = target_transform\n",
    "\n",
    "    def __len__(self):\n",
    "        \"\"\"Returns length of the dataset\"\"\"\n",
    "        return len(self.dataset)\n",
    "\n",
    "    def __getitem__(self, index):\n",
    "        \"\"\"Returns img, label by index, with transforms if any\"\"\"\n",
    "        img, label = self.dataset[index]\n",
    "        img = np.stack([img/255.], axis=0)\n",
    "        \n",
    "        if self.target_transform:\n",
    "            label = self.target_transform(label)\n",
    "        \n",
    "        if self.transform:\n",
    "            img = self.transform(img)\n",
    "\n",
    "        return img, label\n",
    "\n",
    "# Transforms\n",
    "shape_transform = False\n",
    "train_transform = Transform3D(mul='random') if shape_transform else Transform3D()\n",
    "eval_transform = Transform3D(mul='0.5') if shape_transform else Transform3D()\n",
    "\n",
    "class MedMnistFedDataset(DataInterface):\n",
    "\n",
    "    def __init__(self, **kwargs):\n",
    "        self.kwargs = kwargs\n",
    "\n",
    "    @property\n",
    "    def shard_descriptor(self):\n",
    "        return self._shard_descriptor\n",
    "\n",
    "    @shard_descriptor.setter\n",
    "    def shard_descriptor(self, shard_descriptor):\n",
    "        \"\"\"\n",
    "        Describe per-collaborator procedures or sharding.\n",
    "\n",
    "        This method will be called during a collaborator initialization.\n",
    "        Local shard_descriptor  will be set by Envoy.\n",
    "        \"\"\"\n",
    "        self._shard_descriptor = shard_descriptor\n",
    "\n",
    "        self.train_set = TransformDataset(\n",
    "            self._shard_descriptor.get_dataset('train'),\n",
    "            transform=train_transform)\n",
    "\n",
    "        self.valid_set = TransformDataset(\n",
    "            self._shard_descriptor.get_dataset('val'),\n",
    "            transform=eval_transform)\n",
    "\n",
    "    def get_train_loader(self, **kwargs):\n",
    "        \"\"\"Output of this method will be provided to tasks with optimizer in contract\"\"\"\n",
    "        return DataLoader(self.train_set,\n",
    "                          num_workers=8,\n",
    "                          batch_size=self.kwargs['train_bs'],\n",
    "                          shuffle=True)\n",
    "\n",
    "    def get_valid_loader(self, **kwargs):\n",
    "        \"\"\"Output of this method will be provided to tasks without optimizer in contract\"\"\"\n",
    "        return DataLoader(self.valid_set,\n",
    "                          num_workers=8,\n",
    "                          batch_size=self.kwargs['valid_bs'])\n",
    "\n",
    "    def get_train_data_size(self):\n",
    "        \"\"\"Information for aggregation\"\"\"\n",
    "        return len(self.train_set)\n",
    "\n",
    "    def get_valid_data_size(self):\n",
    "        \"\"\"Information for aggregation\"\"\"\n",
    "        return len(self.valid_set)\n"
   ]
  },
  {
   "cell_type": "code",
   "execution_count": 58,
   "id": "ccccaa67-6dfb-437f-b201-46b2a2561730",
   "metadata": {
    "id": "ccccaa67-6dfb-437f-b201-46b2a2561730"
   },
   "outputs": [],
   "source": [
    "fed_dataset = MedMnistFedDataset(train_bs=BATCH_SIZE, valid_bs=BATCH_SIZE)"
   ]
  },
  {
   "cell_type": "markdown",
   "id": "6233e1ed-a2f2-456f-9417-f35a2c27b236",
   "metadata": {
    "id": "6233e1ed-a2f2-456f-9417-f35a2c27b236"
   },
   "source": [
    "### `ModelInterface`"
   ]
  },
  {
   "cell_type": "code",
   "execution_count": 59,
   "id": "885a8530-6248-4060-a30a-45cdc79bc41a",
   "metadata": {
    "id": "885a8530-6248-4060-a30a-45cdc79bc41a"
   },
   "outputs": [],
   "source": [
    "from openfl.interface.interactive_api.experiment import ModelInterface\n",
    "\n",
    "from acsconv.converters import Conv3dConverter\n",
    "from wspace_utils.utils import model_to_syncbn\n",
    "\n",
    "def get_3d_cnn():\n",
    "  ## Fill: Instantiate a model\n",
    "  model = Net(in_channels=ds_info['n_channels'], num_classes=len(ds_info['label'].values()))\n",
    "\n",
    "  ## Fill: Convert model to 3D using Conv3dConverter\n",
    "  model = Conv3dConverter(model, i3d_repeat_axis=None)\n",
    "\n",
    "  ## Fill: Convert all BatchNorm layers to SyncBN layers\n",
    "  model = model_to_syncbn(model)\n",
    "  return model\n",
    "\n",
    "model = get_3d_cnn()\n",
    "optimizer = torch.optim.Adam(model.parameters(), lr=1e-4)  ## Fill: Instantiate an `Adam` Optimizer\n",
    "criterion = nn.CrossEntropyLoss()  ## Fill: Instantiate a CrossEntropyLoss function\n",
    "\n",
    "framework_adapter = 'openfl.plugins.frameworks_adapters.pytorch_adapter.FrameworkAdapterPlugin'\n",
    "MI = ModelInterface(model=model.model,\n",
    "                    optimizer=optimizer,\n",
    "                    framework_plugin=framework_adapter)\n"
   ]
  },
  {
   "cell_type": "markdown",
   "id": "1962b396",
   "metadata": {
    "id": "1962b396"
   },
   "source": [
    "### `TaskInterface`\n",
    "We register our tasks with a `TaskInterface` class.\n",
    "OpenFL decides which model is the best based on an *increasing* metric."
   ]
  },
  {
   "cell_type": "code",
   "execution_count": 60,
   "id": "7e101689-8a63-4562-98ff-09443b1ab9f2",
   "metadata": {
    "colab": {
     "base_uri": "https://localhost:8080/"
    },
    "id": "7e101689-8a63-4562-98ff-09443b1ab9f2",
    "outputId": "3b659598-4c41-4534-e7a0-5433f03b1eb6"
   },
   "outputs": [],
   "source": [
    "from openfl.interface.interactive_api.experiment import TaskInterface\n",
    "\n",
    "# Task interface currently supports only standalone functions.\n",
    "TI = TaskInterface()\n",
    "extra_args = {'criterion': criterion}\n",
    "\n",
    "# Train task\n",
    "@TI.add_kwargs(**extra_args)\n",
    "@TI.register_fl_task(model='model', data_loader='data_loader', device='device', optimizer='optimizer')\n",
    "def train(model: nn.Module, \n",
    "          data_loader: torch.utils.data.DataLoader,\n",
    "          device: str,\n",
    "          optimizer: torch.optim.Optimizer, \n",
    "          criterion: nn.Module) -> dict:\n",
    "    \"\"\"Trains `model` for 1 epoch on `train_loader`\n",
    "\n",
    "    Args:\n",
    "        model (nn.Module): PyTorch Model.\n",
    "        dataloader (torch.utils.data.DataLoader): Training Dataloader.\n",
    "        optimizer (torch.optim.Optimizer): Optimizer instance.\n",
    "        criterion (nn.Module): Loss function instance.\n",
    "\n",
    "    Returns:\n",
    "        dict: `acc` and `loss` metrics over the dataloader\n",
    "    \"\"\"\n",
    "    ## Set the model to training mode\n",
    "    model.train()\n",
    "\n",
    "    ## Initialize counters for accuracy/loss\n",
    "    losses = []\n",
    "    correct = 0\n",
    "    total = 0\n",
    "\n",
    "    ## Create a `for` loop that iterates over the dataloader\n",
    "    for x, y in tqdm(data_loader, desc='training'):\n",
    "        ## Push `x` and `y` tensors to the device\n",
    "        x = x.to(device)\n",
    "        y = torch.squeeze(y).long().to(device)\n",
    "        \n",
    "        ## Clear optimizer gradients\n",
    "        optimizer.zero_grad()\n",
    "        \n",
    "        ## Forward pass `x` through the model to get `preds`\n",
    "        preds = model(x)\n",
    "        \n",
    "        ## Calculate `loss` using the criterion\n",
    "        loss = criterion(preds, y)\n",
    "\n",
    "        ## Backpropagate `loss` to compute gradients\n",
    "        loss.backward()\n",
    "        \n",
    "        ## Apply gradients with step\n",
    "        optimizer.step()\n",
    "        \n",
    "        ## Record metrics\n",
    "        losses.append(loss.item())\n",
    "        correct += torch.sum(preds.max(1)[1] == y).item()\n",
    "        total += y.size(0)\n",
    "\n",
    "    #############################################################\n",
    "    return {\n",
    "        'train_acc': np.round(correct/total, 3),\n",
    "        'train_loss': np.round(np.mean(losses), 3),\n",
    "    }\n",
    "\n",
    "@TI.add_kwargs(**extra_args)\n",
    "@TI.register_fl_task(model='model', data_loader='data_loader', device='device')\n",
    "def validate(model: nn.Module, \n",
    "             data_loader: torch.utils.data.DataLoader,\n",
    "             device: str,\n",
    "             criterion: nn.Module) -> dict:\n",
    "    \"\"\"Computes `acc` and `loss` of the `model` on `val_loader`\n",
    "\n",
    "    Args:\n",
    "        model (nn.Module): PyTorch Model.\n",
    "        data_loader (torch.utils.data.DataLoader): Validation Dataloader.\n",
    "        device (str): 'cpu' or 'cuda'\n",
    "        criterion (nn.Module): Loss function instance.\n",
    "\n",
    "    Returns:\n",
    "        dict: `acc` and `loss` metrics over the dataloader\n",
    "    \"\"\"\n",
    "    ## Set the model to evaluation mode\n",
    "    model.eval()\n",
    "\n",
    "    ## Initialize counters for accuracy/loss\n",
    "    losses = []\n",
    "    correct = 0\n",
    "    total = 0\n",
    "\n",
    "    ## Define a scope that disables gradient calculation\n",
    "    with torch.no_grad():\n",
    "        ## Create a `for` loop that iterates over the dataloader\n",
    "        for x, y in tqdm(data_loader, desc='validating'):\n",
    "            ## Push `x` and `y` tensors to the device\n",
    "            x = x.to(device)\n",
    "            y = torch.squeeze(y).long().to(device)\n",
    "            \n",
    "            ## Forward pass `x` through the model to get `preds`\n",
    "            preds = model(x)\n",
    "            \n",
    "            ## Calculate `loss` using the criterion\n",
    "            loss = criterion(preds, y)\n",
    "            \n",
    "            ## Record metrics\n",
    "            losses.append(loss.item())\n",
    "            correct += torch.sum(preds.max(1)[1] == y).item()\n",
    "            total += y.size(0)\n",
    "\n",
    "    #############################################################\n",
    "\n",
    "    return {\n",
    "        'val_acc': np.round(correct/total, 3),\n",
    "        'val_loss': np.round(np.mean(losses), 3),\n",
    "    }"
   ]
  },
  {
   "cell_type": "markdown",
   "id": "40a4623e-6559-4d4c-b199-f9afe16c0bbd",
   "metadata": {
    "id": "40a4623e-6559-4d4c-b199-f9afe16c0bbd",
    "tags": []
   },
   "source": [
    "### Run the Experiment"
   ]
  },
  {
   "cell_type": "code",
   "execution_count": 61,
   "id": "fb357a88-7098-45b2-85f4-71fe2f2e0f82",
   "metadata": {
    "colab": {
     "base_uri": "https://localhost:8080/"
    },
    "id": "fb357a88-7098-45b2-85f4-71fe2f2e0f82",
    "outputId": "80bbefa7-a826-47d4-a620-06d42e1b2cd3"
   },
   "outputs": [
    {
     "data": {
      "text/html": [
       "<pre style=\"white-space:pre;overflow-x:auto;line-height:normal;font-family:Menlo,'DejaVu Sans Mono',consolas,'Courier New',monospace\"><span style=\"color: #7fbfbf; text-decoration-color: #7fbfbf\">[16:45:08] </span><span style=\"color: #000080; text-decoration-color: #000080\">INFO    </span> Building <span style=\"color: #800000; text-decoration-color: #800000\">🡆</span> Object <span style=\"color: #800000; text-decoration-color: #800000\">CloudpickleSerializer</span> from <span style=\"color: #800000; text-decoration-color: #800000\">openfl.plugins.interface_serializer.cloudpickle_serializer</span> Module.                  <a href=\"file:///home/karan/workspace/fl-tutorial/venv/lib/python3.8/site-packages/openfl/federated/plan/plan.py\" target=\"_blank\"><span style=\"color: #7f7f7f; text-decoration-color: #7f7f7f\">plan.py</span></a><span style=\"color: #7f7f7f; text-decoration-color: #7f7f7f\">:</span><a href=\"file:///home/karan/workspace/fl-tutorial/venv/lib/python3.8/site-packages/openfl/federated/plan/plan.py#173\" target=\"_blank\"><span style=\"color: #7f7f7f; text-decoration-color: #7f7f7f\">173</span></a>\n",
       "</pre>\n"
      ],
      "text/plain": [
       "\u001b[2;36m[16:45:08]\u001b[0m\u001b[2;36m \u001b[0m\u001b[34mINFO    \u001b[0m Building \u001b[31m🡆\u001b[0m Object \u001b[31mCloudpickleSerializer\u001b[0m from \u001b[31mopenfl.plugins.interface_serializer.cloudpickle_serializer\u001b[0m Module.                  \u001b]8;id=638855;file:///home/karan/workspace/fl-tutorial/venv/lib/python3.8/site-packages/openfl/federated/plan/plan.py\u001b\\\u001b[2mplan.py\u001b[0m\u001b]8;;\u001b\\\u001b[2m:\u001b[0m\u001b]8;id=643304;file:///home/karan/workspace/fl-tutorial/venv/lib/python3.8/site-packages/openfl/federated/plan/plan.py#173\u001b\\\u001b[2m173\u001b[0m\u001b]8;;\u001b\\\n"
      ]
     },
     "metadata": {},
     "output_type": "display_data"
    },
    {
     "data": {
      "text/html": [
       "<pre style=\"white-space:pre;overflow-x:auto;line-height:normal;font-family:Menlo,'DejaVu Sans Mono',consolas,'Courier New',monospace\"><span style=\"color: #7fbfbf; text-decoration-color: #7fbfbf\">           </span><span style=\"color: #000080; text-decoration-color: #000080\">INFO    </span> Building <span style=\"color: #800000; text-decoration-color: #800000\">🡆</span> Object <span style=\"color: #800000; text-decoration-color: #800000\">FrameworkAdapterPlugin</span> from <span style=\"color: #800000; text-decoration-color: #800000\">openfl.plugins.frameworks_adapters.pytorch_adapter</span> Module.                         <a href=\"file:///home/karan/workspace/fl-tutorial/venv/lib/python3.8/site-packages/openfl/federated/plan/plan.py\" target=\"_blank\"><span style=\"color: #7f7f7f; text-decoration-color: #7f7f7f\">plan.py</span></a><span style=\"color: #7f7f7f; text-decoration-color: #7f7f7f\">:</span><a href=\"file:///home/karan/workspace/fl-tutorial/venv/lib/python3.8/site-packages/openfl/federated/plan/plan.py#173\" target=\"_blank\"><span style=\"color: #7f7f7f; text-decoration-color: #7f7f7f\">173</span></a>\n",
       "</pre>\n"
      ],
      "text/plain": [
       "\u001b[2;36m          \u001b[0m\u001b[2;36m \u001b[0m\u001b[34mINFO    \u001b[0m Building \u001b[31m🡆\u001b[0m Object \u001b[31mFrameworkAdapterPlugin\u001b[0m from \u001b[31mopenfl.plugins.frameworks_adapters.pytorch_adapter\u001b[0m Module.                         \u001b]8;id=142494;file:///home/karan/workspace/fl-tutorial/venv/lib/python3.8/site-packages/openfl/federated/plan/plan.py\u001b\\\u001b[2mplan.py\u001b[0m\u001b]8;;\u001b\\\u001b[2m:\u001b[0m\u001b]8;id=771139;file:///home/karan/workspace/fl-tutorial/venv/lib/python3.8/site-packages/openfl/federated/plan/plan.py#173\u001b\\\u001b[2m173\u001b[0m\u001b]8;;\u001b\\\n"
      ]
     },
     "metadata": {},
     "output_type": "display_data"
    },
    {
     "data": {
      "text/html": [
       "<pre style=\"white-space:pre;overflow-x:auto;line-height:normal;font-family:Menlo,'DejaVu Sans Mono',consolas,'Courier New',monospace\"><span style=\"color: #7fbfbf; text-decoration-color: #7fbfbf\">[16:45:09] </span><span style=\"color: #000080; text-decoration-color: #000080\">INFO    </span> Starting experiment!                                                                                                       <a href=\"file:///home/karan/workspace/fl-tutorial/venv/lib/python3.8/site-packages/openfl/interface/interactive_api/experiment.py\" target=\"_blank\"><span style=\"color: #7f7f7f; text-decoration-color: #7f7f7f\">experiment.py</span></a><span style=\"color: #7f7f7f; text-decoration-color: #7f7f7f\">:</span><a href=\"file:///home/karan/workspace/fl-tutorial/venv/lib/python3.8/site-packages/openfl/interface/interactive_api/experiment.py#232\" target=\"_blank\"><span style=\"color: #7f7f7f; text-decoration-color: #7f7f7f\">232</span></a>\n",
       "</pre>\n"
      ],
      "text/plain": [
       "\u001b[2;36m[16:45:09]\u001b[0m\u001b[2;36m \u001b[0m\u001b[34mINFO    \u001b[0m Starting experiment!                                                                                                       \u001b]8;id=308280;file:///home/karan/workspace/fl-tutorial/venv/lib/python3.8/site-packages/openfl/interface/interactive_api/experiment.py\u001b\\\u001b[2mexperiment.py\u001b[0m\u001b]8;;\u001b\\\u001b[2m:\u001b[0m\u001b]8;id=479831;file:///home/karan/workspace/fl-tutorial/venv/lib/python3.8/site-packages/openfl/interface/interactive_api/experiment.py#232\u001b\\\u001b[2m232\u001b[0m\u001b]8;;\u001b\\\n"
      ]
     },
     "metadata": {},
     "output_type": "display_data"
    },
    {
     "data": {
      "text/html": [
       "<pre style=\"white-space:pre;overflow-x:auto;line-height:normal;font-family:Menlo,'DejaVu Sans Mono',consolas,'Courier New',monospace\"><span style=\"color: #7fbfbf; text-decoration-color: #7fbfbf\">           </span><span style=\"color: #000080; text-decoration-color: #000080\">INFO    </span> FL-Plan hash is <span style=\"color: #000080; text-decoration-color: #000080\">27591f501077d830429fb98552ec6e23b921f54c2ad47f6b81f718025dfb4918c2961ef1ee31bd9d84c9d5d256c962f0</span>                 <a href=\"file:///home/karan/workspace/fl-tutorial/venv/lib/python3.8/site-packages/openfl/federated/plan/plan.py\" target=\"_blank\"><span style=\"color: #7f7f7f; text-decoration-color: #7f7f7f\">plan.py</span></a><span style=\"color: #7f7f7f; text-decoration-color: #7f7f7f\">:</span><a href=\"file:///home/karan/workspace/fl-tutorial/venv/lib/python3.8/site-packages/openfl/federated/plan/plan.py#237\" target=\"_blank\"><span style=\"color: #7f7f7f; text-decoration-color: #7f7f7f\">237</span></a>\n",
       "</pre>\n"
      ],
      "text/plain": [
       "\u001b[2;36m          \u001b[0m\u001b[2;36m \u001b[0m\u001b[34mINFO    \u001b[0m FL-Plan hash is \u001b[34m27591f501077d830429fb98552ec6e23b921f54c2ad47f6b81f718025dfb4918c2961ef1ee31bd9d84c9d5d256c962f0\u001b[0m                 \u001b]8;id=428003;file:///home/karan/workspace/fl-tutorial/venv/lib/python3.8/site-packages/openfl/federated/plan/plan.py\u001b\\\u001b[2mplan.py\u001b[0m\u001b]8;;\u001b\\\u001b[2m:\u001b[0m\u001b]8;id=815633;file:///home/karan/workspace/fl-tutorial/venv/lib/python3.8/site-packages/openfl/federated/plan/plan.py#237\u001b\\\u001b[2m237\u001b[0m\u001b]8;;\u001b\\\n"
      ]
     },
     "metadata": {},
     "output_type": "display_data"
    },
    {
     "data": {
      "text/html": [
       "<pre style=\"white-space:pre;overflow-x:auto;line-height:normal;font-family:Menlo,'DejaVu Sans Mono',consolas,'Courier New',monospace\"><span style=\"color: #7fbfbf; text-decoration-color: #7fbfbf\">           </span><span style=\"color: #000080; text-decoration-color: #000080\">INFO    </span> FL-Plan hash is <span style=\"color: #000080; text-decoration-color: #000080\">27591f501077d830429fb98552ec6e23b921f54c2ad47f6b81f718025dfb4918c2961ef1ee31bd9d84c9d5d256c962f0</span>                 <a href=\"file:///home/karan/workspace/fl-tutorial/venv/lib/python3.8/site-packages/openfl/federated/plan/plan.py\" target=\"_blank\"><span style=\"color: #7f7f7f; text-decoration-color: #7f7f7f\">plan.py</span></a><span style=\"color: #7f7f7f; text-decoration-color: #7f7f7f\">:</span><a href=\"file:///home/karan/workspace/fl-tutorial/venv/lib/python3.8/site-packages/openfl/federated/plan/plan.py#237\" target=\"_blank\"><span style=\"color: #7f7f7f; text-decoration-color: #7f7f7f\">237</span></a>\n",
       "</pre>\n"
      ],
      "text/plain": [
       "\u001b[2;36m          \u001b[0m\u001b[2;36m \u001b[0m\u001b[34mINFO    \u001b[0m FL-Plan hash is \u001b[34m27591f501077d830429fb98552ec6e23b921f54c2ad47f6b81f718025dfb4918c2961ef1ee31bd9d84c9d5d256c962f0\u001b[0m                 \u001b]8;id=252920;file:///home/karan/workspace/fl-tutorial/venv/lib/python3.8/site-packages/openfl/federated/plan/plan.py\u001b\\\u001b[2mplan.py\u001b[0m\u001b]8;;\u001b\\\u001b[2m:\u001b[0m\u001b]8;id=733489;file:///home/karan/workspace/fl-tutorial/venv/lib/python3.8/site-packages/openfl/federated/plan/plan.py#237\u001b\\\u001b[2m237\u001b[0m\u001b]8;;\u001b\\\n"
      ]
     },
     "metadata": {},
     "output_type": "display_data"
    },
    {
     "data": {
      "text/html": [
       "<pre style=\"white-space:pre;overflow-x:auto;line-height:normal;font-family:Menlo,'DejaVu Sans Mono',consolas,'Courier New',monospace\"><span style=\"color: #7fbfbf; text-decoration-color: #7fbfbf\">           </span><span style=\"color: #000080; text-decoration-color: #000080\">INFO    </span> Building <span style=\"color: #800000; text-decoration-color: #800000\">🡆</span> Object <span style=\"color: #800000; text-decoration-color: #800000\">CoreTaskRunner</span> from <span style=\"color: #800000; text-decoration-color: #800000\">openfl.federated.task.task_runner</span> Module.                                                  <a href=\"file:///home/karan/workspace/fl-tutorial/venv/lib/python3.8/site-packages/openfl/federated/plan/plan.py\" target=\"_blank\"><span style=\"color: #7f7f7f; text-decoration-color: #7f7f7f\">plan.py</span></a><span style=\"color: #7f7f7f; text-decoration-color: #7f7f7f\">:</span><a href=\"file:///home/karan/workspace/fl-tutorial/venv/lib/python3.8/site-packages/openfl/federated/plan/plan.py#173\" target=\"_blank\"><span style=\"color: #7f7f7f; text-decoration-color: #7f7f7f\">173</span></a>\n",
       "</pre>\n"
      ],
      "text/plain": [
       "\u001b[2;36m          \u001b[0m\u001b[2;36m \u001b[0m\u001b[34mINFO    \u001b[0m Building \u001b[31m🡆\u001b[0m Object \u001b[31mCoreTaskRunner\u001b[0m from \u001b[31mopenfl.federated.task.task_runner\u001b[0m Module.                                                  \u001b]8;id=869260;file:///home/karan/workspace/fl-tutorial/venv/lib/python3.8/site-packages/openfl/federated/plan/plan.py\u001b\\\u001b[2mplan.py\u001b[0m\u001b]8;;\u001b\\\u001b[2m:\u001b[0m\u001b]8;id=950383;file:///home/karan/workspace/fl-tutorial/venv/lib/python3.8/site-packages/openfl/federated/plan/plan.py#173\u001b\\\u001b[2m173\u001b[0m\u001b]8;;\u001b\\\n"
      ]
     },
     "metadata": {},
     "output_type": "display_data"
    },
    {
     "data": {
      "text/html": [
       "<pre style=\"white-space:pre;overflow-x:auto;line-height:normal;font-family:Menlo,'DejaVu Sans Mono',consolas,'Courier New',monospace\"><span style=\"color: #7fbfbf; text-decoration-color: #7fbfbf\">           </span><span style=\"color: #000080; text-decoration-color: #000080\">INFO    </span> Building <span style=\"color: #800000; text-decoration-color: #800000\">🡆</span> Object <span style=\"color: #800000; text-decoration-color: #800000\">FrameworkAdapterPlugin</span> from <span style=\"color: #800000; text-decoration-color: #800000\">openfl.plugins.frameworks_adapters.pytorch_adapter</span> Module.                         <a href=\"file:///home/karan/workspace/fl-tutorial/venv/lib/python3.8/site-packages/openfl/federated/plan/plan.py\" target=\"_blank\"><span style=\"color: #7f7f7f; text-decoration-color: #7f7f7f\">plan.py</span></a><span style=\"color: #7f7f7f; text-decoration-color: #7f7f7f\">:</span><a href=\"file:///home/karan/workspace/fl-tutorial/venv/lib/python3.8/site-packages/openfl/federated/plan/plan.py#173\" target=\"_blank\"><span style=\"color: #7f7f7f; text-decoration-color: #7f7f7f\">173</span></a>\n",
       "</pre>\n"
      ],
      "text/plain": [
       "\u001b[2;36m          \u001b[0m\u001b[2;36m \u001b[0m\u001b[34mINFO    \u001b[0m Building \u001b[31m🡆\u001b[0m Object \u001b[31mFrameworkAdapterPlugin\u001b[0m from \u001b[31mopenfl.plugins.frameworks_adapters.pytorch_adapter\u001b[0m Module.                         \u001b]8;id=448623;file:///home/karan/workspace/fl-tutorial/venv/lib/python3.8/site-packages/openfl/federated/plan/plan.py\u001b\\\u001b[2mplan.py\u001b[0m\u001b]8;;\u001b\\\u001b[2m:\u001b[0m\u001b]8;id=578276;file:///home/karan/workspace/fl-tutorial/venv/lib/python3.8/site-packages/openfl/federated/plan/plan.py#173\u001b\\\u001b[2m173\u001b[0m\u001b]8;;\u001b\\\n"
      ]
     },
     "metadata": {},
     "output_type": "display_data"
    },
    {
     "data": {
      "text/html": [
       "<pre style=\"white-space:pre;overflow-x:auto;line-height:normal;font-family:Menlo,'DejaVu Sans Mono',consolas,'Courier New',monospace\"><span style=\"color: #7fbfbf; text-decoration-color: #7fbfbf\">           </span><span style=\"color: #800000; text-decoration-color: #800000\">WARNING </span> tried to remove tensor: __opt_state_needed not present in the tensor dict                                                       <a href=\"file:///home/karan/workspace/fl-tutorial/venv/lib/python3.8/site-packages/openfl/utilities/utils.py\" target=\"_blank\"><span style=\"color: #7f7f7f; text-decoration-color: #7f7f7f\">utils.py</span></a><span style=\"color: #7f7f7f; text-decoration-color: #7f7f7f\">:</span><a href=\"file:///home/karan/workspace/fl-tutorial/venv/lib/python3.8/site-packages/openfl/utilities/utils.py#170\" target=\"_blank\"><span style=\"color: #7f7f7f; text-decoration-color: #7f7f7f\">170</span></a>\n",
       "</pre>\n"
      ],
      "text/plain": [
       "\u001b[2;36m          \u001b[0m\u001b[2;36m \u001b[0m\u001b[31mWARNING \u001b[0m tried to remove tensor: __opt_state_needed not present in the tensor dict                                                       \u001b]8;id=33786;file:///home/karan/workspace/fl-tutorial/venv/lib/python3.8/site-packages/openfl/utilities/utils.py\u001b\\\u001b[2mutils.py\u001b[0m\u001b]8;;\u001b\\\u001b[2m:\u001b[0m\u001b]8;id=84034;file:///home/karan/workspace/fl-tutorial/venv/lib/python3.8/site-packages/openfl/utilities/utils.py#170\u001b\\\u001b[2m170\u001b[0m\u001b]8;;\u001b\\\n"
      ]
     },
     "metadata": {},
     "output_type": "display_data"
    },
    {
     "data": {
      "text/html": [
       "<pre style=\"white-space:pre;overflow-x:auto;line-height:normal;font-family:Menlo,'DejaVu Sans Mono',consolas,'Courier New',monospace\"><span style=\"color: #7fbfbf; text-decoration-color: #7fbfbf\">           </span><span style=\"color: #800000; text-decoration-color: #800000\">WARNING </span> tried to remove tensor: __opt_state_needed not present in the tensor dict                                                       <a href=\"file:///home/karan/workspace/fl-tutorial/venv/lib/python3.8/site-packages/openfl/utilities/utils.py\" target=\"_blank\"><span style=\"color: #7f7f7f; text-decoration-color: #7f7f7f\">utils.py</span></a><span style=\"color: #7f7f7f; text-decoration-color: #7f7f7f\">:</span><a href=\"file:///home/karan/workspace/fl-tutorial/venv/lib/python3.8/site-packages/openfl/utilities/utils.py#170\" target=\"_blank\"><span style=\"color: #7f7f7f; text-decoration-color: #7f7f7f\">170</span></a>\n",
       "</pre>\n"
      ],
      "text/plain": [
       "\u001b[2;36m          \u001b[0m\u001b[2;36m \u001b[0m\u001b[31mWARNING \u001b[0m tried to remove tensor: __opt_state_needed not present in the tensor dict                                                       \u001b]8;id=392212;file:///home/karan/workspace/fl-tutorial/venv/lib/python3.8/site-packages/openfl/utilities/utils.py\u001b\\\u001b[2mutils.py\u001b[0m\u001b]8;;\u001b\\\u001b[2m:\u001b[0m\u001b]8;id=697157;file:///home/karan/workspace/fl-tutorial/venv/lib/python3.8/site-packages/openfl/utilities/utils.py#170\u001b\\\u001b[2m170\u001b[0m\u001b]8;;\u001b\\\n"
      ]
     },
     "metadata": {},
     "output_type": "display_data"
    },
    {
     "data": {
      "text/html": [
       "<pre style=\"white-space:pre;overflow-x:auto;line-height:normal;font-family:Menlo,'DejaVu Sans Mono',consolas,'Courier New',monospace\"><span style=\"color: #7fbfbf; text-decoration-color: #7fbfbf\">           </span><span style=\"color: #000080; text-decoration-color: #000080\">INFO    </span> SetNewExperiment                                                                                                      <a href=\"file:///home/karan/workspace/fl-tutorial/venv/lib/python3.8/site-packages/openfl/transport/grpc/director_client.py\" target=\"_blank\"><span style=\"color: #7f7f7f; text-decoration-color: #7f7f7f\">director_client.py</span></a><span style=\"color: #7f7f7f; text-decoration-color: #7f7f7f\">:</span><a href=\"file:///home/karan/workspace/fl-tutorial/venv/lib/python3.8/site-packages/openfl/transport/grpc/director_client.py#202\" target=\"_blank\"><span style=\"color: #7f7f7f; text-decoration-color: #7f7f7f\">202</span></a>\n",
       "</pre>\n"
      ],
      "text/plain": [
       "\u001b[2;36m          \u001b[0m\u001b[2;36m \u001b[0m\u001b[34mINFO    \u001b[0m SetNewExperiment                                                                                                      \u001b]8;id=363874;file:///home/karan/workspace/fl-tutorial/venv/lib/python3.8/site-packages/openfl/transport/grpc/director_client.py\u001b\\\u001b[2mdirector_client.py\u001b[0m\u001b]8;;\u001b\\\u001b[2m:\u001b[0m\u001b]8;id=901812;file:///home/karan/workspace/fl-tutorial/venv/lib/python3.8/site-packages/openfl/transport/grpc/director_client.py#202\u001b\\\u001b[2m202\u001b[0m\u001b]8;;\u001b\\\n"
      ]
     },
     "metadata": {},
     "output_type": "display_data"
    },
    {
     "data": {
      "text/html": [
       "<pre style=\"white-space:pre;overflow-x:auto;line-height:normal;font-family:Menlo,'DejaVu Sans Mono',consolas,'Courier New',monospace\"><span style=\"color: #7fbfbf; text-decoration-color: #7fbfbf\">           </span><span style=\"color: #000080; text-decoration-color: #000080\">INFO    </span> Experiment was accepted and launched.                                                                                      <a href=\"file:///home/karan/workspace/fl-tutorial/venv/lib/python3.8/site-packages/openfl/interface/interactive_api/experiment.py\" target=\"_blank\"><span style=\"color: #7f7f7f; text-decoration-color: #7f7f7f\">experiment.py</span></a><span style=\"color: #7f7f7f; text-decoration-color: #7f7f7f\">:</span><a href=\"file:///home/karan/workspace/fl-tutorial/venv/lib/python3.8/site-packages/openfl/interface/interactive_api/experiment.py#246\" target=\"_blank\"><span style=\"color: #7f7f7f; text-decoration-color: #7f7f7f\">246</span></a>\n",
       "</pre>\n"
      ],
      "text/plain": [
       "\u001b[2;36m          \u001b[0m\u001b[2;36m \u001b[0m\u001b[34mINFO    \u001b[0m Experiment was accepted and launched.                                                                                      \u001b]8;id=591297;file:///home/karan/workspace/fl-tutorial/venv/lib/python3.8/site-packages/openfl/interface/interactive_api/experiment.py\u001b\\\u001b[2mexperiment.py\u001b[0m\u001b]8;;\u001b\\\u001b[2m:\u001b[0m\u001b]8;id=418350;file:///home/karan/workspace/fl-tutorial/venv/lib/python3.8/site-packages/openfl/interface/interactive_api/experiment.py#246\u001b\\\u001b[2m246\u001b[0m\u001b]8;;\u001b\\\n"
      ]
     },
     "metadata": {},
     "output_type": "display_data"
    },
    {
     "name": "stdout",
     "output_type": "stream",
     "text": [
      "/home/karan/workspace/fl-tutorial/venv/lib/python3.8/site-packages/openfl/plugins/frameworks_adapters/pytorch_adapter.py:47: UserWarning: The given NumPy array is not writeable, and PyTorch does not support non-writeable tensors. This means you can write to the underlying (supposedly non-writeable) NumPy array using the tensor. You may want to copy the array to protect its data or make it writeable before converting it to a tensor. This type of warning will be suppressed for the rest of this program. (Triggered internally at  ../torch/csrc/utils/tensor_numpy.cpp:143.)\n",
      "  new_state[k] = pt.from_numpy(tensor_dict.pop(k)).to(device)\n",
      "training:   0%|          | 0/39 [00:00<?, ?it/s]/home/karan/workspace/fl-tutorial/venv/lib/python3.8/site-packages/openfl/plugins/frameworks_adapters/pytorch_adapter.py:47: UserWarning: The given NumPy array is not writeable, and PyTorch does not support non-writeable tensors. This means you can write to the underlying (supposedly non-writeable) NumPy array using the tensor. You may want to copy the array to protect its data or make it writeable before converting it to a tensor. This type of warning will be suppressed for the rest of this program. (Triggered internally at  ../torch/csrc/utils/tensor_numpy.cpp:143.)\n",
      "  new_state[k] = pt.from_numpy(tensor_dict.pop(k)).to(device)\n",
      "training: 100%|██████████| 39/39 [00:28<00:00,  1.35it/s]\n",
      "training: 100%|██████████| 39/39 [00:29<00:00,  1.34it/s]\n",
      "validating:   9%|▉         | 1/11 [00:00<00:04,  2.17it/s]"
     ]
    },
    {
     "data": {
      "text/html": [
       "<pre style=\"white-space:pre;overflow-x:auto;line-height:normal;font-family:Menlo,'DejaVu Sans Mono',consolas,'Courier New',monospace\"><span style=\"color: #7fbfbf; text-decoration-color: #7fbfbf\">[16:45:50] </span>METRIC   Round <span style=\"color: #008080; text-decoration-color: #008080; font-weight: bold\">0</span>, collaborator trained train result train_acc:   <span style=\"color: #008080; text-decoration-color: #008080; font-weight: bold\">0.681000</span>                                                           <a href=\"file:///home/karan/workspace/fl-tutorial/venv/lib/python3.8/site-packages/openfl/interface/interactive_api/experiment.py\" target=\"_blank\"><span style=\"color: #7f7f7f; text-decoration-color: #7f7f7f\">experiment.py</span></a><span style=\"color: #7f7f7f; text-decoration-color: #7f7f7f\">:</span><a href=\"file:///home/karan/workspace/fl-tutorial/venv/lib/python3.8/site-packages/openfl/interface/interactive_api/experiment.py#132\" target=\"_blank\"><span style=\"color: #7f7f7f; text-decoration-color: #7f7f7f\">132</span></a>\n",
       "</pre>\n"
      ],
      "text/plain": [
       "\u001b[2;36m[16:45:50]\u001b[0m\u001b[2;36m \u001b[0mMETRIC   Round \u001b[1;36m0\u001b[0m, collaborator trained train result train_acc:   \u001b[1;36m0.681000\u001b[0m                                                           \u001b]8;id=366627;file:///home/karan/workspace/fl-tutorial/venv/lib/python3.8/site-packages/openfl/interface/interactive_api/experiment.py\u001b\\\u001b[2mexperiment.py\u001b[0m\u001b]8;;\u001b\\\u001b[2m:\u001b[0m\u001b]8;id=674250;file:///home/karan/workspace/fl-tutorial/venv/lib/python3.8/site-packages/openfl/interface/interactive_api/experiment.py#132\u001b\\\u001b[2m132\u001b[0m\u001b]8;;\u001b\\\n"
      ]
     },
     "metadata": {},
     "output_type": "display_data"
    },
    {
     "data": {
      "text/html": [
       "<pre style=\"white-space:pre;overflow-x:auto;line-height:normal;font-family:Menlo,'DejaVu Sans Mono',consolas,'Courier New',monospace\"><span style=\"color: #7fbfbf; text-decoration-color: #7fbfbf\">           </span>METRIC   Round <span style=\"color: #008080; text-decoration-color: #008080; font-weight: bold\">0</span>, collaborator trained train result train_loss:  <span style=\"color: #008080; text-decoration-color: #008080; font-weight: bold\">0.665000</span>                                                           <a href=\"file:///home/karan/workspace/fl-tutorial/venv/lib/python3.8/site-packages/openfl/interface/interactive_api/experiment.py\" target=\"_blank\"><span style=\"color: #7f7f7f; text-decoration-color: #7f7f7f\">experiment.py</span></a><span style=\"color: #7f7f7f; text-decoration-color: #7f7f7f\">:</span><a href=\"file:///home/karan/workspace/fl-tutorial/venv/lib/python3.8/site-packages/openfl/interface/interactive_api/experiment.py#132\" target=\"_blank\"><span style=\"color: #7f7f7f; text-decoration-color: #7f7f7f\">132</span></a>\n",
       "</pre>\n"
      ],
      "text/plain": [
       "\u001b[2;36m          \u001b[0m\u001b[2;36m \u001b[0mMETRIC   Round \u001b[1;36m0\u001b[0m, collaborator trained train result train_loss:  \u001b[1;36m0.665000\u001b[0m                                                           \u001b]8;id=999911;file:///home/karan/workspace/fl-tutorial/venv/lib/python3.8/site-packages/openfl/interface/interactive_api/experiment.py\u001b\\\u001b[2mexperiment.py\u001b[0m\u001b]8;;\u001b\\\u001b[2m:\u001b[0m\u001b]8;id=932526;file:///home/karan/workspace/fl-tutorial/venv/lib/python3.8/site-packages/openfl/interface/interactive_api/experiment.py#132\u001b\\\u001b[2m132\u001b[0m\u001b]8;;\u001b\\\n"
      ]
     },
     "metadata": {},
     "output_type": "display_data"
    },
    {
     "data": {
      "text/html": [
       "<pre style=\"white-space:pre;overflow-x:auto;line-height:normal;font-family:Menlo,'DejaVu Sans Mono',consolas,'Courier New',monospace\"><span style=\"color: #7fbfbf; text-decoration-color: #7fbfbf\">           </span>METRIC   Round <span style=\"color: #008080; text-decoration-color: #008080; font-weight: bold\">0</span>, collaborator trained train result train_acc:   <span style=\"color: #008080; text-decoration-color: #008080; font-weight: bold\">0.689000</span>                                                           <a href=\"file:///home/karan/workspace/fl-tutorial/venv/lib/python3.8/site-packages/openfl/interface/interactive_api/experiment.py\" target=\"_blank\"><span style=\"color: #7f7f7f; text-decoration-color: #7f7f7f\">experiment.py</span></a><span style=\"color: #7f7f7f; text-decoration-color: #7f7f7f\">:</span><a href=\"file:///home/karan/workspace/fl-tutorial/venv/lib/python3.8/site-packages/openfl/interface/interactive_api/experiment.py#132\" target=\"_blank\"><span style=\"color: #7f7f7f; text-decoration-color: #7f7f7f\">132</span></a>\n",
       "</pre>\n"
      ],
      "text/plain": [
       "\u001b[2;36m          \u001b[0m\u001b[2;36m \u001b[0mMETRIC   Round \u001b[1;36m0\u001b[0m, collaborator trained train result train_acc:   \u001b[1;36m0.689000\u001b[0m                                                           \u001b]8;id=381189;file:///home/karan/workspace/fl-tutorial/venv/lib/python3.8/site-packages/openfl/interface/interactive_api/experiment.py\u001b\\\u001b[2mexperiment.py\u001b[0m\u001b]8;;\u001b\\\u001b[2m:\u001b[0m\u001b]8;id=724337;file:///home/karan/workspace/fl-tutorial/venv/lib/python3.8/site-packages/openfl/interface/interactive_api/experiment.py#132\u001b\\\u001b[2m132\u001b[0m\u001b]8;;\u001b\\\n"
      ]
     },
     "metadata": {},
     "output_type": "display_data"
    },
    {
     "data": {
      "text/html": [
       "<pre style=\"white-space:pre;overflow-x:auto;line-height:normal;font-family:Menlo,'DejaVu Sans Mono',consolas,'Courier New',monospace\"><span style=\"color: #7fbfbf; text-decoration-color: #7fbfbf\">           </span>METRIC   Round <span style=\"color: #008080; text-decoration-color: #008080; font-weight: bold\">0</span>, collaborator trained train result train_loss:  <span style=\"color: #008080; text-decoration-color: #008080; font-weight: bold\">0.653000</span>                                                           <a href=\"file:///home/karan/workspace/fl-tutorial/venv/lib/python3.8/site-packages/openfl/interface/interactive_api/experiment.py\" target=\"_blank\"><span style=\"color: #7f7f7f; text-decoration-color: #7f7f7f\">experiment.py</span></a><span style=\"color: #7f7f7f; text-decoration-color: #7f7f7f\">:</span><a href=\"file:///home/karan/workspace/fl-tutorial/venv/lib/python3.8/site-packages/openfl/interface/interactive_api/experiment.py#132\" target=\"_blank\"><span style=\"color: #7f7f7f; text-decoration-color: #7f7f7f\">132</span></a>\n",
       "</pre>\n"
      ],
      "text/plain": [
       "\u001b[2;36m          \u001b[0m\u001b[2;36m \u001b[0mMETRIC   Round \u001b[1;36m0\u001b[0m, collaborator trained train result train_loss:  \u001b[1;36m0.653000\u001b[0m                                                           \u001b]8;id=158153;file:///home/karan/workspace/fl-tutorial/venv/lib/python3.8/site-packages/openfl/interface/interactive_api/experiment.py\u001b\\\u001b[2mexperiment.py\u001b[0m\u001b]8;;\u001b\\\u001b[2m:\u001b[0m\u001b]8;id=238786;file:///home/karan/workspace/fl-tutorial/venv/lib/python3.8/site-packages/openfl/interface/interactive_api/experiment.py#132\u001b\\\u001b[2m132\u001b[0m\u001b]8;;\u001b\\\n"
      ]
     },
     "metadata": {},
     "output_type": "display_data"
    },
    {
     "name": "stdout",
     "output_type": "stream",
     "text": [
      "validating: 100%|██████████| 11/11 [00:02<00:00,  3.82it/s]\n",
      "validating: 100%|██████████| 11/11 [00:02<00:00,  3.83it/s]\n",
      "validating:   9%|▉         | 1/11 [00:00<00:04,  2.29it/s]"
     ]
    },
    {
     "data": {
      "text/html": [
       "<pre style=\"white-space:pre;overflow-x:auto;line-height:normal;font-family:Menlo,'DejaVu Sans Mono',consolas,'Courier New',monospace\"><span style=\"color: #7fbfbf; text-decoration-color: #7fbfbf\">[16:45:53] </span>METRIC   Round <span style=\"color: #008080; text-decoration-color: #008080; font-weight: bold\">0</span>, collaborator validate_local locally_tuned_model_validate result val_acc:       <span style=\"color: #008080; text-decoration-color: #008080; font-weight: bold\">0.727000</span>                           <a href=\"file:///home/karan/workspace/fl-tutorial/venv/lib/python3.8/site-packages/openfl/interface/interactive_api/experiment.py\" target=\"_blank\"><span style=\"color: #7f7f7f; text-decoration-color: #7f7f7f\">experiment.py</span></a><span style=\"color: #7f7f7f; text-decoration-color: #7f7f7f\">:</span><a href=\"file:///home/karan/workspace/fl-tutorial/venv/lib/python3.8/site-packages/openfl/interface/interactive_api/experiment.py#132\" target=\"_blank\"><span style=\"color: #7f7f7f; text-decoration-color: #7f7f7f\">132</span></a>\n",
       "</pre>\n"
      ],
      "text/plain": [
       "\u001b[2;36m[16:45:53]\u001b[0m\u001b[2;36m \u001b[0mMETRIC   Round \u001b[1;36m0\u001b[0m, collaborator validate_local locally_tuned_model_validate result val_acc:       \u001b[1;36m0.727000\u001b[0m                           \u001b]8;id=738887;file:///home/karan/workspace/fl-tutorial/venv/lib/python3.8/site-packages/openfl/interface/interactive_api/experiment.py\u001b\\\u001b[2mexperiment.py\u001b[0m\u001b]8;;\u001b\\\u001b[2m:\u001b[0m\u001b]8;id=232609;file:///home/karan/workspace/fl-tutorial/venv/lib/python3.8/site-packages/openfl/interface/interactive_api/experiment.py#132\u001b\\\u001b[2m132\u001b[0m\u001b]8;;\u001b\\\n"
      ]
     },
     "metadata": {},
     "output_type": "display_data"
    },
    {
     "data": {
      "text/html": [
       "<pre style=\"white-space:pre;overflow-x:auto;line-height:normal;font-family:Menlo,'DejaVu Sans Mono',consolas,'Courier New',monospace\"><span style=\"color: #7fbfbf; text-decoration-color: #7fbfbf\">           </span>METRIC   Round <span style=\"color: #008080; text-decoration-color: #008080; font-weight: bold\">0</span>, collaborator validate_local locally_tuned_model_validate result val_loss:      <span style=\"color: #008080; text-decoration-color: #008080; font-weight: bold\">0.607000</span>                           <a href=\"file:///home/karan/workspace/fl-tutorial/venv/lib/python3.8/site-packages/openfl/interface/interactive_api/experiment.py\" target=\"_blank\"><span style=\"color: #7f7f7f; text-decoration-color: #7f7f7f\">experiment.py</span></a><span style=\"color: #7f7f7f; text-decoration-color: #7f7f7f\">:</span><a href=\"file:///home/karan/workspace/fl-tutorial/venv/lib/python3.8/site-packages/openfl/interface/interactive_api/experiment.py#132\" target=\"_blank\"><span style=\"color: #7f7f7f; text-decoration-color: #7f7f7f\">132</span></a>\n",
       "</pre>\n"
      ],
      "text/plain": [
       "\u001b[2;36m          \u001b[0m\u001b[2;36m \u001b[0mMETRIC   Round \u001b[1;36m0\u001b[0m, collaborator validate_local locally_tuned_model_validate result val_loss:      \u001b[1;36m0.607000\u001b[0m                           \u001b]8;id=261670;file:///home/karan/workspace/fl-tutorial/venv/lib/python3.8/site-packages/openfl/interface/interactive_api/experiment.py\u001b\\\u001b[2mexperiment.py\u001b[0m\u001b]8;;\u001b\\\u001b[2m:\u001b[0m\u001b]8;id=544492;file:///home/karan/workspace/fl-tutorial/venv/lib/python3.8/site-packages/openfl/interface/interactive_api/experiment.py#132\u001b\\\u001b[2m132\u001b[0m\u001b]8;;\u001b\\\n"
      ]
     },
     "metadata": {},
     "output_type": "display_data"
    },
    {
     "data": {
      "text/html": [
       "<pre style=\"white-space:pre;overflow-x:auto;line-height:normal;font-family:Menlo,'DejaVu Sans Mono',consolas,'Courier New',monospace\"><span style=\"color: #7fbfbf; text-decoration-color: #7fbfbf\">           </span>METRIC   Round <span style=\"color: #008080; text-decoration-color: #008080; font-weight: bold\">0</span>, collaborator validate_local locally_tuned_model_validate result val_acc:       <span style=\"color: #008080; text-decoration-color: #008080; font-weight: bold\">0.733000</span>                           <a href=\"file:///home/karan/workspace/fl-tutorial/venv/lib/python3.8/site-packages/openfl/interface/interactive_api/experiment.py\" target=\"_blank\"><span style=\"color: #7f7f7f; text-decoration-color: #7f7f7f\">experiment.py</span></a><span style=\"color: #7f7f7f; text-decoration-color: #7f7f7f\">:</span><a href=\"file:///home/karan/workspace/fl-tutorial/venv/lib/python3.8/site-packages/openfl/interface/interactive_api/experiment.py#132\" target=\"_blank\"><span style=\"color: #7f7f7f; text-decoration-color: #7f7f7f\">132</span></a>\n",
       "</pre>\n"
      ],
      "text/plain": [
       "\u001b[2;36m          \u001b[0m\u001b[2;36m \u001b[0mMETRIC   Round \u001b[1;36m0\u001b[0m, collaborator validate_local locally_tuned_model_validate result val_acc:       \u001b[1;36m0.733000\u001b[0m                           \u001b]8;id=493286;file:///home/karan/workspace/fl-tutorial/venv/lib/python3.8/site-packages/openfl/interface/interactive_api/experiment.py\u001b\\\u001b[2mexperiment.py\u001b[0m\u001b]8;;\u001b\\\u001b[2m:\u001b[0m\u001b]8;id=934615;file:///home/karan/workspace/fl-tutorial/venv/lib/python3.8/site-packages/openfl/interface/interactive_api/experiment.py#132\u001b\\\u001b[2m132\u001b[0m\u001b]8;;\u001b\\\n"
      ]
     },
     "metadata": {},
     "output_type": "display_data"
    },
    {
     "data": {
      "text/html": [
       "<pre style=\"white-space:pre;overflow-x:auto;line-height:normal;font-family:Menlo,'DejaVu Sans Mono',consolas,'Courier New',monospace\"><span style=\"color: #7fbfbf; text-decoration-color: #7fbfbf\">           </span>METRIC   Round <span style=\"color: #008080; text-decoration-color: #008080; font-weight: bold\">0</span>, collaborator validate_local locally_tuned_model_validate result val_loss:      <span style=\"color: #008080; text-decoration-color: #008080; font-weight: bold\">0.590000</span>                           <a href=\"file:///home/karan/workspace/fl-tutorial/venv/lib/python3.8/site-packages/openfl/interface/interactive_api/experiment.py\" target=\"_blank\"><span style=\"color: #7f7f7f; text-decoration-color: #7f7f7f\">experiment.py</span></a><span style=\"color: #7f7f7f; text-decoration-color: #7f7f7f\">:</span><a href=\"file:///home/karan/workspace/fl-tutorial/venv/lib/python3.8/site-packages/openfl/interface/interactive_api/experiment.py#132\" target=\"_blank\"><span style=\"color: #7f7f7f; text-decoration-color: #7f7f7f\">132</span></a>\n",
       "</pre>\n"
      ],
      "text/plain": [
       "\u001b[2;36m          \u001b[0m\u001b[2;36m \u001b[0mMETRIC   Round \u001b[1;36m0\u001b[0m, collaborator validate_local locally_tuned_model_validate result val_loss:      \u001b[1;36m0.590000\u001b[0m                           \u001b]8;id=700047;file:///home/karan/workspace/fl-tutorial/venv/lib/python3.8/site-packages/openfl/interface/interactive_api/experiment.py\u001b\\\u001b[2mexperiment.py\u001b[0m\u001b]8;;\u001b\\\u001b[2m:\u001b[0m\u001b]8;id=357859;file:///home/karan/workspace/fl-tutorial/venv/lib/python3.8/site-packages/openfl/interface/interactive_api/experiment.py#132\u001b\\\u001b[2m132\u001b[0m\u001b]8;;\u001b\\\n"
      ]
     },
     "metadata": {},
     "output_type": "display_data"
    },
    {
     "name": "stdout",
     "output_type": "stream",
     "text": [
      "validating: 100%|██████████| 11/11 [00:02<00:00,  4.58it/s]\n",
      "validating:  91%|█████████ | 10/11 [00:02<00:00,  5.57it/s]"
     ]
    },
    {
     "data": {
      "text/html": [
       "<pre style=\"white-space:pre;overflow-x:auto;line-height:normal;font-family:Menlo,'DejaVu Sans Mono',consolas,'Courier New',monospace\"><span style=\"color: #7fbfbf; text-decoration-color: #7fbfbf\">[16:45:55] </span>METRIC   Round <span style=\"color: #008080; text-decoration-color: #008080; font-weight: bold\">0</span>, collaborator validate_agg aggregated_model_validate result val_acc:    <span style=\"color: #008080; text-decoration-color: #008080; font-weight: bold\">0.727000</span>                                   <a href=\"file:///home/karan/workspace/fl-tutorial/venv/lib/python3.8/site-packages/openfl/interface/interactive_api/experiment.py\" target=\"_blank\"><span style=\"color: #7f7f7f; text-decoration-color: #7f7f7f\">experiment.py</span></a><span style=\"color: #7f7f7f; text-decoration-color: #7f7f7f\">:</span><a href=\"file:///home/karan/workspace/fl-tutorial/venv/lib/python3.8/site-packages/openfl/interface/interactive_api/experiment.py#132\" target=\"_blank\"><span style=\"color: #7f7f7f; text-decoration-color: #7f7f7f\">132</span></a>\n",
       "</pre>\n"
      ],
      "text/plain": [
       "\u001b[2;36m[16:45:55]\u001b[0m\u001b[2;36m \u001b[0mMETRIC   Round \u001b[1;36m0\u001b[0m, collaborator validate_agg aggregated_model_validate result val_acc:    \u001b[1;36m0.727000\u001b[0m                                   \u001b]8;id=729232;file:///home/karan/workspace/fl-tutorial/venv/lib/python3.8/site-packages/openfl/interface/interactive_api/experiment.py\u001b\\\u001b[2mexperiment.py\u001b[0m\u001b]8;;\u001b\\\u001b[2m:\u001b[0m\u001b]8;id=20983;file:///home/karan/workspace/fl-tutorial/venv/lib/python3.8/site-packages/openfl/interface/interactive_api/experiment.py#132\u001b\\\u001b[2m132\u001b[0m\u001b]8;;\u001b\\\n"
      ]
     },
     "metadata": {},
     "output_type": "display_data"
    },
    {
     "data": {
      "text/html": [
       "<pre style=\"white-space:pre;overflow-x:auto;line-height:normal;font-family:Menlo,'DejaVu Sans Mono',consolas,'Courier New',monospace\"><span style=\"color: #7fbfbf; text-decoration-color: #7fbfbf\">           </span>METRIC   Round <span style=\"color: #008080; text-decoration-color: #008080; font-weight: bold\">0</span>, collaborator validate_agg aggregated_model_validate result val_loss:   <span style=\"color: #008080; text-decoration-color: #008080; font-weight: bold\">0.676000</span>                                   <a href=\"file:///home/karan/workspace/fl-tutorial/venv/lib/python3.8/site-packages/openfl/interface/interactive_api/experiment.py\" target=\"_blank\"><span style=\"color: #7f7f7f; text-decoration-color: #7f7f7f\">experiment.py</span></a><span style=\"color: #7f7f7f; text-decoration-color: #7f7f7f\">:</span><a href=\"file:///home/karan/workspace/fl-tutorial/venv/lib/python3.8/site-packages/openfl/interface/interactive_api/experiment.py#132\" target=\"_blank\"><span style=\"color: #7f7f7f; text-decoration-color: #7f7f7f\">132</span></a>\n",
       "</pre>\n"
      ],
      "text/plain": [
       "\u001b[2;36m          \u001b[0m\u001b[2;36m \u001b[0mMETRIC   Round \u001b[1;36m0\u001b[0m, collaborator validate_agg aggregated_model_validate result val_loss:   \u001b[1;36m0.676000\u001b[0m                                   \u001b]8;id=259393;file:///home/karan/workspace/fl-tutorial/venv/lib/python3.8/site-packages/openfl/interface/interactive_api/experiment.py\u001b\\\u001b[2mexperiment.py\u001b[0m\u001b]8;;\u001b\\\u001b[2m:\u001b[0m\u001b]8;id=41321;file:///home/karan/workspace/fl-tutorial/venv/lib/python3.8/site-packages/openfl/interface/interactive_api/experiment.py#132\u001b\\\u001b[2m132\u001b[0m\u001b]8;;\u001b\\\n"
      ]
     },
     "metadata": {},
     "output_type": "display_data"
    },
    {
     "name": "stdout",
     "output_type": "stream",
     "text": [
      "validating: 100%|██████████| 11/11 [00:02<00:00,  4.60it/s]\n"
     ]
    },
    {
     "data": {
      "text/html": [
       "<pre style=\"white-space:pre;overflow-x:auto;line-height:normal;font-family:Menlo,'DejaVu Sans Mono',consolas,'Courier New',monospace\"><span style=\"color: #7fbfbf; text-decoration-color: #7fbfbf\">[16:45:56] </span>METRIC   Round <span style=\"color: #008080; text-decoration-color: #008080; font-weight: bold\">0</span>, collaborator validate_agg aggregated_model_validate result val_acc:    <span style=\"color: #008080; text-decoration-color: #008080; font-weight: bold\">0.733000</span>                                   <a href=\"file:///home/karan/workspace/fl-tutorial/venv/lib/python3.8/site-packages/openfl/interface/interactive_api/experiment.py\" target=\"_blank\"><span style=\"color: #7f7f7f; text-decoration-color: #7f7f7f\">experiment.py</span></a><span style=\"color: #7f7f7f; text-decoration-color: #7f7f7f\">:</span><a href=\"file:///home/karan/workspace/fl-tutorial/venv/lib/python3.8/site-packages/openfl/interface/interactive_api/experiment.py#132\" target=\"_blank\"><span style=\"color: #7f7f7f; text-decoration-color: #7f7f7f\">132</span></a>\n",
       "</pre>\n"
      ],
      "text/plain": [
       "\u001b[2;36m[16:45:56]\u001b[0m\u001b[2;36m \u001b[0mMETRIC   Round \u001b[1;36m0\u001b[0m, collaborator validate_agg aggregated_model_validate result val_acc:    \u001b[1;36m0.733000\u001b[0m                                   \u001b]8;id=933583;file:///home/karan/workspace/fl-tutorial/venv/lib/python3.8/site-packages/openfl/interface/interactive_api/experiment.py\u001b\\\u001b[2mexperiment.py\u001b[0m\u001b]8;;\u001b\\\u001b[2m:\u001b[0m\u001b]8;id=107805;file:///home/karan/workspace/fl-tutorial/venv/lib/python3.8/site-packages/openfl/interface/interactive_api/experiment.py#132\u001b\\\u001b[2m132\u001b[0m\u001b]8;;\u001b\\\n"
      ]
     },
     "metadata": {},
     "output_type": "display_data"
    },
    {
     "data": {
      "text/html": [
       "<pre style=\"white-space:pre;overflow-x:auto;line-height:normal;font-family:Menlo,'DejaVu Sans Mono',consolas,'Courier New',monospace\"><span style=\"color: #7fbfbf; text-decoration-color: #7fbfbf\">           </span>METRIC   Round <span style=\"color: #008080; text-decoration-color: #008080; font-weight: bold\">0</span>, collaborator validate_agg aggregated_model_validate result val_loss:   <span style=\"color: #008080; text-decoration-color: #008080; font-weight: bold\">0.676000</span>                                   <a href=\"file:///home/karan/workspace/fl-tutorial/venv/lib/python3.8/site-packages/openfl/interface/interactive_api/experiment.py\" target=\"_blank\"><span style=\"color: #7f7f7f; text-decoration-color: #7f7f7f\">experiment.py</span></a><span style=\"color: #7f7f7f; text-decoration-color: #7f7f7f\">:</span><a href=\"file:///home/karan/workspace/fl-tutorial/venv/lib/python3.8/site-packages/openfl/interface/interactive_api/experiment.py#132\" target=\"_blank\"><span style=\"color: #7f7f7f; text-decoration-color: #7f7f7f\">132</span></a>\n",
       "</pre>\n"
      ],
      "text/plain": [
       "\u001b[2;36m          \u001b[0m\u001b[2;36m \u001b[0mMETRIC   Round \u001b[1;36m0\u001b[0m, collaborator validate_agg aggregated_model_validate result val_loss:   \u001b[1;36m0.676000\u001b[0m                                   \u001b]8;id=494236;file:///home/karan/workspace/fl-tutorial/venv/lib/python3.8/site-packages/openfl/interface/interactive_api/experiment.py\u001b\\\u001b[2mexperiment.py\u001b[0m\u001b]8;;\u001b\\\u001b[2m:\u001b[0m\u001b]8;id=564477;file:///home/karan/workspace/fl-tutorial/venv/lib/python3.8/site-packages/openfl/interface/interactive_api/experiment.py#132\u001b\\\u001b[2m132\u001b[0m\u001b]8;;\u001b\\\n"
      ]
     },
     "metadata": {},
     "output_type": "display_data"
    },
    {
     "name": "stdout",
     "output_type": "stream",
     "text": [
      "training:   0%|          | 0/39 [00:00<?, ?it/s]"
     ]
    },
    {
     "data": {
      "text/html": [
       "<pre style=\"white-space:pre;overflow-x:auto;line-height:normal;font-family:Menlo,'DejaVu Sans Mono',consolas,'Courier New',monospace\"><span style=\"color: #7fbfbf; text-decoration-color: #7fbfbf\">[16:45:58] </span>METRIC   Round <span style=\"color: #008080; text-decoration-color: #008080; font-weight: bold\">0</span>, collaborator Aggregator train result train_acc:        <span style=\"color: #008080; text-decoration-color: #008080; font-weight: bold\">0.685000</span>                                                   <a href=\"file:///home/karan/workspace/fl-tutorial/venv/lib/python3.8/site-packages/openfl/interface/interactive_api/experiment.py\" target=\"_blank\"><span style=\"color: #7f7f7f; text-decoration-color: #7f7f7f\">experiment.py</span></a><span style=\"color: #7f7f7f; text-decoration-color: #7f7f7f\">:</span><a href=\"file:///home/karan/workspace/fl-tutorial/venv/lib/python3.8/site-packages/openfl/interface/interactive_api/experiment.py#132\" target=\"_blank\"><span style=\"color: #7f7f7f; text-decoration-color: #7f7f7f\">132</span></a>\n",
       "</pre>\n"
      ],
      "text/plain": [
       "\u001b[2;36m[16:45:58]\u001b[0m\u001b[2;36m \u001b[0mMETRIC   Round \u001b[1;36m0\u001b[0m, collaborator Aggregator train result train_acc:        \u001b[1;36m0.685000\u001b[0m                                                   \u001b]8;id=743982;file:///home/karan/workspace/fl-tutorial/venv/lib/python3.8/site-packages/openfl/interface/interactive_api/experiment.py\u001b\\\u001b[2mexperiment.py\u001b[0m\u001b]8;;\u001b\\\u001b[2m:\u001b[0m\u001b]8;id=577132;file:///home/karan/workspace/fl-tutorial/venv/lib/python3.8/site-packages/openfl/interface/interactive_api/experiment.py#132\u001b\\\u001b[2m132\u001b[0m\u001b]8;;\u001b\\\n"
      ]
     },
     "metadata": {},
     "output_type": "display_data"
    },
    {
     "data": {
      "text/html": [
       "<pre style=\"white-space:pre;overflow-x:auto;line-height:normal;font-family:Menlo,'DejaVu Sans Mono',consolas,'Courier New',monospace\"><span style=\"color: #7fbfbf; text-decoration-color: #7fbfbf\">           </span>METRIC   Round <span style=\"color: #008080; text-decoration-color: #008080; font-weight: bold\">0</span>, collaborator Aggregator train result train_loss:       <span style=\"color: #008080; text-decoration-color: #008080; font-weight: bold\">0.659000</span>                                                   <a href=\"file:///home/karan/workspace/fl-tutorial/venv/lib/python3.8/site-packages/openfl/interface/interactive_api/experiment.py\" target=\"_blank\"><span style=\"color: #7f7f7f; text-decoration-color: #7f7f7f\">experiment.py</span></a><span style=\"color: #7f7f7f; text-decoration-color: #7f7f7f\">:</span><a href=\"file:///home/karan/workspace/fl-tutorial/venv/lib/python3.8/site-packages/openfl/interface/interactive_api/experiment.py#132\" target=\"_blank\"><span style=\"color: #7f7f7f; text-decoration-color: #7f7f7f\">132</span></a>\n",
       "</pre>\n"
      ],
      "text/plain": [
       "\u001b[2;36m          \u001b[0m\u001b[2;36m \u001b[0mMETRIC   Round \u001b[1;36m0\u001b[0m, collaborator Aggregator train result train_loss:       \u001b[1;36m0.659000\u001b[0m                                                   \u001b]8;id=738329;file:///home/karan/workspace/fl-tutorial/venv/lib/python3.8/site-packages/openfl/interface/interactive_api/experiment.py\u001b\\\u001b[2mexperiment.py\u001b[0m\u001b]8;;\u001b\\\u001b[2m:\u001b[0m\u001b]8;id=124010;file:///home/karan/workspace/fl-tutorial/venv/lib/python3.8/site-packages/openfl/interface/interactive_api/experiment.py#132\u001b\\\u001b[2m132\u001b[0m\u001b]8;;\u001b\\\n"
      ]
     },
     "metadata": {},
     "output_type": "display_data"
    },
    {
     "data": {
      "text/html": [
       "<pre style=\"white-space:pre;overflow-x:auto;line-height:normal;font-family:Menlo,'DejaVu Sans Mono',consolas,'Courier New',monospace\"><span style=\"color: #7fbfbf; text-decoration-color: #7fbfbf\">           </span>METRIC   Round <span style=\"color: #008080; text-decoration-color: #008080; font-weight: bold\">0</span>, collaborator Aggregator locally_tuned_model_validate result val_acc:   <span style=\"color: #008080; text-decoration-color: #008080; font-weight: bold\">0.730000</span>                                   <a href=\"file:///home/karan/workspace/fl-tutorial/venv/lib/python3.8/site-packages/openfl/interface/interactive_api/experiment.py\" target=\"_blank\"><span style=\"color: #7f7f7f; text-decoration-color: #7f7f7f\">experiment.py</span></a><span style=\"color: #7f7f7f; text-decoration-color: #7f7f7f\">:</span><a href=\"file:///home/karan/workspace/fl-tutorial/venv/lib/python3.8/site-packages/openfl/interface/interactive_api/experiment.py#132\" target=\"_blank\"><span style=\"color: #7f7f7f; text-decoration-color: #7f7f7f\">132</span></a>\n",
       "</pre>\n"
      ],
      "text/plain": [
       "\u001b[2;36m          \u001b[0m\u001b[2;36m \u001b[0mMETRIC   Round \u001b[1;36m0\u001b[0m, collaborator Aggregator locally_tuned_model_validate result val_acc:   \u001b[1;36m0.730000\u001b[0m                                   \u001b]8;id=559010;file:///home/karan/workspace/fl-tutorial/venv/lib/python3.8/site-packages/openfl/interface/interactive_api/experiment.py\u001b\\\u001b[2mexperiment.py\u001b[0m\u001b]8;;\u001b\\\u001b[2m:\u001b[0m\u001b]8;id=584125;file:///home/karan/workspace/fl-tutorial/venv/lib/python3.8/site-packages/openfl/interface/interactive_api/experiment.py#132\u001b\\\u001b[2m132\u001b[0m\u001b]8;;\u001b\\\n"
      ]
     },
     "metadata": {},
     "output_type": "display_data"
    },
    {
     "data": {
      "text/html": [
       "<pre style=\"white-space:pre;overflow-x:auto;line-height:normal;font-family:Menlo,'DejaVu Sans Mono',consolas,'Courier New',monospace\"><span style=\"color: #7fbfbf; text-decoration-color: #7fbfbf\">           </span>METRIC   Round <span style=\"color: #008080; text-decoration-color: #008080; font-weight: bold\">0</span>, collaborator Aggregator locally_tuned_model_validate result val_loss:  <span style=\"color: #008080; text-decoration-color: #008080; font-weight: bold\">0.598500</span>                                   <a href=\"file:///home/karan/workspace/fl-tutorial/venv/lib/python3.8/site-packages/openfl/interface/interactive_api/experiment.py\" target=\"_blank\"><span style=\"color: #7f7f7f; text-decoration-color: #7f7f7f\">experiment.py</span></a><span style=\"color: #7f7f7f; text-decoration-color: #7f7f7f\">:</span><a href=\"file:///home/karan/workspace/fl-tutorial/venv/lib/python3.8/site-packages/openfl/interface/interactive_api/experiment.py#132\" target=\"_blank\"><span style=\"color: #7f7f7f; text-decoration-color: #7f7f7f\">132</span></a>\n",
       "</pre>\n"
      ],
      "text/plain": [
       "\u001b[2;36m          \u001b[0m\u001b[2;36m \u001b[0mMETRIC   Round \u001b[1;36m0\u001b[0m, collaborator Aggregator locally_tuned_model_validate result val_loss:  \u001b[1;36m0.598500\u001b[0m                                   \u001b]8;id=967586;file:///home/karan/workspace/fl-tutorial/venv/lib/python3.8/site-packages/openfl/interface/interactive_api/experiment.py\u001b\\\u001b[2mexperiment.py\u001b[0m\u001b]8;;\u001b\\\u001b[2m:\u001b[0m\u001b]8;id=385875;file:///home/karan/workspace/fl-tutorial/venv/lib/python3.8/site-packages/openfl/interface/interactive_api/experiment.py#132\u001b\\\u001b[2m132\u001b[0m\u001b]8;;\u001b\\\n"
      ]
     },
     "metadata": {},
     "output_type": "display_data"
    },
    {
     "data": {
      "text/html": [
       "<pre style=\"white-space:pre;overflow-x:auto;line-height:normal;font-family:Menlo,'DejaVu Sans Mono',consolas,'Courier New',monospace\"><span style=\"color: #7fbfbf; text-decoration-color: #7fbfbf\">           </span>METRIC   Round <span style=\"color: #008080; text-decoration-color: #008080; font-weight: bold\">0</span>, collaborator Aggregator aggregated_model_validate result val_acc:      <span style=\"color: #008080; text-decoration-color: #008080; font-weight: bold\">0.730000</span>                                   <a href=\"file:///home/karan/workspace/fl-tutorial/venv/lib/python3.8/site-packages/openfl/interface/interactive_api/experiment.py\" target=\"_blank\"><span style=\"color: #7f7f7f; text-decoration-color: #7f7f7f\">experiment.py</span></a><span style=\"color: #7f7f7f; text-decoration-color: #7f7f7f\">:</span><a href=\"file:///home/karan/workspace/fl-tutorial/venv/lib/python3.8/site-packages/openfl/interface/interactive_api/experiment.py#132\" target=\"_blank\"><span style=\"color: #7f7f7f; text-decoration-color: #7f7f7f\">132</span></a>\n",
       "</pre>\n"
      ],
      "text/plain": [
       "\u001b[2;36m          \u001b[0m\u001b[2;36m \u001b[0mMETRIC   Round \u001b[1;36m0\u001b[0m, collaborator Aggregator aggregated_model_validate result val_acc:      \u001b[1;36m0.730000\u001b[0m                                   \u001b]8;id=892877;file:///home/karan/workspace/fl-tutorial/venv/lib/python3.8/site-packages/openfl/interface/interactive_api/experiment.py\u001b\\\u001b[2mexperiment.py\u001b[0m\u001b]8;;\u001b\\\u001b[2m:\u001b[0m\u001b]8;id=742330;file:///home/karan/workspace/fl-tutorial/venv/lib/python3.8/site-packages/openfl/interface/interactive_api/experiment.py#132\u001b\\\u001b[2m132\u001b[0m\u001b]8;;\u001b\\\n"
      ]
     },
     "metadata": {},
     "output_type": "display_data"
    },
    {
     "data": {
      "text/html": [
       "<pre style=\"white-space:pre;overflow-x:auto;line-height:normal;font-family:Menlo,'DejaVu Sans Mono',consolas,'Courier New',monospace\"><span style=\"color: #7fbfbf; text-decoration-color: #7fbfbf\">           </span>METRIC   Round <span style=\"color: #008080; text-decoration-color: #008080; font-weight: bold\">0</span>, collaborator Aggregator aggregated_model_validate result val_loss:     <span style=\"color: #008080; text-decoration-color: #008080; font-weight: bold\">0.676000</span>                                   <a href=\"file:///home/karan/workspace/fl-tutorial/venv/lib/python3.8/site-packages/openfl/interface/interactive_api/experiment.py\" target=\"_blank\"><span style=\"color: #7f7f7f; text-decoration-color: #7f7f7f\">experiment.py</span></a><span style=\"color: #7f7f7f; text-decoration-color: #7f7f7f\">:</span><a href=\"file:///home/karan/workspace/fl-tutorial/venv/lib/python3.8/site-packages/openfl/interface/interactive_api/experiment.py#132\" target=\"_blank\"><span style=\"color: #7f7f7f; text-decoration-color: #7f7f7f\">132</span></a>\n",
       "</pre>\n"
      ],
      "text/plain": [
       "\u001b[2;36m          \u001b[0m\u001b[2;36m \u001b[0mMETRIC   Round \u001b[1;36m0\u001b[0m, collaborator Aggregator aggregated_model_validate result val_loss:     \u001b[1;36m0.676000\u001b[0m                                   \u001b]8;id=590024;file:///home/karan/workspace/fl-tutorial/venv/lib/python3.8/site-packages/openfl/interface/interactive_api/experiment.py\u001b\\\u001b[2mexperiment.py\u001b[0m\u001b]8;;\u001b\\\u001b[2m:\u001b[0m\u001b]8;id=730894;file:///home/karan/workspace/fl-tutorial/venv/lib/python3.8/site-packages/openfl/interface/interactive_api/experiment.py#132\u001b\\\u001b[2m132\u001b[0m\u001b]8;;\u001b\\\n"
      ]
     },
     "metadata": {},
     "output_type": "display_data"
    },
    {
     "name": "stdout",
     "output_type": "stream",
     "text": [
      "training: 100%|██████████| 39/39 [00:18<00:00,  2.10it/s]\n",
      "validating:   0%|          | 0/11 [00:00<?, ?it/s]89it/s]"
     ]
    },
    {
     "data": {
      "text/html": [
       "<pre style=\"white-space:pre;overflow-x:auto;line-height:normal;font-family:Menlo,'DejaVu Sans Mono',consolas,'Courier New',monospace\"><span style=\"color: #7fbfbf; text-decoration-color: #7fbfbf\">[16:46:17] </span>METRIC   Round <span style=\"color: #008080; text-decoration-color: #008080; font-weight: bold\">1</span>, collaborator trained train result train_acc:   <span style=\"color: #008080; text-decoration-color: #008080; font-weight: bold\">0.735000</span>                                                           <a href=\"file:///home/karan/workspace/fl-tutorial/venv/lib/python3.8/site-packages/openfl/interface/interactive_api/experiment.py\" target=\"_blank\"><span style=\"color: #7f7f7f; text-decoration-color: #7f7f7f\">experiment.py</span></a><span style=\"color: #7f7f7f; text-decoration-color: #7f7f7f\">:</span><a href=\"file:///home/karan/workspace/fl-tutorial/venv/lib/python3.8/site-packages/openfl/interface/interactive_api/experiment.py#132\" target=\"_blank\"><span style=\"color: #7f7f7f; text-decoration-color: #7f7f7f\">132</span></a>\n",
       "</pre>\n"
      ],
      "text/plain": [
       "\u001b[2;36m[16:46:17]\u001b[0m\u001b[2;36m \u001b[0mMETRIC   Round \u001b[1;36m1\u001b[0m, collaborator trained train result train_acc:   \u001b[1;36m0.735000\u001b[0m                                                           \u001b]8;id=486686;file:///home/karan/workspace/fl-tutorial/venv/lib/python3.8/site-packages/openfl/interface/interactive_api/experiment.py\u001b\\\u001b[2mexperiment.py\u001b[0m\u001b]8;;\u001b\\\u001b[2m:\u001b[0m\u001b]8;id=110215;file:///home/karan/workspace/fl-tutorial/venv/lib/python3.8/site-packages/openfl/interface/interactive_api/experiment.py#132\u001b\\\u001b[2m132\u001b[0m\u001b]8;;\u001b\\\n"
      ]
     },
     "metadata": {},
     "output_type": "display_data"
    },
    {
     "data": {
      "text/html": [
       "<pre style=\"white-space:pre;overflow-x:auto;line-height:normal;font-family:Menlo,'DejaVu Sans Mono',consolas,'Courier New',monospace\"><span style=\"color: #7fbfbf; text-decoration-color: #7fbfbf\">           </span>METRIC   Round <span style=\"color: #008080; text-decoration-color: #008080; font-weight: bold\">1</span>, collaborator trained train result train_loss:  <span style=\"color: #008080; text-decoration-color: #008080; font-weight: bold\">0.564000</span>                                                           <a href=\"file:///home/karan/workspace/fl-tutorial/venv/lib/python3.8/site-packages/openfl/interface/interactive_api/experiment.py\" target=\"_blank\"><span style=\"color: #7f7f7f; text-decoration-color: #7f7f7f\">experiment.py</span></a><span style=\"color: #7f7f7f; text-decoration-color: #7f7f7f\">:</span><a href=\"file:///home/karan/workspace/fl-tutorial/venv/lib/python3.8/site-packages/openfl/interface/interactive_api/experiment.py#132\" target=\"_blank\"><span style=\"color: #7f7f7f; text-decoration-color: #7f7f7f\">132</span></a>\n",
       "</pre>\n"
      ],
      "text/plain": [
       "\u001b[2;36m          \u001b[0m\u001b[2;36m \u001b[0mMETRIC   Round \u001b[1;36m1\u001b[0m, collaborator trained train result train_loss:  \u001b[1;36m0.564000\u001b[0m                                                           \u001b]8;id=588206;file:///home/karan/workspace/fl-tutorial/venv/lib/python3.8/site-packages/openfl/interface/interactive_api/experiment.py\u001b\\\u001b[2mexperiment.py\u001b[0m\u001b]8;;\u001b\\\u001b[2m:\u001b[0m\u001b]8;id=804528;file:///home/karan/workspace/fl-tutorial/venv/lib/python3.8/site-packages/openfl/interface/interactive_api/experiment.py#132\u001b\\\u001b[2m132\u001b[0m\u001b]8;;\u001b\\\n"
      ]
     },
     "metadata": {},
     "output_type": "display_data"
    },
    {
     "name": "stdout",
     "output_type": "stream",
     "text": [
      "validating: 100%|██████████| 11/11 [00:02<00:00,  4.58it/s]\n",
      "training:  59%|█████▉    | 23/39 [00:13<00:09,  1.76it/s]"
     ]
    },
    {
     "data": {
      "text/html": [
       "<pre style=\"white-space:pre;overflow-x:auto;line-height:normal;font-family:Menlo,'DejaVu Sans Mono',consolas,'Courier New',monospace\"><span style=\"color: #7fbfbf; text-decoration-color: #7fbfbf\">[16:46:20] </span>METRIC   Round <span style=\"color: #008080; text-decoration-color: #008080; font-weight: bold\">1</span>, collaborator validate_local locally_tuned_model_validate result val_acc:       <span style=\"color: #008080; text-decoration-color: #008080; font-weight: bold\">0.739000</span>                           <a href=\"file:///home/karan/workspace/fl-tutorial/venv/lib/python3.8/site-packages/openfl/interface/interactive_api/experiment.py\" target=\"_blank\"><span style=\"color: #7f7f7f; text-decoration-color: #7f7f7f\">experiment.py</span></a><span style=\"color: #7f7f7f; text-decoration-color: #7f7f7f\">:</span><a href=\"file:///home/karan/workspace/fl-tutorial/venv/lib/python3.8/site-packages/openfl/interface/interactive_api/experiment.py#132\" target=\"_blank\"><span style=\"color: #7f7f7f; text-decoration-color: #7f7f7f\">132</span></a>\n",
       "</pre>\n"
      ],
      "text/plain": [
       "\u001b[2;36m[16:46:20]\u001b[0m\u001b[2;36m \u001b[0mMETRIC   Round \u001b[1;36m1\u001b[0m, collaborator validate_local locally_tuned_model_validate result val_acc:       \u001b[1;36m0.739000\u001b[0m                           \u001b]8;id=512504;file:///home/karan/workspace/fl-tutorial/venv/lib/python3.8/site-packages/openfl/interface/interactive_api/experiment.py\u001b\\\u001b[2mexperiment.py\u001b[0m\u001b]8;;\u001b\\\u001b[2m:\u001b[0m\u001b]8;id=734648;file:///home/karan/workspace/fl-tutorial/venv/lib/python3.8/site-packages/openfl/interface/interactive_api/experiment.py#132\u001b\\\u001b[2m132\u001b[0m\u001b]8;;\u001b\\\n"
      ]
     },
     "metadata": {},
     "output_type": "display_data"
    },
    {
     "data": {
      "text/html": [
       "<pre style=\"white-space:pre;overflow-x:auto;line-height:normal;font-family:Menlo,'DejaVu Sans Mono',consolas,'Courier New',monospace\"><span style=\"color: #7fbfbf; text-decoration-color: #7fbfbf\">           </span>METRIC   Round <span style=\"color: #008080; text-decoration-color: #008080; font-weight: bold\">1</span>, collaborator validate_local locally_tuned_model_validate result val_loss:      <span style=\"color: #008080; text-decoration-color: #008080; font-weight: bold\">0.562000</span>                           <a href=\"file:///home/karan/workspace/fl-tutorial/venv/lib/python3.8/site-packages/openfl/interface/interactive_api/experiment.py\" target=\"_blank\"><span style=\"color: #7f7f7f; text-decoration-color: #7f7f7f\">experiment.py</span></a><span style=\"color: #7f7f7f; text-decoration-color: #7f7f7f\">:</span><a href=\"file:///home/karan/workspace/fl-tutorial/venv/lib/python3.8/site-packages/openfl/interface/interactive_api/experiment.py#132\" target=\"_blank\"><span style=\"color: #7f7f7f; text-decoration-color: #7f7f7f\">132</span></a>\n",
       "</pre>\n"
      ],
      "text/plain": [
       "\u001b[2;36m          \u001b[0m\u001b[2;36m \u001b[0mMETRIC   Round \u001b[1;36m1\u001b[0m, collaborator validate_local locally_tuned_model_validate result val_loss:      \u001b[1;36m0.562000\u001b[0m                           \u001b]8;id=373497;file:///home/karan/workspace/fl-tutorial/venv/lib/python3.8/site-packages/openfl/interface/interactive_api/experiment.py\u001b\\\u001b[2mexperiment.py\u001b[0m\u001b]8;;\u001b\\\u001b[2m:\u001b[0m\u001b]8;id=146045;file:///home/karan/workspace/fl-tutorial/venv/lib/python3.8/site-packages/openfl/interface/interactive_api/experiment.py#132\u001b\\\u001b[2m132\u001b[0m\u001b]8;;\u001b\\\n"
      ]
     },
     "metadata": {},
     "output_type": "display_data"
    },
    {
     "name": "stdout",
     "output_type": "stream",
     "text": [
      "validating: 100%|██████████| 11/11 [00:02<00:00,  4.59it/s]\n"
     ]
    },
    {
     "data": {
      "text/html": [
       "<pre style=\"white-space:pre;overflow-x:auto;line-height:normal;font-family:Menlo,'DejaVu Sans Mono',consolas,'Courier New',monospace\"><span style=\"color: #7fbfbf; text-decoration-color: #7fbfbf\">[16:46:22] </span>METRIC   Round <span style=\"color: #008080; text-decoration-color: #008080; font-weight: bold\">1</span>, collaborator validate_agg aggregated_model_validate result val_acc:    <span style=\"color: #008080; text-decoration-color: #008080; font-weight: bold\">0.733000</span>                                   <a href=\"file:///home/karan/workspace/fl-tutorial/venv/lib/python3.8/site-packages/openfl/interface/interactive_api/experiment.py\" target=\"_blank\"><span style=\"color: #7f7f7f; text-decoration-color: #7f7f7f\">experiment.py</span></a><span style=\"color: #7f7f7f; text-decoration-color: #7f7f7f\">:</span><a href=\"file:///home/karan/workspace/fl-tutorial/venv/lib/python3.8/site-packages/openfl/interface/interactive_api/experiment.py#132\" target=\"_blank\"><span style=\"color: #7f7f7f; text-decoration-color: #7f7f7f\">132</span></a>\n",
       "</pre>\n"
      ],
      "text/plain": [
       "\u001b[2;36m[16:46:22]\u001b[0m\u001b[2;36m \u001b[0mMETRIC   Round \u001b[1;36m1\u001b[0m, collaborator validate_agg aggregated_model_validate result val_acc:    \u001b[1;36m0.733000\u001b[0m                                   \u001b]8;id=780615;file:///home/karan/workspace/fl-tutorial/venv/lib/python3.8/site-packages/openfl/interface/interactive_api/experiment.py\u001b\\\u001b[2mexperiment.py\u001b[0m\u001b]8;;\u001b\\\u001b[2m:\u001b[0m\u001b]8;id=258947;file:///home/karan/workspace/fl-tutorial/venv/lib/python3.8/site-packages/openfl/interface/interactive_api/experiment.py#132\u001b\\\u001b[2m132\u001b[0m\u001b]8;;\u001b\\\n"
      ]
     },
     "metadata": {},
     "output_type": "display_data"
    },
    {
     "data": {
      "text/html": [
       "<pre style=\"white-space:pre;overflow-x:auto;line-height:normal;font-family:Menlo,'DejaVu Sans Mono',consolas,'Courier New',monospace\"><span style=\"color: #7fbfbf; text-decoration-color: #7fbfbf\">           </span>METRIC   Round <span style=\"color: #008080; text-decoration-color: #008080; font-weight: bold\">1</span>, collaborator validate_agg aggregated_model_validate result val_loss:   <span style=\"color: #008080; text-decoration-color: #008080; font-weight: bold\">0.648000</span>                                   <a href=\"file:///home/karan/workspace/fl-tutorial/venv/lib/python3.8/site-packages/openfl/interface/interactive_api/experiment.py\" target=\"_blank\"><span style=\"color: #7f7f7f; text-decoration-color: #7f7f7f\">experiment.py</span></a><span style=\"color: #7f7f7f; text-decoration-color: #7f7f7f\">:</span><a href=\"file:///home/karan/workspace/fl-tutorial/venv/lib/python3.8/site-packages/openfl/interface/interactive_api/experiment.py#132\" target=\"_blank\"><span style=\"color: #7f7f7f; text-decoration-color: #7f7f7f\">132</span></a>\n",
       "</pre>\n"
      ],
      "text/plain": [
       "\u001b[2;36m          \u001b[0m\u001b[2;36m \u001b[0mMETRIC   Round \u001b[1;36m1\u001b[0m, collaborator validate_agg aggregated_model_validate result val_loss:   \u001b[1;36m0.648000\u001b[0m                                   \u001b]8;id=944368;file:///home/karan/workspace/fl-tutorial/venv/lib/python3.8/site-packages/openfl/interface/interactive_api/experiment.py\u001b\\\u001b[2mexperiment.py\u001b[0m\u001b]8;;\u001b\\\u001b[2m:\u001b[0m\u001b]8;id=554232;file:///home/karan/workspace/fl-tutorial/venv/lib/python3.8/site-packages/openfl/interface/interactive_api/experiment.py#132\u001b\\\u001b[2m132\u001b[0m\u001b]8;;\u001b\\\n"
      ]
     },
     "metadata": {},
     "output_type": "display_data"
    },
    {
     "name": "stdout",
     "output_type": "stream",
     "text": [
      "training: 100%|██████████| 39/39 [00:20<00:00,  1.90it/s]\n",
      "validating:   9%|▉         | 1/11 [00:00<00:02,  3.69it/s]"
     ]
    },
    {
     "data": {
      "text/html": [
       "<pre style=\"white-space:pre;overflow-x:auto;line-height:normal;font-family:Menlo,'DejaVu Sans Mono',consolas,'Courier New',monospace\"><span style=\"color: #7fbfbf; text-decoration-color: #7fbfbf\">[16:46:27] </span>METRIC   Round <span style=\"color: #008080; text-decoration-color: #008080; font-weight: bold\">1</span>, collaborator trained train result train_acc:   <span style=\"color: #008080; text-decoration-color: #008080; font-weight: bold\">0.730000</span>                                                           <a href=\"file:///home/karan/workspace/fl-tutorial/venv/lib/python3.8/site-packages/openfl/interface/interactive_api/experiment.py\" target=\"_blank\"><span style=\"color: #7f7f7f; text-decoration-color: #7f7f7f\">experiment.py</span></a><span style=\"color: #7f7f7f; text-decoration-color: #7f7f7f\">:</span><a href=\"file:///home/karan/workspace/fl-tutorial/venv/lib/python3.8/site-packages/openfl/interface/interactive_api/experiment.py#132\" target=\"_blank\"><span style=\"color: #7f7f7f; text-decoration-color: #7f7f7f\">132</span></a>\n",
       "</pre>\n"
      ],
      "text/plain": [
       "\u001b[2;36m[16:46:27]\u001b[0m\u001b[2;36m \u001b[0mMETRIC   Round \u001b[1;36m1\u001b[0m, collaborator trained train result train_acc:   \u001b[1;36m0.730000\u001b[0m                                                           \u001b]8;id=500788;file:///home/karan/workspace/fl-tutorial/venv/lib/python3.8/site-packages/openfl/interface/interactive_api/experiment.py\u001b\\\u001b[2mexperiment.py\u001b[0m\u001b]8;;\u001b\\\u001b[2m:\u001b[0m\u001b]8;id=864498;file:///home/karan/workspace/fl-tutorial/venv/lib/python3.8/site-packages/openfl/interface/interactive_api/experiment.py#132\u001b\\\u001b[2m132\u001b[0m\u001b]8;;\u001b\\\n"
      ]
     },
     "metadata": {},
     "output_type": "display_data"
    },
    {
     "data": {
      "text/html": [
       "<pre style=\"white-space:pre;overflow-x:auto;line-height:normal;font-family:Menlo,'DejaVu Sans Mono',consolas,'Courier New',monospace\"><span style=\"color: #7fbfbf; text-decoration-color: #7fbfbf\">           </span>METRIC   Round <span style=\"color: #008080; text-decoration-color: #008080; font-weight: bold\">1</span>, collaborator trained train result train_loss:  <span style=\"color: #008080; text-decoration-color: #008080; font-weight: bold\">0.575000</span>                                                           <a href=\"file:///home/karan/workspace/fl-tutorial/venv/lib/python3.8/site-packages/openfl/interface/interactive_api/experiment.py\" target=\"_blank\"><span style=\"color: #7f7f7f; text-decoration-color: #7f7f7f\">experiment.py</span></a><span style=\"color: #7f7f7f; text-decoration-color: #7f7f7f\">:</span><a href=\"file:///home/karan/workspace/fl-tutorial/venv/lib/python3.8/site-packages/openfl/interface/interactive_api/experiment.py#132\" target=\"_blank\"><span style=\"color: #7f7f7f; text-decoration-color: #7f7f7f\">132</span></a>\n",
       "</pre>\n"
      ],
      "text/plain": [
       "\u001b[2;36m          \u001b[0m\u001b[2;36m \u001b[0mMETRIC   Round \u001b[1;36m1\u001b[0m, collaborator trained train result train_loss:  \u001b[1;36m0.575000\u001b[0m                                                           \u001b]8;id=334865;file:///home/karan/workspace/fl-tutorial/venv/lib/python3.8/site-packages/openfl/interface/interactive_api/experiment.py\u001b\\\u001b[2mexperiment.py\u001b[0m\u001b]8;;\u001b\\\u001b[2m:\u001b[0m\u001b]8;id=530896;file:///home/karan/workspace/fl-tutorial/venv/lib/python3.8/site-packages/openfl/interface/interactive_api/experiment.py#132\u001b\\\u001b[2m132\u001b[0m\u001b]8;;\u001b\\\n"
      ]
     },
     "metadata": {},
     "output_type": "display_data"
    },
    {
     "name": "stdout",
     "output_type": "stream",
     "text": [
      "validating: 100%|██████████| 11/11 [00:01<00:00,  7.91it/s]\n",
      "validating:  45%|████▌     | 5/11 [00:00<00:00,  7.42it/s]"
     ]
    },
    {
     "data": {
      "text/html": [
       "<pre style=\"white-space:pre;overflow-x:auto;line-height:normal;font-family:Menlo,'DejaVu Sans Mono',consolas,'Courier New',monospace\"><span style=\"color: #7fbfbf; text-decoration-color: #7fbfbf\">[16:46:29] </span>METRIC   Round <span style=\"color: #008080; text-decoration-color: #008080; font-weight: bold\">1</span>, collaborator validate_local locally_tuned_model_validate result val_acc:       <span style=\"color: #008080; text-decoration-color: #008080; font-weight: bold\">0.727000</span>                           <a href=\"file:///home/karan/workspace/fl-tutorial/venv/lib/python3.8/site-packages/openfl/interface/interactive_api/experiment.py\" target=\"_blank\"><span style=\"color: #7f7f7f; text-decoration-color: #7f7f7f\">experiment.py</span></a><span style=\"color: #7f7f7f; text-decoration-color: #7f7f7f\">:</span><a href=\"file:///home/karan/workspace/fl-tutorial/venv/lib/python3.8/site-packages/openfl/interface/interactive_api/experiment.py#132\" target=\"_blank\"><span style=\"color: #7f7f7f; text-decoration-color: #7f7f7f\">132</span></a>\n",
       "</pre>\n"
      ],
      "text/plain": [
       "\u001b[2;36m[16:46:29]\u001b[0m\u001b[2;36m \u001b[0mMETRIC   Round \u001b[1;36m1\u001b[0m, collaborator validate_local locally_tuned_model_validate result val_acc:       \u001b[1;36m0.727000\u001b[0m                           \u001b]8;id=202706;file:///home/karan/workspace/fl-tutorial/venv/lib/python3.8/site-packages/openfl/interface/interactive_api/experiment.py\u001b\\\u001b[2mexperiment.py\u001b[0m\u001b]8;;\u001b\\\u001b[2m:\u001b[0m\u001b]8;id=694964;file:///home/karan/workspace/fl-tutorial/venv/lib/python3.8/site-packages/openfl/interface/interactive_api/experiment.py#132\u001b\\\u001b[2m132\u001b[0m\u001b]8;;\u001b\\\n"
      ]
     },
     "metadata": {},
     "output_type": "display_data"
    },
    {
     "data": {
      "text/html": [
       "<pre style=\"white-space:pre;overflow-x:auto;line-height:normal;font-family:Menlo,'DejaVu Sans Mono',consolas,'Courier New',monospace\"><span style=\"color: #7fbfbf; text-decoration-color: #7fbfbf\">           </span>METRIC   Round <span style=\"color: #008080; text-decoration-color: #008080; font-weight: bold\">1</span>, collaborator validate_local locally_tuned_model_validate result val_loss:      <span style=\"color: #008080; text-decoration-color: #008080; font-weight: bold\">0.596000</span>                           <a href=\"file:///home/karan/workspace/fl-tutorial/venv/lib/python3.8/site-packages/openfl/interface/interactive_api/experiment.py\" target=\"_blank\"><span style=\"color: #7f7f7f; text-decoration-color: #7f7f7f\">experiment.py</span></a><span style=\"color: #7f7f7f; text-decoration-color: #7f7f7f\">:</span><a href=\"file:///home/karan/workspace/fl-tutorial/venv/lib/python3.8/site-packages/openfl/interface/interactive_api/experiment.py#132\" target=\"_blank\"><span style=\"color: #7f7f7f; text-decoration-color: #7f7f7f\">132</span></a>\n",
       "</pre>\n"
      ],
      "text/plain": [
       "\u001b[2;36m          \u001b[0m\u001b[2;36m \u001b[0mMETRIC   Round \u001b[1;36m1\u001b[0m, collaborator validate_local locally_tuned_model_validate result val_loss:      \u001b[1;36m0.596000\u001b[0m                           \u001b]8;id=563182;file:///home/karan/workspace/fl-tutorial/venv/lib/python3.8/site-packages/openfl/interface/interactive_api/experiment.py\u001b\\\u001b[2mexperiment.py\u001b[0m\u001b]8;;\u001b\\\u001b[2m:\u001b[0m\u001b]8;id=505126;file:///home/karan/workspace/fl-tutorial/venv/lib/python3.8/site-packages/openfl/interface/interactive_api/experiment.py#132\u001b\\\u001b[2m132\u001b[0m\u001b]8;;\u001b\\\n"
      ]
     },
     "metadata": {},
     "output_type": "display_data"
    },
    {
     "name": "stdout",
     "output_type": "stream",
     "text": [
      "validating: 100%|██████████| 11/11 [00:01<00:00,  6.87it/s]\n"
     ]
    },
    {
     "data": {
      "text/html": [
       "<pre style=\"white-space:pre;overflow-x:auto;line-height:normal;font-family:Menlo,'DejaVu Sans Mono',consolas,'Courier New',monospace\"><span style=\"color: #7fbfbf; text-decoration-color: #7fbfbf\">[16:46:30] </span>METRIC   Round <span style=\"color: #008080; text-decoration-color: #008080; font-weight: bold\">1</span>, collaborator validate_agg aggregated_model_validate result val_acc:    <span style=\"color: #008080; text-decoration-color: #008080; font-weight: bold\">0.722000</span>                                   <a href=\"file:///home/karan/workspace/fl-tutorial/venv/lib/python3.8/site-packages/openfl/interface/interactive_api/experiment.py\" target=\"_blank\"><span style=\"color: #7f7f7f; text-decoration-color: #7f7f7f\">experiment.py</span></a><span style=\"color: #7f7f7f; text-decoration-color: #7f7f7f\">:</span><a href=\"file:///home/karan/workspace/fl-tutorial/venv/lib/python3.8/site-packages/openfl/interface/interactive_api/experiment.py#132\" target=\"_blank\"><span style=\"color: #7f7f7f; text-decoration-color: #7f7f7f\">132</span></a>\n",
       "</pre>\n"
      ],
      "text/plain": [
       "\u001b[2;36m[16:46:30]\u001b[0m\u001b[2;36m \u001b[0mMETRIC   Round \u001b[1;36m1\u001b[0m, collaborator validate_agg aggregated_model_validate result val_acc:    \u001b[1;36m0.722000\u001b[0m                                   \u001b]8;id=455270;file:///home/karan/workspace/fl-tutorial/venv/lib/python3.8/site-packages/openfl/interface/interactive_api/experiment.py\u001b\\\u001b[2mexperiment.py\u001b[0m\u001b]8;;\u001b\\\u001b[2m:\u001b[0m\u001b]8;id=591966;file:///home/karan/workspace/fl-tutorial/venv/lib/python3.8/site-packages/openfl/interface/interactive_api/experiment.py#132\u001b\\\u001b[2m132\u001b[0m\u001b]8;;\u001b\\\n"
      ]
     },
     "metadata": {},
     "output_type": "display_data"
    },
    {
     "data": {
      "text/html": [
       "<pre style=\"white-space:pre;overflow-x:auto;line-height:normal;font-family:Menlo,'DejaVu Sans Mono',consolas,'Courier New',monospace\"><span style=\"color: #7fbfbf; text-decoration-color: #7fbfbf\">           </span>METRIC   Round <span style=\"color: #008080; text-decoration-color: #008080; font-weight: bold\">1</span>, collaborator validate_agg aggregated_model_validate result val_loss:   <span style=\"color: #008080; text-decoration-color: #008080; font-weight: bold\">0.646000</span>                                   <a href=\"file:///home/karan/workspace/fl-tutorial/venv/lib/python3.8/site-packages/openfl/interface/interactive_api/experiment.py\" target=\"_blank\"><span style=\"color: #7f7f7f; text-decoration-color: #7f7f7f\">experiment.py</span></a><span style=\"color: #7f7f7f; text-decoration-color: #7f7f7f\">:</span><a href=\"file:///home/karan/workspace/fl-tutorial/venv/lib/python3.8/site-packages/openfl/interface/interactive_api/experiment.py#132\" target=\"_blank\"><span style=\"color: #7f7f7f; text-decoration-color: #7f7f7f\">132</span></a>\n",
       "</pre>\n"
      ],
      "text/plain": [
       "\u001b[2;36m          \u001b[0m\u001b[2;36m \u001b[0mMETRIC   Round \u001b[1;36m1\u001b[0m, collaborator validate_agg aggregated_model_validate result val_loss:   \u001b[1;36m0.646000\u001b[0m                                   \u001b]8;id=289036;file:///home/karan/workspace/fl-tutorial/venv/lib/python3.8/site-packages/openfl/interface/interactive_api/experiment.py\u001b\\\u001b[2mexperiment.py\u001b[0m\u001b]8;;\u001b\\\u001b[2m:\u001b[0m\u001b]8;id=978830;file:///home/karan/workspace/fl-tutorial/venv/lib/python3.8/site-packages/openfl/interface/interactive_api/experiment.py#132\u001b\\\u001b[2m132\u001b[0m\u001b]8;;\u001b\\\n"
      ]
     },
     "metadata": {},
     "output_type": "display_data"
    },
    {
     "data": {
      "text/html": [
       "<pre style=\"white-space:pre;overflow-x:auto;line-height:normal;font-family:Menlo,'DejaVu Sans Mono',consolas,'Courier New',monospace\"><span style=\"color: #7fbfbf; text-decoration-color: #7fbfbf\">[16:46:32] </span>METRIC   Round <span style=\"color: #008080; text-decoration-color: #008080; font-weight: bold\">1</span>, collaborator Aggregator train result train_acc:        <span style=\"color: #008080; text-decoration-color: #008080; font-weight: bold\">0.732500</span>                                                   <a href=\"file:///home/karan/workspace/fl-tutorial/venv/lib/python3.8/site-packages/openfl/interface/interactive_api/experiment.py\" target=\"_blank\"><span style=\"color: #7f7f7f; text-decoration-color: #7f7f7f\">experiment.py</span></a><span style=\"color: #7f7f7f; text-decoration-color: #7f7f7f\">:</span><a href=\"file:///home/karan/workspace/fl-tutorial/venv/lib/python3.8/site-packages/openfl/interface/interactive_api/experiment.py#132\" target=\"_blank\"><span style=\"color: #7f7f7f; text-decoration-color: #7f7f7f\">132</span></a>\n",
       "</pre>\n"
      ],
      "text/plain": [
       "\u001b[2;36m[16:46:32]\u001b[0m\u001b[2;36m \u001b[0mMETRIC   Round \u001b[1;36m1\u001b[0m, collaborator Aggregator train result train_acc:        \u001b[1;36m0.732500\u001b[0m                                                   \u001b]8;id=571544;file:///home/karan/workspace/fl-tutorial/venv/lib/python3.8/site-packages/openfl/interface/interactive_api/experiment.py\u001b\\\u001b[2mexperiment.py\u001b[0m\u001b]8;;\u001b\\\u001b[2m:\u001b[0m\u001b]8;id=252302;file:///home/karan/workspace/fl-tutorial/venv/lib/python3.8/site-packages/openfl/interface/interactive_api/experiment.py#132\u001b\\\u001b[2m132\u001b[0m\u001b]8;;\u001b\\\n"
      ]
     },
     "metadata": {},
     "output_type": "display_data"
    },
    {
     "data": {
      "text/html": [
       "<pre style=\"white-space:pre;overflow-x:auto;line-height:normal;font-family:Menlo,'DejaVu Sans Mono',consolas,'Courier New',monospace\"><span style=\"color: #7fbfbf; text-decoration-color: #7fbfbf\">           </span>METRIC   Round <span style=\"color: #008080; text-decoration-color: #008080; font-weight: bold\">1</span>, collaborator Aggregator train result train_loss:       <span style=\"color: #008080; text-decoration-color: #008080; font-weight: bold\">0.569500</span>                                                   <a href=\"file:///home/karan/workspace/fl-tutorial/venv/lib/python3.8/site-packages/openfl/interface/interactive_api/experiment.py\" target=\"_blank\"><span style=\"color: #7f7f7f; text-decoration-color: #7f7f7f\">experiment.py</span></a><span style=\"color: #7f7f7f; text-decoration-color: #7f7f7f\">:</span><a href=\"file:///home/karan/workspace/fl-tutorial/venv/lib/python3.8/site-packages/openfl/interface/interactive_api/experiment.py#132\" target=\"_blank\"><span style=\"color: #7f7f7f; text-decoration-color: #7f7f7f\">132</span></a>\n",
       "</pre>\n"
      ],
      "text/plain": [
       "\u001b[2;36m          \u001b[0m\u001b[2;36m \u001b[0mMETRIC   Round \u001b[1;36m1\u001b[0m, collaborator Aggregator train result train_loss:       \u001b[1;36m0.569500\u001b[0m                                                   \u001b]8;id=85775;file:///home/karan/workspace/fl-tutorial/venv/lib/python3.8/site-packages/openfl/interface/interactive_api/experiment.py\u001b\\\u001b[2mexperiment.py\u001b[0m\u001b]8;;\u001b\\\u001b[2m:\u001b[0m\u001b]8;id=155552;file:///home/karan/workspace/fl-tutorial/venv/lib/python3.8/site-packages/openfl/interface/interactive_api/experiment.py#132\u001b\\\u001b[2m132\u001b[0m\u001b]8;;\u001b\\\n"
      ]
     },
     "metadata": {},
     "output_type": "display_data"
    },
    {
     "data": {
      "text/html": [
       "<pre style=\"white-space:pre;overflow-x:auto;line-height:normal;font-family:Menlo,'DejaVu Sans Mono',consolas,'Courier New',monospace\"><span style=\"color: #7fbfbf; text-decoration-color: #7fbfbf\">           </span>METRIC   Round <span style=\"color: #008080; text-decoration-color: #008080; font-weight: bold\">1</span>, collaborator Aggregator locally_tuned_model_validate result val_acc:   <span style=\"color: #008080; text-decoration-color: #008080; font-weight: bold\">0.733000</span>                                   <a href=\"file:///home/karan/workspace/fl-tutorial/venv/lib/python3.8/site-packages/openfl/interface/interactive_api/experiment.py\" target=\"_blank\"><span style=\"color: #7f7f7f; text-decoration-color: #7f7f7f\">experiment.py</span></a><span style=\"color: #7f7f7f; text-decoration-color: #7f7f7f\">:</span><a href=\"file:///home/karan/workspace/fl-tutorial/venv/lib/python3.8/site-packages/openfl/interface/interactive_api/experiment.py#132\" target=\"_blank\"><span style=\"color: #7f7f7f; text-decoration-color: #7f7f7f\">132</span></a>\n",
       "</pre>\n"
      ],
      "text/plain": [
       "\u001b[2;36m          \u001b[0m\u001b[2;36m \u001b[0mMETRIC   Round \u001b[1;36m1\u001b[0m, collaborator Aggregator locally_tuned_model_validate result val_acc:   \u001b[1;36m0.733000\u001b[0m                                   \u001b]8;id=48579;file:///home/karan/workspace/fl-tutorial/venv/lib/python3.8/site-packages/openfl/interface/interactive_api/experiment.py\u001b\\\u001b[2mexperiment.py\u001b[0m\u001b]8;;\u001b\\\u001b[2m:\u001b[0m\u001b]8;id=323027;file:///home/karan/workspace/fl-tutorial/venv/lib/python3.8/site-packages/openfl/interface/interactive_api/experiment.py#132\u001b\\\u001b[2m132\u001b[0m\u001b]8;;\u001b\\\n"
      ]
     },
     "metadata": {},
     "output_type": "display_data"
    },
    {
     "data": {
      "text/html": [
       "<pre style=\"white-space:pre;overflow-x:auto;line-height:normal;font-family:Menlo,'DejaVu Sans Mono',consolas,'Courier New',monospace\"><span style=\"color: #7fbfbf; text-decoration-color: #7fbfbf\">           </span>METRIC   Round <span style=\"color: #008080; text-decoration-color: #008080; font-weight: bold\">1</span>, collaborator Aggregator locally_tuned_model_validate result val_loss:  <span style=\"color: #008080; text-decoration-color: #008080; font-weight: bold\">0.579000</span>                                   <a href=\"file:///home/karan/workspace/fl-tutorial/venv/lib/python3.8/site-packages/openfl/interface/interactive_api/experiment.py\" target=\"_blank\"><span style=\"color: #7f7f7f; text-decoration-color: #7f7f7f\">experiment.py</span></a><span style=\"color: #7f7f7f; text-decoration-color: #7f7f7f\">:</span><a href=\"file:///home/karan/workspace/fl-tutorial/venv/lib/python3.8/site-packages/openfl/interface/interactive_api/experiment.py#132\" target=\"_blank\"><span style=\"color: #7f7f7f; text-decoration-color: #7f7f7f\">132</span></a>\n",
       "</pre>\n"
      ],
      "text/plain": [
       "\u001b[2;36m          \u001b[0m\u001b[2;36m \u001b[0mMETRIC   Round \u001b[1;36m1\u001b[0m, collaborator Aggregator locally_tuned_model_validate result val_loss:  \u001b[1;36m0.579000\u001b[0m                                   \u001b]8;id=848272;file:///home/karan/workspace/fl-tutorial/venv/lib/python3.8/site-packages/openfl/interface/interactive_api/experiment.py\u001b\\\u001b[2mexperiment.py\u001b[0m\u001b]8;;\u001b\\\u001b[2m:\u001b[0m\u001b]8;id=829906;file:///home/karan/workspace/fl-tutorial/venv/lib/python3.8/site-packages/openfl/interface/interactive_api/experiment.py#132\u001b\\\u001b[2m132\u001b[0m\u001b]8;;\u001b\\\n"
      ]
     },
     "metadata": {},
     "output_type": "display_data"
    },
    {
     "data": {
      "text/html": [
       "<pre style=\"white-space:pre;overflow-x:auto;line-height:normal;font-family:Menlo,'DejaVu Sans Mono',consolas,'Courier New',monospace\"><span style=\"color: #7fbfbf; text-decoration-color: #7fbfbf\">           </span>METRIC   Round <span style=\"color: #008080; text-decoration-color: #008080; font-weight: bold\">1</span>, collaborator Aggregator aggregated_model_validate result val_acc:      <span style=\"color: #008080; text-decoration-color: #008080; font-weight: bold\">0.727500</span>                                   <a href=\"file:///home/karan/workspace/fl-tutorial/venv/lib/python3.8/site-packages/openfl/interface/interactive_api/experiment.py\" target=\"_blank\"><span style=\"color: #7f7f7f; text-decoration-color: #7f7f7f\">experiment.py</span></a><span style=\"color: #7f7f7f; text-decoration-color: #7f7f7f\">:</span><a href=\"file:///home/karan/workspace/fl-tutorial/venv/lib/python3.8/site-packages/openfl/interface/interactive_api/experiment.py#132\" target=\"_blank\"><span style=\"color: #7f7f7f; text-decoration-color: #7f7f7f\">132</span></a>\n",
       "</pre>\n"
      ],
      "text/plain": [
       "\u001b[2;36m          \u001b[0m\u001b[2;36m \u001b[0mMETRIC   Round \u001b[1;36m1\u001b[0m, collaborator Aggregator aggregated_model_validate result val_acc:      \u001b[1;36m0.727500\u001b[0m                                   \u001b]8;id=221725;file:///home/karan/workspace/fl-tutorial/venv/lib/python3.8/site-packages/openfl/interface/interactive_api/experiment.py\u001b\\\u001b[2mexperiment.py\u001b[0m\u001b]8;;\u001b\\\u001b[2m:\u001b[0m\u001b]8;id=721853;file:///home/karan/workspace/fl-tutorial/venv/lib/python3.8/site-packages/openfl/interface/interactive_api/experiment.py#132\u001b\\\u001b[2m132\u001b[0m\u001b]8;;\u001b\\\n"
      ]
     },
     "metadata": {},
     "output_type": "display_data"
    },
    {
     "data": {
      "text/html": [
       "<pre style=\"white-space:pre;overflow-x:auto;line-height:normal;font-family:Menlo,'DejaVu Sans Mono',consolas,'Courier New',monospace\"><span style=\"color: #7fbfbf; text-decoration-color: #7fbfbf\">           </span>METRIC   Round <span style=\"color: #008080; text-decoration-color: #008080; font-weight: bold\">1</span>, collaborator Aggregator aggregated_model_validate result val_loss:     <span style=\"color: #008080; text-decoration-color: #008080; font-weight: bold\">0.647000</span>                                   <a href=\"file:///home/karan/workspace/fl-tutorial/venv/lib/python3.8/site-packages/openfl/interface/interactive_api/experiment.py\" target=\"_blank\"><span style=\"color: #7f7f7f; text-decoration-color: #7f7f7f\">experiment.py</span></a><span style=\"color: #7f7f7f; text-decoration-color: #7f7f7f\">:</span><a href=\"file:///home/karan/workspace/fl-tutorial/venv/lib/python3.8/site-packages/openfl/interface/interactive_api/experiment.py#132\" target=\"_blank\"><span style=\"color: #7f7f7f; text-decoration-color: #7f7f7f\">132</span></a>\n",
       "</pre>\n"
      ],
      "text/plain": [
       "\u001b[2;36m          \u001b[0m\u001b[2;36m \u001b[0mMETRIC   Round \u001b[1;36m1\u001b[0m, collaborator Aggregator aggregated_model_validate result val_loss:     \u001b[1;36m0.647000\u001b[0m                                   \u001b]8;id=332304;file:///home/karan/workspace/fl-tutorial/venv/lib/python3.8/site-packages/openfl/interface/interactive_api/experiment.py\u001b\\\u001b[2mexperiment.py\u001b[0m\u001b]8;;\u001b\\\u001b[2m:\u001b[0m\u001b]8;id=181159;file:///home/karan/workspace/fl-tutorial/venv/lib/python3.8/site-packages/openfl/interface/interactive_api/experiment.py#132\u001b\\\u001b[2m132\u001b[0m\u001b]8;;\u001b\\\n"
      ]
     },
     "metadata": {},
     "output_type": "display_data"
    },
    {
     "name": "stdout",
     "output_type": "stream",
     "text": [
      "training: 100%|██████████| 39/39 [00:17<00:00,  2.22it/s]\n",
      "validating:   0%|          | 0/11 [00:00<?, ?it/s]93it/s]"
     ]
    },
    {
     "data": {
      "text/html": [
       "<pre style=\"white-space:pre;overflow-x:auto;line-height:normal;font-family:Menlo,'DejaVu Sans Mono',consolas,'Courier New',monospace\"><span style=\"color: #7fbfbf; text-decoration-color: #7fbfbf\">[16:46:51] </span>METRIC   Round <span style=\"color: #008080; text-decoration-color: #008080; font-weight: bold\">2</span>, collaborator trained train result train_acc:   <span style=\"color: #008080; text-decoration-color: #008080; font-weight: bold\">0.735000</span>                                                           <a href=\"file:///home/karan/workspace/fl-tutorial/venv/lib/python3.8/site-packages/openfl/interface/interactive_api/experiment.py\" target=\"_blank\"><span style=\"color: #7f7f7f; text-decoration-color: #7f7f7f\">experiment.py</span></a><span style=\"color: #7f7f7f; text-decoration-color: #7f7f7f\">:</span><a href=\"file:///home/karan/workspace/fl-tutorial/venv/lib/python3.8/site-packages/openfl/interface/interactive_api/experiment.py#132\" target=\"_blank\"><span style=\"color: #7f7f7f; text-decoration-color: #7f7f7f\">132</span></a>\n",
       "</pre>\n"
      ],
      "text/plain": [
       "\u001b[2;36m[16:46:51]\u001b[0m\u001b[2;36m \u001b[0mMETRIC   Round \u001b[1;36m2\u001b[0m, collaborator trained train result train_acc:   \u001b[1;36m0.735000\u001b[0m                                                           \u001b]8;id=302123;file:///home/karan/workspace/fl-tutorial/venv/lib/python3.8/site-packages/openfl/interface/interactive_api/experiment.py\u001b\\\u001b[2mexperiment.py\u001b[0m\u001b]8;;\u001b\\\u001b[2m:\u001b[0m\u001b]8;id=940057;file:///home/karan/workspace/fl-tutorial/venv/lib/python3.8/site-packages/openfl/interface/interactive_api/experiment.py#132\u001b\\\u001b[2m132\u001b[0m\u001b]8;;\u001b\\\n"
      ]
     },
     "metadata": {},
     "output_type": "display_data"
    },
    {
     "data": {
      "text/html": [
       "<pre style=\"white-space:pre;overflow-x:auto;line-height:normal;font-family:Menlo,'DejaVu Sans Mono',consolas,'Courier New',monospace\"><span style=\"color: #7fbfbf; text-decoration-color: #7fbfbf\">           </span>METRIC   Round <span style=\"color: #008080; text-decoration-color: #008080; font-weight: bold\">2</span>, collaborator trained train result train_loss:  <span style=\"color: #008080; text-decoration-color: #008080; font-weight: bold\">0.538000</span>                                                           <a href=\"file:///home/karan/workspace/fl-tutorial/venv/lib/python3.8/site-packages/openfl/interface/interactive_api/experiment.py\" target=\"_blank\"><span style=\"color: #7f7f7f; text-decoration-color: #7f7f7f\">experiment.py</span></a><span style=\"color: #7f7f7f; text-decoration-color: #7f7f7f\">:</span><a href=\"file:///home/karan/workspace/fl-tutorial/venv/lib/python3.8/site-packages/openfl/interface/interactive_api/experiment.py#132\" target=\"_blank\"><span style=\"color: #7f7f7f; text-decoration-color: #7f7f7f\">132</span></a>\n",
       "</pre>\n"
      ],
      "text/plain": [
       "\u001b[2;36m          \u001b[0m\u001b[2;36m \u001b[0mMETRIC   Round \u001b[1;36m2\u001b[0m, collaborator trained train result train_loss:  \u001b[1;36m0.538000\u001b[0m                                                           \u001b]8;id=19458;file:///home/karan/workspace/fl-tutorial/venv/lib/python3.8/site-packages/openfl/interface/interactive_api/experiment.py\u001b\\\u001b[2mexperiment.py\u001b[0m\u001b]8;;\u001b\\\u001b[2m:\u001b[0m\u001b]8;id=840318;file:///home/karan/workspace/fl-tutorial/venv/lib/python3.8/site-packages/openfl/interface/interactive_api/experiment.py#132\u001b\\\u001b[2m132\u001b[0m\u001b]8;;\u001b\\\n"
      ]
     },
     "metadata": {},
     "output_type": "display_data"
    },
    {
     "name": "stdout",
     "output_type": "stream",
     "text": [
      "validating: 100%|██████████| 11/11 [00:02<00:00,  3.67it/s]\n",
      "training:  41%|████      | 16/39 [00:11<00:16,  1.36it/s]"
     ]
    },
    {
     "data": {
      "text/html": [
       "<pre style=\"white-space:pre;overflow-x:auto;line-height:normal;font-family:Menlo,'DejaVu Sans Mono',consolas,'Courier New',monospace\"><span style=\"color: #7fbfbf; text-decoration-color: #7fbfbf\">[16:46:54] </span>METRIC   Round <span style=\"color: #008080; text-decoration-color: #008080; font-weight: bold\">2</span>, collaborator validate_local locally_tuned_model_validate result val_acc:       <span style=\"color: #008080; text-decoration-color: #008080; font-weight: bold\">0.727000</span>                           <a href=\"file:///home/karan/workspace/fl-tutorial/venv/lib/python3.8/site-packages/openfl/interface/interactive_api/experiment.py\" target=\"_blank\"><span style=\"color: #7f7f7f; text-decoration-color: #7f7f7f\">experiment.py</span></a><span style=\"color: #7f7f7f; text-decoration-color: #7f7f7f\">:</span><a href=\"file:///home/karan/workspace/fl-tutorial/venv/lib/python3.8/site-packages/openfl/interface/interactive_api/experiment.py#132\" target=\"_blank\"><span style=\"color: #7f7f7f; text-decoration-color: #7f7f7f\">132</span></a>\n",
       "</pre>\n"
      ],
      "text/plain": [
       "\u001b[2;36m[16:46:54]\u001b[0m\u001b[2;36m \u001b[0mMETRIC   Round \u001b[1;36m2\u001b[0m, collaborator validate_local locally_tuned_model_validate result val_acc:       \u001b[1;36m0.727000\u001b[0m                           \u001b]8;id=431127;file:///home/karan/workspace/fl-tutorial/venv/lib/python3.8/site-packages/openfl/interface/interactive_api/experiment.py\u001b\\\u001b[2mexperiment.py\u001b[0m\u001b]8;;\u001b\\\u001b[2m:\u001b[0m\u001b]8;id=735198;file:///home/karan/workspace/fl-tutorial/venv/lib/python3.8/site-packages/openfl/interface/interactive_api/experiment.py#132\u001b\\\u001b[2m132\u001b[0m\u001b]8;;\u001b\\\n"
      ]
     },
     "metadata": {},
     "output_type": "display_data"
    },
    {
     "data": {
      "text/html": [
       "<pre style=\"white-space:pre;overflow-x:auto;line-height:normal;font-family:Menlo,'DejaVu Sans Mono',consolas,'Courier New',monospace\"><span style=\"color: #7fbfbf; text-decoration-color: #7fbfbf\">           </span>METRIC   Round <span style=\"color: #008080; text-decoration-color: #008080; font-weight: bold\">2</span>, collaborator validate_local locally_tuned_model_validate result val_loss:      <span style=\"color: #008080; text-decoration-color: #008080; font-weight: bold\">0.578000</span>                           <a href=\"file:///home/karan/workspace/fl-tutorial/venv/lib/python3.8/site-packages/openfl/interface/interactive_api/experiment.py\" target=\"_blank\"><span style=\"color: #7f7f7f; text-decoration-color: #7f7f7f\">experiment.py</span></a><span style=\"color: #7f7f7f; text-decoration-color: #7f7f7f\">:</span><a href=\"file:///home/karan/workspace/fl-tutorial/venv/lib/python3.8/site-packages/openfl/interface/interactive_api/experiment.py#132\" target=\"_blank\"><span style=\"color: #7f7f7f; text-decoration-color: #7f7f7f\">132</span></a>\n",
       "</pre>\n"
      ],
      "text/plain": [
       "\u001b[2;36m          \u001b[0m\u001b[2;36m \u001b[0mMETRIC   Round \u001b[1;36m2\u001b[0m, collaborator validate_local locally_tuned_model_validate result val_loss:      \u001b[1;36m0.578000\u001b[0m                           \u001b]8;id=718078;file:///home/karan/workspace/fl-tutorial/venv/lib/python3.8/site-packages/openfl/interface/interactive_api/experiment.py\u001b\\\u001b[2mexperiment.py\u001b[0m\u001b]8;;\u001b\\\u001b[2m:\u001b[0m\u001b]8;id=81463;file:///home/karan/workspace/fl-tutorial/venv/lib/python3.8/site-packages/openfl/interface/interactive_api/experiment.py#132\u001b\\\u001b[2m132\u001b[0m\u001b]8;;\u001b\\\n"
      ]
     },
     "metadata": {},
     "output_type": "display_data"
    },
    {
     "name": "stdout",
     "output_type": "stream",
     "text": [
      "validating: 100%|██████████| 11/11 [00:02<00:00,  3.94it/s]\n",
      "training:  51%|█████▏    | 20/39 [00:14<00:14,  1.34it/s]"
     ]
    },
    {
     "data": {
      "text/html": [
       "<pre style=\"white-space:pre;overflow-x:auto;line-height:normal;font-family:Menlo,'DejaVu Sans Mono',consolas,'Courier New',monospace\"><span style=\"color: #7fbfbf; text-decoration-color: #7fbfbf\">[16:46:57] </span>METRIC   Round <span style=\"color: #008080; text-decoration-color: #008080; font-weight: bold\">2</span>, collaborator validate_agg aggregated_model_validate result val_acc:    <span style=\"color: #008080; text-decoration-color: #008080; font-weight: bold\">0.733000</span>                                   <a href=\"file:///home/karan/workspace/fl-tutorial/venv/lib/python3.8/site-packages/openfl/interface/interactive_api/experiment.py\" target=\"_blank\"><span style=\"color: #7f7f7f; text-decoration-color: #7f7f7f\">experiment.py</span></a><span style=\"color: #7f7f7f; text-decoration-color: #7f7f7f\">:</span><a href=\"file:///home/karan/workspace/fl-tutorial/venv/lib/python3.8/site-packages/openfl/interface/interactive_api/experiment.py#132\" target=\"_blank\"><span style=\"color: #7f7f7f; text-decoration-color: #7f7f7f\">132</span></a>\n",
       "</pre>\n"
      ],
      "text/plain": [
       "\u001b[2;36m[16:46:57]\u001b[0m\u001b[2;36m \u001b[0mMETRIC   Round \u001b[1;36m2\u001b[0m, collaborator validate_agg aggregated_model_validate result val_acc:    \u001b[1;36m0.733000\u001b[0m                                   \u001b]8;id=683563;file:///home/karan/workspace/fl-tutorial/venv/lib/python3.8/site-packages/openfl/interface/interactive_api/experiment.py\u001b\\\u001b[2mexperiment.py\u001b[0m\u001b]8;;\u001b\\\u001b[2m:\u001b[0m\u001b]8;id=360570;file:///home/karan/workspace/fl-tutorial/venv/lib/python3.8/site-packages/openfl/interface/interactive_api/experiment.py#132\u001b\\\u001b[2m132\u001b[0m\u001b]8;;\u001b\\\n"
      ]
     },
     "metadata": {},
     "output_type": "display_data"
    },
    {
     "data": {
      "text/html": [
       "<pre style=\"white-space:pre;overflow-x:auto;line-height:normal;font-family:Menlo,'DejaVu Sans Mono',consolas,'Courier New',monospace\"><span style=\"color: #7fbfbf; text-decoration-color: #7fbfbf\">           </span>METRIC   Round <span style=\"color: #008080; text-decoration-color: #008080; font-weight: bold\">2</span>, collaborator validate_agg aggregated_model_validate result val_loss:   <span style=\"color: #008080; text-decoration-color: #008080; font-weight: bold\">0.584000</span>                                   <a href=\"file:///home/karan/workspace/fl-tutorial/venv/lib/python3.8/site-packages/openfl/interface/interactive_api/experiment.py\" target=\"_blank\"><span style=\"color: #7f7f7f; text-decoration-color: #7f7f7f\">experiment.py</span></a><span style=\"color: #7f7f7f; text-decoration-color: #7f7f7f\">:</span><a href=\"file:///home/karan/workspace/fl-tutorial/venv/lib/python3.8/site-packages/openfl/interface/interactive_api/experiment.py#132\" target=\"_blank\"><span style=\"color: #7f7f7f; text-decoration-color: #7f7f7f\">132</span></a>\n",
       "</pre>\n"
      ],
      "text/plain": [
       "\u001b[2;36m          \u001b[0m\u001b[2;36m \u001b[0mMETRIC   Round \u001b[1;36m2\u001b[0m, collaborator validate_agg aggregated_model_validate result val_loss:   \u001b[1;36m0.584000\u001b[0m                                   \u001b]8;id=458576;file:///home/karan/workspace/fl-tutorial/venv/lib/python3.8/site-packages/openfl/interface/interactive_api/experiment.py\u001b\\\u001b[2mexperiment.py\u001b[0m\u001b]8;;\u001b\\\u001b[2m:\u001b[0m\u001b]8;id=291586;file:///home/karan/workspace/fl-tutorial/venv/lib/python3.8/site-packages/openfl/interface/interactive_api/experiment.py#132\u001b\\\u001b[2m132\u001b[0m\u001b]8;;\u001b\\\n"
      ]
     },
     "metadata": {},
     "output_type": "display_data"
    },
    {
     "name": "stdout",
     "output_type": "stream",
     "text": [
      "training: 100%|██████████| 39/39 [00:20<00:00,  1.86it/s]\n",
      "validating:  64%|██████▎   | 7/11 [00:00<00:00,  8.33it/s]"
     ]
    },
    {
     "data": {
      "text/html": [
       "<pre style=\"white-space:pre;overflow-x:auto;line-height:normal;font-family:Menlo,'DejaVu Sans Mono',consolas,'Courier New',monospace\"><span style=\"color: #7fbfbf; text-decoration-color: #7fbfbf\">[16:47:05] </span>METRIC   Round <span style=\"color: #008080; text-decoration-color: #008080; font-weight: bold\">2</span>, collaborator trained train result train_acc:   <span style=\"color: #008080; text-decoration-color: #008080; font-weight: bold\">0.741000</span>                                                           <a href=\"file:///home/karan/workspace/fl-tutorial/venv/lib/python3.8/site-packages/openfl/interface/interactive_api/experiment.py\" target=\"_blank\"><span style=\"color: #7f7f7f; text-decoration-color: #7f7f7f\">experiment.py</span></a><span style=\"color: #7f7f7f; text-decoration-color: #7f7f7f\">:</span><a href=\"file:///home/karan/workspace/fl-tutorial/venv/lib/python3.8/site-packages/openfl/interface/interactive_api/experiment.py#132\" target=\"_blank\"><span style=\"color: #7f7f7f; text-decoration-color: #7f7f7f\">132</span></a>\n",
       "</pre>\n"
      ],
      "text/plain": [
       "\u001b[2;36m[16:47:05]\u001b[0m\u001b[2;36m \u001b[0mMETRIC   Round \u001b[1;36m2\u001b[0m, collaborator trained train result train_acc:   \u001b[1;36m0.741000\u001b[0m                                                           \u001b]8;id=861170;file:///home/karan/workspace/fl-tutorial/venv/lib/python3.8/site-packages/openfl/interface/interactive_api/experiment.py\u001b\\\u001b[2mexperiment.py\u001b[0m\u001b]8;;\u001b\\\u001b[2m:\u001b[0m\u001b]8;id=428459;file:///home/karan/workspace/fl-tutorial/venv/lib/python3.8/site-packages/openfl/interface/interactive_api/experiment.py#132\u001b\\\u001b[2m132\u001b[0m\u001b]8;;\u001b\\\n"
      ]
     },
     "metadata": {},
     "output_type": "display_data"
    },
    {
     "data": {
      "text/html": [
       "<pre style=\"white-space:pre;overflow-x:auto;line-height:normal;font-family:Menlo,'DejaVu Sans Mono',consolas,'Courier New',monospace\"><span style=\"color: #7fbfbf; text-decoration-color: #7fbfbf\">           </span>METRIC   Round <span style=\"color: #008080; text-decoration-color: #008080; font-weight: bold\">2</span>, collaborator trained train result train_loss:  <span style=\"color: #008080; text-decoration-color: #008080; font-weight: bold\">0.539000</span>                                                           <a href=\"file:///home/karan/workspace/fl-tutorial/venv/lib/python3.8/site-packages/openfl/interface/interactive_api/experiment.py\" target=\"_blank\"><span style=\"color: #7f7f7f; text-decoration-color: #7f7f7f\">experiment.py</span></a><span style=\"color: #7f7f7f; text-decoration-color: #7f7f7f\">:</span><a href=\"file:///home/karan/workspace/fl-tutorial/venv/lib/python3.8/site-packages/openfl/interface/interactive_api/experiment.py#132\" target=\"_blank\"><span style=\"color: #7f7f7f; text-decoration-color: #7f7f7f\">132</span></a>\n",
       "</pre>\n"
      ],
      "text/plain": [
       "\u001b[2;36m          \u001b[0m\u001b[2;36m \u001b[0mMETRIC   Round \u001b[1;36m2\u001b[0m, collaborator trained train result train_loss:  \u001b[1;36m0.539000\u001b[0m                                                           \u001b]8;id=519680;file:///home/karan/workspace/fl-tutorial/venv/lib/python3.8/site-packages/openfl/interface/interactive_api/experiment.py\u001b\\\u001b[2mexperiment.py\u001b[0m\u001b]8;;\u001b\\\u001b[2m:\u001b[0m\u001b]8;id=222228;file:///home/karan/workspace/fl-tutorial/venv/lib/python3.8/site-packages/openfl/interface/interactive_api/experiment.py#132\u001b\\\u001b[2m132\u001b[0m\u001b]8;;\u001b\\\n"
      ]
     },
     "metadata": {},
     "output_type": "display_data"
    },
    {
     "name": "stdout",
     "output_type": "stream",
     "text": [
      "validating: 100%|██████████| 11/11 [00:01<00:00,  7.26it/s]\n",
      "validating:   0%|          | 0/11 [00:00<?, ?it/s]"
     ]
    },
    {
     "data": {
      "text/html": [
       "<pre style=\"white-space:pre;overflow-x:auto;line-height:normal;font-family:Menlo,'DejaVu Sans Mono',consolas,'Courier New',monospace\"><span style=\"color: #7fbfbf; text-decoration-color: #7fbfbf\">[16:47:06] </span>METRIC   Round <span style=\"color: #008080; text-decoration-color: #008080; font-weight: bold\">2</span>, collaborator validate_local locally_tuned_model_validate result val_acc:       <span style=\"color: #008080; text-decoration-color: #008080; font-weight: bold\">0.733000</span>                           <a href=\"file:///home/karan/workspace/fl-tutorial/venv/lib/python3.8/site-packages/openfl/interface/interactive_api/experiment.py\" target=\"_blank\"><span style=\"color: #7f7f7f; text-decoration-color: #7f7f7f\">experiment.py</span></a><span style=\"color: #7f7f7f; text-decoration-color: #7f7f7f\">:</span><a href=\"file:///home/karan/workspace/fl-tutorial/venv/lib/python3.8/site-packages/openfl/interface/interactive_api/experiment.py#132\" target=\"_blank\"><span style=\"color: #7f7f7f; text-decoration-color: #7f7f7f\">132</span></a>\n",
       "</pre>\n"
      ],
      "text/plain": [
       "\u001b[2;36m[16:47:06]\u001b[0m\u001b[2;36m \u001b[0mMETRIC   Round \u001b[1;36m2\u001b[0m, collaborator validate_local locally_tuned_model_validate result val_acc:       \u001b[1;36m0.733000\u001b[0m                           \u001b]8;id=216691;file:///home/karan/workspace/fl-tutorial/venv/lib/python3.8/site-packages/openfl/interface/interactive_api/experiment.py\u001b\\\u001b[2mexperiment.py\u001b[0m\u001b]8;;\u001b\\\u001b[2m:\u001b[0m\u001b]8;id=964958;file:///home/karan/workspace/fl-tutorial/venv/lib/python3.8/site-packages/openfl/interface/interactive_api/experiment.py#132\u001b\\\u001b[2m132\u001b[0m\u001b]8;;\u001b\\\n"
      ]
     },
     "metadata": {},
     "output_type": "display_data"
    },
    {
     "data": {
      "text/html": [
       "<pre style=\"white-space:pre;overflow-x:auto;line-height:normal;font-family:Menlo,'DejaVu Sans Mono',consolas,'Courier New',monospace\"><span style=\"color: #7fbfbf; text-decoration-color: #7fbfbf\">           </span>METRIC   Round <span style=\"color: #008080; text-decoration-color: #008080; font-weight: bold\">2</span>, collaborator validate_local locally_tuned_model_validate result val_loss:      <span style=\"color: #008080; text-decoration-color: #008080; font-weight: bold\">0.556000</span>                           <a href=\"file:///home/karan/workspace/fl-tutorial/venv/lib/python3.8/site-packages/openfl/interface/interactive_api/experiment.py\" target=\"_blank\"><span style=\"color: #7f7f7f; text-decoration-color: #7f7f7f\">experiment.py</span></a><span style=\"color: #7f7f7f; text-decoration-color: #7f7f7f\">:</span><a href=\"file:///home/karan/workspace/fl-tutorial/venv/lib/python3.8/site-packages/openfl/interface/interactive_api/experiment.py#132\" target=\"_blank\"><span style=\"color: #7f7f7f; text-decoration-color: #7f7f7f\">132</span></a>\n",
       "</pre>\n"
      ],
      "text/plain": [
       "\u001b[2;36m          \u001b[0m\u001b[2;36m \u001b[0mMETRIC   Round \u001b[1;36m2\u001b[0m, collaborator validate_local locally_tuned_model_validate result val_loss:      \u001b[1;36m0.556000\u001b[0m                           \u001b]8;id=716142;file:///home/karan/workspace/fl-tutorial/venv/lib/python3.8/site-packages/openfl/interface/interactive_api/experiment.py\u001b\\\u001b[2mexperiment.py\u001b[0m\u001b]8;;\u001b\\\u001b[2m:\u001b[0m\u001b]8;id=779767;file:///home/karan/workspace/fl-tutorial/venv/lib/python3.8/site-packages/openfl/interface/interactive_api/experiment.py#132\u001b\\\u001b[2m132\u001b[0m\u001b]8;;\u001b\\\n"
      ]
     },
     "metadata": {},
     "output_type": "display_data"
    },
    {
     "name": "stdout",
     "output_type": "stream",
     "text": [
      "validating: 100%|██████████| 11/11 [00:02<00:00,  5.00it/s]\n"
     ]
    },
    {
     "data": {
      "text/html": [
       "<pre style=\"white-space:pre;overflow-x:auto;line-height:normal;font-family:Menlo,'DejaVu Sans Mono',consolas,'Courier New',monospace\"><span style=\"color: #7fbfbf; text-decoration-color: #7fbfbf\">[16:47:08] </span>METRIC   Round <span style=\"color: #008080; text-decoration-color: #008080; font-weight: bold\">2</span>, collaborator validate_agg aggregated_model_validate result val_acc:    <span style=\"color: #008080; text-decoration-color: #008080; font-weight: bold\">0.733000</span>                                   <a href=\"file:///home/karan/workspace/fl-tutorial/venv/lib/python3.8/site-packages/openfl/interface/interactive_api/experiment.py\" target=\"_blank\"><span style=\"color: #7f7f7f; text-decoration-color: #7f7f7f\">experiment.py</span></a><span style=\"color: #7f7f7f; text-decoration-color: #7f7f7f\">:</span><a href=\"file:///home/karan/workspace/fl-tutorial/venv/lib/python3.8/site-packages/openfl/interface/interactive_api/experiment.py#132\" target=\"_blank\"><span style=\"color: #7f7f7f; text-decoration-color: #7f7f7f\">132</span></a>\n",
       "</pre>\n"
      ],
      "text/plain": [
       "\u001b[2;36m[16:47:08]\u001b[0m\u001b[2;36m \u001b[0mMETRIC   Round \u001b[1;36m2\u001b[0m, collaborator validate_agg aggregated_model_validate result val_acc:    \u001b[1;36m0.733000\u001b[0m                                   \u001b]8;id=548097;file:///home/karan/workspace/fl-tutorial/venv/lib/python3.8/site-packages/openfl/interface/interactive_api/experiment.py\u001b\\\u001b[2mexperiment.py\u001b[0m\u001b]8;;\u001b\\\u001b[2m:\u001b[0m\u001b]8;id=453263;file:///home/karan/workspace/fl-tutorial/venv/lib/python3.8/site-packages/openfl/interface/interactive_api/experiment.py#132\u001b\\\u001b[2m132\u001b[0m\u001b]8;;\u001b\\\n"
      ]
     },
     "metadata": {},
     "output_type": "display_data"
    },
    {
     "data": {
      "text/html": [
       "<pre style=\"white-space:pre;overflow-x:auto;line-height:normal;font-family:Menlo,'DejaVu Sans Mono',consolas,'Courier New',monospace\"><span style=\"color: #7fbfbf; text-decoration-color: #7fbfbf\">           </span>METRIC   Round <span style=\"color: #008080; text-decoration-color: #008080; font-weight: bold\">2</span>, collaborator validate_agg aggregated_model_validate result val_loss:   <span style=\"color: #008080; text-decoration-color: #008080; font-weight: bold\">0.567000</span>                                   <a href=\"file:///home/karan/workspace/fl-tutorial/venv/lib/python3.8/site-packages/openfl/interface/interactive_api/experiment.py\" target=\"_blank\"><span style=\"color: #7f7f7f; text-decoration-color: #7f7f7f\">experiment.py</span></a><span style=\"color: #7f7f7f; text-decoration-color: #7f7f7f\">:</span><a href=\"file:///home/karan/workspace/fl-tutorial/venv/lib/python3.8/site-packages/openfl/interface/interactive_api/experiment.py#132\" target=\"_blank\"><span style=\"color: #7f7f7f; text-decoration-color: #7f7f7f\">132</span></a>\n",
       "</pre>\n"
      ],
      "text/plain": [
       "\u001b[2;36m          \u001b[0m\u001b[2;36m \u001b[0mMETRIC   Round \u001b[1;36m2\u001b[0m, collaborator validate_agg aggregated_model_validate result val_loss:   \u001b[1;36m0.567000\u001b[0m                                   \u001b]8;id=650280;file:///home/karan/workspace/fl-tutorial/venv/lib/python3.8/site-packages/openfl/interface/interactive_api/experiment.py\u001b\\\u001b[2mexperiment.py\u001b[0m\u001b]8;;\u001b\\\u001b[2m:\u001b[0m\u001b]8;id=517585;file:///home/karan/workspace/fl-tutorial/venv/lib/python3.8/site-packages/openfl/interface/interactive_api/experiment.py#132\u001b\\\u001b[2m132\u001b[0m\u001b]8;;\u001b\\\n"
      ]
     },
     "metadata": {},
     "output_type": "display_data"
    },
    {
     "data": {
      "text/html": [
       "<pre style=\"white-space:pre;overflow-x:auto;line-height:normal;font-family:Menlo,'DejaVu Sans Mono',consolas,'Courier New',monospace\"><span style=\"color: #7fbfbf; text-decoration-color: #7fbfbf\">[16:47:11] </span>METRIC   Round <span style=\"color: #008080; text-decoration-color: #008080; font-weight: bold\">2</span>, collaborator Aggregator train result train_acc:        <span style=\"color: #008080; text-decoration-color: #008080; font-weight: bold\">0.738000</span>                                                   <a href=\"file:///home/karan/workspace/fl-tutorial/venv/lib/python3.8/site-packages/openfl/interface/interactive_api/experiment.py\" target=\"_blank\"><span style=\"color: #7f7f7f; text-decoration-color: #7f7f7f\">experiment.py</span></a><span style=\"color: #7f7f7f; text-decoration-color: #7f7f7f\">:</span><a href=\"file:///home/karan/workspace/fl-tutorial/venv/lib/python3.8/site-packages/openfl/interface/interactive_api/experiment.py#132\" target=\"_blank\"><span style=\"color: #7f7f7f; text-decoration-color: #7f7f7f\">132</span></a>\n",
       "</pre>\n"
      ],
      "text/plain": [
       "\u001b[2;36m[16:47:11]\u001b[0m\u001b[2;36m \u001b[0mMETRIC   Round \u001b[1;36m2\u001b[0m, collaborator Aggregator train result train_acc:        \u001b[1;36m0.738000\u001b[0m                                                   \u001b]8;id=500698;file:///home/karan/workspace/fl-tutorial/venv/lib/python3.8/site-packages/openfl/interface/interactive_api/experiment.py\u001b\\\u001b[2mexperiment.py\u001b[0m\u001b]8;;\u001b\\\u001b[2m:\u001b[0m\u001b]8;id=39827;file:///home/karan/workspace/fl-tutorial/venv/lib/python3.8/site-packages/openfl/interface/interactive_api/experiment.py#132\u001b\\\u001b[2m132\u001b[0m\u001b]8;;\u001b\\\n"
      ]
     },
     "metadata": {},
     "output_type": "display_data"
    },
    {
     "data": {
      "text/html": [
       "<pre style=\"white-space:pre;overflow-x:auto;line-height:normal;font-family:Menlo,'DejaVu Sans Mono',consolas,'Courier New',monospace\"><span style=\"color: #7fbfbf; text-decoration-color: #7fbfbf\">           </span>METRIC   Round <span style=\"color: #008080; text-decoration-color: #008080; font-weight: bold\">2</span>, collaborator Aggregator train result train_loss:       <span style=\"color: #008080; text-decoration-color: #008080; font-weight: bold\">0.538500</span>                                                   <a href=\"file:///home/karan/workspace/fl-tutorial/venv/lib/python3.8/site-packages/openfl/interface/interactive_api/experiment.py\" target=\"_blank\"><span style=\"color: #7f7f7f; text-decoration-color: #7f7f7f\">experiment.py</span></a><span style=\"color: #7f7f7f; text-decoration-color: #7f7f7f\">:</span><a href=\"file:///home/karan/workspace/fl-tutorial/venv/lib/python3.8/site-packages/openfl/interface/interactive_api/experiment.py#132\" target=\"_blank\"><span style=\"color: #7f7f7f; text-decoration-color: #7f7f7f\">132</span></a>\n",
       "</pre>\n"
      ],
      "text/plain": [
       "\u001b[2;36m          \u001b[0m\u001b[2;36m \u001b[0mMETRIC   Round \u001b[1;36m2\u001b[0m, collaborator Aggregator train result train_loss:       \u001b[1;36m0.538500\u001b[0m                                                   \u001b]8;id=959961;file:///home/karan/workspace/fl-tutorial/venv/lib/python3.8/site-packages/openfl/interface/interactive_api/experiment.py\u001b\\\u001b[2mexperiment.py\u001b[0m\u001b]8;;\u001b\\\u001b[2m:\u001b[0m\u001b]8;id=156941;file:///home/karan/workspace/fl-tutorial/venv/lib/python3.8/site-packages/openfl/interface/interactive_api/experiment.py#132\u001b\\\u001b[2m132\u001b[0m\u001b]8;;\u001b\\\n"
      ]
     },
     "metadata": {},
     "output_type": "display_data"
    },
    {
     "data": {
      "text/html": [
       "<pre style=\"white-space:pre;overflow-x:auto;line-height:normal;font-family:Menlo,'DejaVu Sans Mono',consolas,'Courier New',monospace\"><span style=\"color: #7fbfbf; text-decoration-color: #7fbfbf\">           </span>METRIC   Round <span style=\"color: #008080; text-decoration-color: #008080; font-weight: bold\">2</span>, collaborator Aggregator locally_tuned_model_validate result val_acc:   <span style=\"color: #008080; text-decoration-color: #008080; font-weight: bold\">0.730000</span>                                   <a href=\"file:///home/karan/workspace/fl-tutorial/venv/lib/python3.8/site-packages/openfl/interface/interactive_api/experiment.py\" target=\"_blank\"><span style=\"color: #7f7f7f; text-decoration-color: #7f7f7f\">experiment.py</span></a><span style=\"color: #7f7f7f; text-decoration-color: #7f7f7f\">:</span><a href=\"file:///home/karan/workspace/fl-tutorial/venv/lib/python3.8/site-packages/openfl/interface/interactive_api/experiment.py#132\" target=\"_blank\"><span style=\"color: #7f7f7f; text-decoration-color: #7f7f7f\">132</span></a>\n",
       "</pre>\n"
      ],
      "text/plain": [
       "\u001b[2;36m          \u001b[0m\u001b[2;36m \u001b[0mMETRIC   Round \u001b[1;36m2\u001b[0m, collaborator Aggregator locally_tuned_model_validate result val_acc:   \u001b[1;36m0.730000\u001b[0m                                   \u001b]8;id=557794;file:///home/karan/workspace/fl-tutorial/venv/lib/python3.8/site-packages/openfl/interface/interactive_api/experiment.py\u001b\\\u001b[2mexperiment.py\u001b[0m\u001b]8;;\u001b\\\u001b[2m:\u001b[0m\u001b]8;id=38601;file:///home/karan/workspace/fl-tutorial/venv/lib/python3.8/site-packages/openfl/interface/interactive_api/experiment.py#132\u001b\\\u001b[2m132\u001b[0m\u001b]8;;\u001b\\\n"
      ]
     },
     "metadata": {},
     "output_type": "display_data"
    },
    {
     "data": {
      "text/html": [
       "<pre style=\"white-space:pre;overflow-x:auto;line-height:normal;font-family:Menlo,'DejaVu Sans Mono',consolas,'Courier New',monospace\"><span style=\"color: #7fbfbf; text-decoration-color: #7fbfbf\">           </span>METRIC   Round <span style=\"color: #008080; text-decoration-color: #008080; font-weight: bold\">2</span>, collaborator Aggregator locally_tuned_model_validate result val_loss:  <span style=\"color: #008080; text-decoration-color: #008080; font-weight: bold\">0.567000</span>                                   <a href=\"file:///home/karan/workspace/fl-tutorial/venv/lib/python3.8/site-packages/openfl/interface/interactive_api/experiment.py\" target=\"_blank\"><span style=\"color: #7f7f7f; text-decoration-color: #7f7f7f\">experiment.py</span></a><span style=\"color: #7f7f7f; text-decoration-color: #7f7f7f\">:</span><a href=\"file:///home/karan/workspace/fl-tutorial/venv/lib/python3.8/site-packages/openfl/interface/interactive_api/experiment.py#132\" target=\"_blank\"><span style=\"color: #7f7f7f; text-decoration-color: #7f7f7f\">132</span></a>\n",
       "</pre>\n"
      ],
      "text/plain": [
       "\u001b[2;36m          \u001b[0m\u001b[2;36m \u001b[0mMETRIC   Round \u001b[1;36m2\u001b[0m, collaborator Aggregator locally_tuned_model_validate result val_loss:  \u001b[1;36m0.567000\u001b[0m                                   \u001b]8;id=879376;file:///home/karan/workspace/fl-tutorial/venv/lib/python3.8/site-packages/openfl/interface/interactive_api/experiment.py\u001b\\\u001b[2mexperiment.py\u001b[0m\u001b]8;;\u001b\\\u001b[2m:\u001b[0m\u001b]8;id=476712;file:///home/karan/workspace/fl-tutorial/venv/lib/python3.8/site-packages/openfl/interface/interactive_api/experiment.py#132\u001b\\\u001b[2m132\u001b[0m\u001b]8;;\u001b\\\n"
      ]
     },
     "metadata": {},
     "output_type": "display_data"
    },
    {
     "data": {
      "text/html": [
       "<pre style=\"white-space:pre;overflow-x:auto;line-height:normal;font-family:Menlo,'DejaVu Sans Mono',consolas,'Courier New',monospace\"><span style=\"color: #7fbfbf; text-decoration-color: #7fbfbf\">           </span>METRIC   Round <span style=\"color: #008080; text-decoration-color: #008080; font-weight: bold\">2</span>, collaborator Aggregator aggregated_model_validate result val_acc:      <span style=\"color: #008080; text-decoration-color: #008080; font-weight: bold\">0.733000</span>                                   <a href=\"file:///home/karan/workspace/fl-tutorial/venv/lib/python3.8/site-packages/openfl/interface/interactive_api/experiment.py\" target=\"_blank\"><span style=\"color: #7f7f7f; text-decoration-color: #7f7f7f\">experiment.py</span></a><span style=\"color: #7f7f7f; text-decoration-color: #7f7f7f\">:</span><a href=\"file:///home/karan/workspace/fl-tutorial/venv/lib/python3.8/site-packages/openfl/interface/interactive_api/experiment.py#132\" target=\"_blank\"><span style=\"color: #7f7f7f; text-decoration-color: #7f7f7f\">132</span></a>\n",
       "</pre>\n"
      ],
      "text/plain": [
       "\u001b[2;36m          \u001b[0m\u001b[2;36m \u001b[0mMETRIC   Round \u001b[1;36m2\u001b[0m, collaborator Aggregator aggregated_model_validate result val_acc:      \u001b[1;36m0.733000\u001b[0m                                   \u001b]8;id=316866;file:///home/karan/workspace/fl-tutorial/venv/lib/python3.8/site-packages/openfl/interface/interactive_api/experiment.py\u001b\\\u001b[2mexperiment.py\u001b[0m\u001b]8;;\u001b\\\u001b[2m:\u001b[0m\u001b]8;id=530268;file:///home/karan/workspace/fl-tutorial/venv/lib/python3.8/site-packages/openfl/interface/interactive_api/experiment.py#132\u001b\\\u001b[2m132\u001b[0m\u001b]8;;\u001b\\\n"
      ]
     },
     "metadata": {},
     "output_type": "display_data"
    },
    {
     "data": {
      "text/html": [
       "<pre style=\"white-space:pre;overflow-x:auto;line-height:normal;font-family:Menlo,'DejaVu Sans Mono',consolas,'Courier New',monospace\"><span style=\"color: #7fbfbf; text-decoration-color: #7fbfbf\">           </span>METRIC   Round <span style=\"color: #008080; text-decoration-color: #008080; font-weight: bold\">2</span>, collaborator Aggregator aggregated_model_validate result val_loss:     <span style=\"color: #008080; text-decoration-color: #008080; font-weight: bold\">0.575500</span>                                   <a href=\"file:///home/karan/workspace/fl-tutorial/venv/lib/python3.8/site-packages/openfl/interface/interactive_api/experiment.py\" target=\"_blank\"><span style=\"color: #7f7f7f; text-decoration-color: #7f7f7f\">experiment.py</span></a><span style=\"color: #7f7f7f; text-decoration-color: #7f7f7f\">:</span><a href=\"file:///home/karan/workspace/fl-tutorial/venv/lib/python3.8/site-packages/openfl/interface/interactive_api/experiment.py#132\" target=\"_blank\"><span style=\"color: #7f7f7f; text-decoration-color: #7f7f7f\">132</span></a>\n",
       "</pre>\n"
      ],
      "text/plain": [
       "\u001b[2;36m          \u001b[0m\u001b[2;36m \u001b[0mMETRIC   Round \u001b[1;36m2\u001b[0m, collaborator Aggregator aggregated_model_validate result val_loss:     \u001b[1;36m0.575500\u001b[0m                                   \u001b]8;id=395304;file:///home/karan/workspace/fl-tutorial/venv/lib/python3.8/site-packages/openfl/interface/interactive_api/experiment.py\u001b\\\u001b[2mexperiment.py\u001b[0m\u001b]8;;\u001b\\\u001b[2m:\u001b[0m\u001b]8;id=257434;file:///home/karan/workspace/fl-tutorial/venv/lib/python3.8/site-packages/openfl/interface/interactive_api/experiment.py#132\u001b\\\u001b[2m132\u001b[0m\u001b]8;;\u001b\\\n"
      ]
     },
     "metadata": {},
     "output_type": "display_data"
    }
   ],
   "source": [
    "from openfl.interface.interactive_api.experiment import FLExperiment\n",
    "\n",
    "fl_experiment = FLExperiment(federation=federation, experiment_name='synapsemnist3d_experiment')\n",
    "fl_experiment.start(model_provider=MI,\n",
    "                    task_keeper=TI,\n",
    "                    data_loader=fed_dataset,\n",
    "                    rounds_to_train=3,\n",
    "                    device_assignment_policy='CUDA_PREFERRED')\n",
    "\n",
    "# This method streams logs from the director, and also saves logs in the tensorboard format (by default)\n",
    "fl_experiment.stream_metrics()"
   ]
  },
  {
   "cell_type": "markdown",
   "id": "9e365766-4ea6-40bc-96ae-a183274e8b8c",
   "metadata": {
    "id": "9e365766-4ea6-40bc-96ae-a183274e8b8c"
   },
   "source": [
    "## Cleanup"
   ]
  },
  {
   "cell_type": "code",
   "execution_count": 62,
   "id": "e5d793be-6c20-4a22-bad7-c082c1ee76ca",
   "metadata": {
    "id": "e5d793be-6c20-4a22-bad7-c082c1ee76ca"
   },
   "outputs": [
    {
     "data": {
      "text/plain": [
       "[None, None]"
      ]
     },
     "execution_count": 62,
     "metadata": {},
     "output_type": "execute_result"
    }
   ],
   "source": [
    "# To stop all services run\n",
    "!pkill fx\n",
    "[os.remove(path) for path in config_paths]"
   ]
  }
 ],
 "metadata": {
  "colab": {
   "collapsed_sections": [],
   "provenance": []
  },
  "kernelspec": {
   "display_name": "Python 3.8.0 ('venv': venv)",
   "language": "python",
   "name": "python3"
  },
  "language_info": {
   "codemirror_mode": {
    "name": "ipython",
    "version": 3
   },
   "file_extension": ".py",
   "mimetype": "text/x-python",
   "name": "python",
   "nbconvert_exporter": "python",
   "pygments_lexer": "ipython3",
   "version": "3.8.0"
  },
  "vscode": {
   "interpreter": {
    "hash": "f43db3e1b37af6d897db69efad3b1c690ae8b3c11b26caaa91054cfebd4932bb"
   }
  },
  "widgets": {
   "application/vnd.jupyter.widget-state+json": {
    "0fc8a27567a04d4baad52c0320d849ab": {
     "model_module": "@jupyter-widgets/controls",
     "model_module_version": "1.5.0",
     "model_name": "ProgressStyleModel",
     "state": {
      "_model_module": "@jupyter-widgets/controls",
      "_model_module_version": "1.5.0",
      "_model_name": "ProgressStyleModel",
      "_view_count": null,
      "_view_module": "@jupyter-widgets/base",
      "_view_module_version": "1.2.0",
      "_view_name": "StyleView",
      "bar_color": null,
      "description_width": ""
     }
    },
    "1fc6b98994cb454fa65021f97359f53f": {
     "model_module": "@jupyter-widgets/base",
     "model_module_version": "1.2.0",
     "model_name": "LayoutModel",
     "state": {
      "_model_module": "@jupyter-widgets/base",
      "_model_module_version": "1.2.0",
      "_model_name": "LayoutModel",
      "_view_count": null,
      "_view_module": "@jupyter-widgets/base",
      "_view_module_version": "1.2.0",
      "_view_name": "LayoutView",
      "align_content": null,
      "align_items": null,
      "align_self": null,
      "border": null,
      "bottom": null,
      "display": null,
      "flex": null,
      "flex_flow": null,
      "grid_area": null,
      "grid_auto_columns": null,
      "grid_auto_flow": null,
      "grid_auto_rows": null,
      "grid_column": null,
      "grid_gap": null,
      "grid_row": null,
      "grid_template_areas": null,
      "grid_template_columns": null,
      "grid_template_rows": null,
      "height": null,
      "justify_content": null,
      "justify_items": null,
      "left": null,
      "margin": null,
      "max_height": null,
      "max_width": null,
      "min_height": null,
      "min_width": null,
      "object_fit": null,
      "object_position": null,
      "order": null,
      "overflow": null,
      "overflow_x": null,
      "overflow_y": null,
      "padding": null,
      "right": null,
      "top": null,
      "visibility": null,
      "width": null
     }
    },
    "3937763c9cad4f10b116cd93f80dbe09": {
     "model_module": "@jupyter-widgets/base",
     "model_module_version": "1.2.0",
     "model_name": "LayoutModel",
     "state": {
      "_model_module": "@jupyter-widgets/base",
      "_model_module_version": "1.2.0",
      "_model_name": "LayoutModel",
      "_view_count": null,
      "_view_module": "@jupyter-widgets/base",
      "_view_module_version": "1.2.0",
      "_view_name": "LayoutView",
      "align_content": null,
      "align_items": null,
      "align_self": null,
      "border": null,
      "bottom": null,
      "display": null,
      "flex": null,
      "flex_flow": null,
      "grid_area": null,
      "grid_auto_columns": null,
      "grid_auto_flow": null,
      "grid_auto_rows": null,
      "grid_column": null,
      "grid_gap": null,
      "grid_row": null,
      "grid_template_areas": null,
      "grid_template_columns": null,
      "grid_template_rows": null,
      "height": null,
      "justify_content": null,
      "justify_items": null,
      "left": null,
      "margin": null,
      "max_height": null,
      "max_width": null,
      "min_height": null,
      "min_width": null,
      "object_fit": null,
      "object_position": null,
      "order": null,
      "overflow": null,
      "overflow_x": null,
      "overflow_y": null,
      "padding": null,
      "right": null,
      "top": null,
      "visibility": null,
      "width": null
     }
    },
    "79b4367f01844bc1846b318bbc4e84b5": {
     "model_module": "@jupyter-widgets/controls",
     "model_module_version": "1.5.0",
     "model_name": "DescriptionStyleModel",
     "state": {
      "_model_module": "@jupyter-widgets/controls",
      "_model_module_version": "1.5.0",
      "_model_name": "DescriptionStyleModel",
      "_view_count": null,
      "_view_module": "@jupyter-widgets/base",
      "_view_module_version": "1.2.0",
      "_view_name": "StyleView",
      "description_width": ""
     }
    },
    "868c8d7419b844d6875421bb75708bf0": {
     "model_module": "@jupyter-widgets/base",
     "model_module_version": "1.2.0",
     "model_name": "LayoutModel",
     "state": {
      "_model_module": "@jupyter-widgets/base",
      "_model_module_version": "1.2.0",
      "_model_name": "LayoutModel",
      "_view_count": null,
      "_view_module": "@jupyter-widgets/base",
      "_view_module_version": "1.2.0",
      "_view_name": "LayoutView",
      "align_content": null,
      "align_items": null,
      "align_self": null,
      "border": null,
      "bottom": null,
      "display": null,
      "flex": null,
      "flex_flow": null,
      "grid_area": null,
      "grid_auto_columns": null,
      "grid_auto_flow": null,
      "grid_auto_rows": null,
      "grid_column": null,
      "grid_gap": null,
      "grid_row": null,
      "grid_template_areas": null,
      "grid_template_columns": null,
      "grid_template_rows": null,
      "height": null,
      "justify_content": null,
      "justify_items": null,
      "left": null,
      "margin": null,
      "max_height": null,
      "max_width": null,
      "min_height": null,
      "min_width": null,
      "object_fit": null,
      "object_position": null,
      "order": null,
      "overflow": null,
      "overflow_x": null,
      "overflow_y": null,
      "padding": null,
      "right": null,
      "top": null,
      "visibility": null,
      "width": null
     }
    },
    "92ba5282ebab4b94bd69fe25afd667d6": {
     "model_module": "@jupyter-widgets/controls",
     "model_module_version": "1.5.0",
     "model_name": "HTMLModel",
     "state": {
      "_dom_classes": [],
      "_model_module": "@jupyter-widgets/controls",
      "_model_module_version": "1.5.0",
      "_model_name": "HTMLModel",
      "_view_count": null,
      "_view_module": "@jupyter-widgets/controls",
      "_view_module_version": "1.5.0",
      "_view_name": "HTMLView",
      "description": "",
      "description_tooltip": null,
      "layout": "IPY_MODEL_868c8d7419b844d6875421bb75708bf0",
      "placeholder": "​",
      "style": "IPY_MODEL_79b4367f01844bc1846b318bbc4e84b5",
      "value": " 38034583/38034583 [00:35&lt;00:00, 3013484.65it/s]"
     }
    },
    "98d21bfd65b84efea7e3230a56a649a1": {
     "model_module": "@jupyter-widgets/controls",
     "model_module_version": "1.5.0",
     "model_name": "HTMLModel",
     "state": {
      "_dom_classes": [],
      "_model_module": "@jupyter-widgets/controls",
      "_model_module_version": "1.5.0",
      "_model_name": "HTMLModel",
      "_view_count": null,
      "_view_module": "@jupyter-widgets/controls",
      "_view_module_version": "1.5.0",
      "_view_name": "HTMLView",
      "description": "",
      "description_tooltip": null,
      "layout": "IPY_MODEL_1fc6b98994cb454fa65021f97359f53f",
      "placeholder": "​",
      "style": "IPY_MODEL_d9ee140346a8415b87647ab37a263fe2",
      "value": "100%"
     }
    },
    "afef3d94eb3f4119b0cccf1de42a09de": {
     "model_module": "@jupyter-widgets/base",
     "model_module_version": "1.2.0",
     "model_name": "LayoutModel",
     "state": {
      "_model_module": "@jupyter-widgets/base",
      "_model_module_version": "1.2.0",
      "_model_name": "LayoutModel",
      "_view_count": null,
      "_view_module": "@jupyter-widgets/base",
      "_view_module_version": "1.2.0",
      "_view_name": "LayoutView",
      "align_content": null,
      "align_items": null,
      "align_self": null,
      "border": null,
      "bottom": null,
      "display": null,
      "flex": null,
      "flex_flow": null,
      "grid_area": null,
      "grid_auto_columns": null,
      "grid_auto_flow": null,
      "grid_auto_rows": null,
      "grid_column": null,
      "grid_gap": null,
      "grid_row": null,
      "grid_template_areas": null,
      "grid_template_columns": null,
      "grid_template_rows": null,
      "height": null,
      "justify_content": null,
      "justify_items": null,
      "left": null,
      "margin": null,
      "max_height": null,
      "max_width": null,
      "min_height": null,
      "min_width": null,
      "object_fit": null,
      "object_position": null,
      "order": null,
      "overflow": null,
      "overflow_x": null,
      "overflow_y": null,
      "padding": null,
      "right": null,
      "top": null,
      "visibility": null,
      "width": null
     }
    },
    "c41b087ab1854ff585174c031422f6ca": {
     "model_module": "@jupyter-widgets/controls",
     "model_module_version": "1.5.0",
     "model_name": "FloatProgressModel",
     "state": {
      "_dom_classes": [],
      "_model_module": "@jupyter-widgets/controls",
      "_model_module_version": "1.5.0",
      "_model_name": "FloatProgressModel",
      "_view_count": null,
      "_view_module": "@jupyter-widgets/controls",
      "_view_module_version": "1.5.0",
      "_view_name": "ProgressView",
      "bar_style": "success",
      "description": "",
      "description_tooltip": null,
      "layout": "IPY_MODEL_3937763c9cad4f10b116cd93f80dbe09",
      "max": 38034583,
      "min": 0,
      "orientation": "horizontal",
      "style": "IPY_MODEL_0fc8a27567a04d4baad52c0320d849ab",
      "value": 38034583
     }
    },
    "c8ff01957047400fa84f62b84035a1be": {
     "model_module": "@jupyter-widgets/controls",
     "model_module_version": "1.5.0",
     "model_name": "HBoxModel",
     "state": {
      "_dom_classes": [],
      "_model_module": "@jupyter-widgets/controls",
      "_model_module_version": "1.5.0",
      "_model_name": "HBoxModel",
      "_view_count": null,
      "_view_module": "@jupyter-widgets/controls",
      "_view_module_version": "1.5.0",
      "_view_name": "HBoxView",
      "box_style": "",
      "children": [
       "IPY_MODEL_98d21bfd65b84efea7e3230a56a649a1",
       "IPY_MODEL_c41b087ab1854ff585174c031422f6ca",
       "IPY_MODEL_92ba5282ebab4b94bd69fe25afd667d6"
      ],
      "layout": "IPY_MODEL_afef3d94eb3f4119b0cccf1de42a09de"
     }
    },
    "d9ee140346a8415b87647ab37a263fe2": {
     "model_module": "@jupyter-widgets/controls",
     "model_module_version": "1.5.0",
     "model_name": "DescriptionStyleModel",
     "state": {
      "_model_module": "@jupyter-widgets/controls",
      "_model_module_version": "1.5.0",
      "_model_name": "DescriptionStyleModel",
      "_view_count": null,
      "_view_module": "@jupyter-widgets/base",
      "_view_module_version": "1.2.0",
      "_view_name": "StyleView",
      "description_width": ""
     }
    }
   }
  }
 },
 "nbformat": 4,
 "nbformat_minor": 5
}
